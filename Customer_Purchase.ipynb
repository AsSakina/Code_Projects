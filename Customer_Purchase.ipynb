{
  "nbformat": 4,
  "nbformat_minor": 0,
  "metadata": {
    "colab": {
      "provenance": [],
      "collapsed_sections": [
        "xEB27mohqnnw",
        "Gus9WzlEv5oQ",
        "q43-fN_NF2V1"
      ],
      "authorship_tag": "ABX9TyPXCR+9QU/W6Fsq+jg2PU9g",
      "include_colab_link": true
    },
    "kernelspec": {
      "name": "python3",
      "display_name": "Python 3"
    },
    "language_info": {
      "name": "python"
    }
  },
  "cells": [
    {
      "cell_type": "markdown",
      "metadata": {
        "id": "view-in-github",
        "colab_type": "text"
      },
      "source": [
        "<a href=\"https://colab.research.google.com/github/AsSakina/Code_Projects/blob/main/Customer_Purchase.ipynb\" target=\"_parent\"><img src=\"https://colab.research.google.com/assets/colab-badge.svg\" alt=\"Open In Colab\"/></a>"
      ]
    },
    {
      "cell_type": "markdown",
      "source": [
        "#Importing Libraries"
      ],
      "metadata": {
        "id": "PHsPrY3zj0fU"
      }
    },
    {
      "cell_type": "code",
      "source": [
        "import pandas as pd\n",
        "import numpy as np\n",
        "import matplotlib.pyplot as plt\n",
        "import seaborn as sns\n",
        "import statsmodels.api as sm\n",
        "from io import StringIO\n",
        "import plotly.graph_objects as go\n",
        "from scipy.stats import mstats\n",
        "from scipy.stats import shapiro\n",
        "from sklearn.preprocessing import PowerTransformer\n",
        "from scipy import stats\n",
        "import plotly.express as px\n",
        "import matplotlib.pyplot as plt\n",
        "import seaborn as sns\n",
        "import pandas as pd\n",
        "from sklearn.model_selection import train_test_split\n",
        "from sklearn.linear_model import LinearRegression\n",
        "from sklearn.linear_model import HuberRegressor\n",
        "from sklearn.metrics import mean_squared_error, r2_score, mean_absolute_error\n",
        "from sklearn.metrics import mean_squared_error"
      ],
      "metadata": {
        "id": "vv9uX5f90BqV"
      },
      "execution_count": 980,
      "outputs": []
    },
    {
      "cell_type": "markdown",
      "source": [
        "#Data Explorer"
      ],
      "metadata": {
        "id": "xEB27mohqnnw"
      }
    },
    {
      "cell_type": "code",
      "execution_count": 981,
      "metadata": {
        "id": "8wOAzKS6h3ob"
      },
      "outputs": [],
      "source": [
        "#Load our dataset\n",
        "\n",
        "data = pd.read_csv('technical_case_data.csv')"
      ]
    },
    {
      "cell_type": "code",
      "source": [
        "#Print out the dataset\n",
        "\n",
        "data"
      ],
      "metadata": {
        "colab": {
          "base_uri": "https://localhost:8080/",
          "height": 424
        },
        "id": "gxh0xwmMkFQx",
        "outputId": "25c999a1-1d98-4961-eb34-7ed75ea73ca2"
      },
      "execution_count": 982,
      "outputs": [
        {
          "output_type": "execute_result",
          "data": {
            "text/plain": [
              "     CustomerID         PurchaseDate ProductID ProductCategory  ProductPrice  \\\n",
              "0             1  2024-04-06 03:04:22      P016     Accessories    222.099545   \n",
              "1             2  2024-04-29 22:21:13      P011        Clothing    400.038092   \n",
              "2             3  2024-04-27 09:00:55      P099     Electronics    959.102132   \n",
              "3             4  2024-04-28 22:35:11      P039     Electronics    400.024264   \n",
              "4             5  2024-04-08 14:14:58      P073     Accessories    654.112213   \n",
              "..          ...                  ...       ...             ...           ...   \n",
              "995         996  2024-04-26 05:10:14      P014     Accessories     53.959260   \n",
              "996         997  2024-04-10 08:22:12      P093     Accessories     36.747983   \n",
              "997         998  2024-04-10 20:48:17      P067     Accessories    612.670878   \n",
              "998         999  2024-04-30 08:14:59      P046        Clothing    356.695588   \n",
              "999        1000  2024-04-10 06:31:05      P002        Clothing    774.204504   \n",
              "\n",
              "     Quantity   TotalPrice  \n",
              "0           4   888.398178  \n",
              "1           2   800.076183  \n",
              "2           2  1918.204263  \n",
              "3           2   800.048529  \n",
              "4           4  2616.448850  \n",
              "..        ...          ...  \n",
              "995         4   215.837039  \n",
              "996         2    73.495965  \n",
              "997         4  2450.683512  \n",
              "998         1   356.695588  \n",
              "999         4  3096.818017  \n",
              "\n",
              "[1000 rows x 7 columns]"
            ],
            "text/html": [
              "\n",
              "  <div id=\"df-6bb8b1cc-c47a-42a7-9fbc-a7428a6e6ce3\" class=\"colab-df-container\">\n",
              "    <div>\n",
              "<style scoped>\n",
              "    .dataframe tbody tr th:only-of-type {\n",
              "        vertical-align: middle;\n",
              "    }\n",
              "\n",
              "    .dataframe tbody tr th {\n",
              "        vertical-align: top;\n",
              "    }\n",
              "\n",
              "    .dataframe thead th {\n",
              "        text-align: right;\n",
              "    }\n",
              "</style>\n",
              "<table border=\"1\" class=\"dataframe\">\n",
              "  <thead>\n",
              "    <tr style=\"text-align: right;\">\n",
              "      <th></th>\n",
              "      <th>CustomerID</th>\n",
              "      <th>PurchaseDate</th>\n",
              "      <th>ProductID</th>\n",
              "      <th>ProductCategory</th>\n",
              "      <th>ProductPrice</th>\n",
              "      <th>Quantity</th>\n",
              "      <th>TotalPrice</th>\n",
              "    </tr>\n",
              "  </thead>\n",
              "  <tbody>\n",
              "    <tr>\n",
              "      <th>0</th>\n",
              "      <td>1</td>\n",
              "      <td>2024-04-06 03:04:22</td>\n",
              "      <td>P016</td>\n",
              "      <td>Accessories</td>\n",
              "      <td>222.099545</td>\n",
              "      <td>4</td>\n",
              "      <td>888.398178</td>\n",
              "    </tr>\n",
              "    <tr>\n",
              "      <th>1</th>\n",
              "      <td>2</td>\n",
              "      <td>2024-04-29 22:21:13</td>\n",
              "      <td>P011</td>\n",
              "      <td>Clothing</td>\n",
              "      <td>400.038092</td>\n",
              "      <td>2</td>\n",
              "      <td>800.076183</td>\n",
              "    </tr>\n",
              "    <tr>\n",
              "      <th>2</th>\n",
              "      <td>3</td>\n",
              "      <td>2024-04-27 09:00:55</td>\n",
              "      <td>P099</td>\n",
              "      <td>Electronics</td>\n",
              "      <td>959.102132</td>\n",
              "      <td>2</td>\n",
              "      <td>1918.204263</td>\n",
              "    </tr>\n",
              "    <tr>\n",
              "      <th>3</th>\n",
              "      <td>4</td>\n",
              "      <td>2024-04-28 22:35:11</td>\n",
              "      <td>P039</td>\n",
              "      <td>Electronics</td>\n",
              "      <td>400.024264</td>\n",
              "      <td>2</td>\n",
              "      <td>800.048529</td>\n",
              "    </tr>\n",
              "    <tr>\n",
              "      <th>4</th>\n",
              "      <td>5</td>\n",
              "      <td>2024-04-08 14:14:58</td>\n",
              "      <td>P073</td>\n",
              "      <td>Accessories</td>\n",
              "      <td>654.112213</td>\n",
              "      <td>4</td>\n",
              "      <td>2616.448850</td>\n",
              "    </tr>\n",
              "    <tr>\n",
              "      <th>...</th>\n",
              "      <td>...</td>\n",
              "      <td>...</td>\n",
              "      <td>...</td>\n",
              "      <td>...</td>\n",
              "      <td>...</td>\n",
              "      <td>...</td>\n",
              "      <td>...</td>\n",
              "    </tr>\n",
              "    <tr>\n",
              "      <th>995</th>\n",
              "      <td>996</td>\n",
              "      <td>2024-04-26 05:10:14</td>\n",
              "      <td>P014</td>\n",
              "      <td>Accessories</td>\n",
              "      <td>53.959260</td>\n",
              "      <td>4</td>\n",
              "      <td>215.837039</td>\n",
              "    </tr>\n",
              "    <tr>\n",
              "      <th>996</th>\n",
              "      <td>997</td>\n",
              "      <td>2024-04-10 08:22:12</td>\n",
              "      <td>P093</td>\n",
              "      <td>Accessories</td>\n",
              "      <td>36.747983</td>\n",
              "      <td>2</td>\n",
              "      <td>73.495965</td>\n",
              "    </tr>\n",
              "    <tr>\n",
              "      <th>997</th>\n",
              "      <td>998</td>\n",
              "      <td>2024-04-10 20:48:17</td>\n",
              "      <td>P067</td>\n",
              "      <td>Accessories</td>\n",
              "      <td>612.670878</td>\n",
              "      <td>4</td>\n",
              "      <td>2450.683512</td>\n",
              "    </tr>\n",
              "    <tr>\n",
              "      <th>998</th>\n",
              "      <td>999</td>\n",
              "      <td>2024-04-30 08:14:59</td>\n",
              "      <td>P046</td>\n",
              "      <td>Clothing</td>\n",
              "      <td>356.695588</td>\n",
              "      <td>1</td>\n",
              "      <td>356.695588</td>\n",
              "    </tr>\n",
              "    <tr>\n",
              "      <th>999</th>\n",
              "      <td>1000</td>\n",
              "      <td>2024-04-10 06:31:05</td>\n",
              "      <td>P002</td>\n",
              "      <td>Clothing</td>\n",
              "      <td>774.204504</td>\n",
              "      <td>4</td>\n",
              "      <td>3096.818017</td>\n",
              "    </tr>\n",
              "  </tbody>\n",
              "</table>\n",
              "<p>1000 rows × 7 columns</p>\n",
              "</div>\n",
              "    <div class=\"colab-df-buttons\">\n",
              "\n",
              "  <div class=\"colab-df-container\">\n",
              "    <button class=\"colab-df-convert\" onclick=\"convertToInteractive('df-6bb8b1cc-c47a-42a7-9fbc-a7428a6e6ce3')\"\n",
              "            title=\"Convert this dataframe to an interactive table.\"\n",
              "            style=\"display:none;\">\n",
              "\n",
              "  <svg xmlns=\"http://www.w3.org/2000/svg\" height=\"24px\" viewBox=\"0 -960 960 960\">\n",
              "    <path d=\"M120-120v-720h720v720H120Zm60-500h600v-160H180v160Zm220 220h160v-160H400v160Zm0 220h160v-160H400v160ZM180-400h160v-160H180v160Zm440 0h160v-160H620v160ZM180-180h160v-160H180v160Zm440 0h160v-160H620v160Z\"/>\n",
              "  </svg>\n",
              "    </button>\n",
              "\n",
              "  <style>\n",
              "    .colab-df-container {\n",
              "      display:flex;\n",
              "      gap: 12px;\n",
              "    }\n",
              "\n",
              "    .colab-df-convert {\n",
              "      background-color: #E8F0FE;\n",
              "      border: none;\n",
              "      border-radius: 50%;\n",
              "      cursor: pointer;\n",
              "      display: none;\n",
              "      fill: #1967D2;\n",
              "      height: 32px;\n",
              "      padding: 0 0 0 0;\n",
              "      width: 32px;\n",
              "    }\n",
              "\n",
              "    .colab-df-convert:hover {\n",
              "      background-color: #E2EBFA;\n",
              "      box-shadow: 0px 1px 2px rgba(60, 64, 67, 0.3), 0px 1px 3px 1px rgba(60, 64, 67, 0.15);\n",
              "      fill: #174EA6;\n",
              "    }\n",
              "\n",
              "    .colab-df-buttons div {\n",
              "      margin-bottom: 4px;\n",
              "    }\n",
              "\n",
              "    [theme=dark] .colab-df-convert {\n",
              "      background-color: #3B4455;\n",
              "      fill: #D2E3FC;\n",
              "    }\n",
              "\n",
              "    [theme=dark] .colab-df-convert:hover {\n",
              "      background-color: #434B5C;\n",
              "      box-shadow: 0px 1px 3px 1px rgba(0, 0, 0, 0.15);\n",
              "      filter: drop-shadow(0px 1px 2px rgba(0, 0, 0, 0.3));\n",
              "      fill: #FFFFFF;\n",
              "    }\n",
              "  </style>\n",
              "\n",
              "    <script>\n",
              "      const buttonEl =\n",
              "        document.querySelector('#df-6bb8b1cc-c47a-42a7-9fbc-a7428a6e6ce3 button.colab-df-convert');\n",
              "      buttonEl.style.display =\n",
              "        google.colab.kernel.accessAllowed ? 'block' : 'none';\n",
              "\n",
              "      async function convertToInteractive(key) {\n",
              "        const element = document.querySelector('#df-6bb8b1cc-c47a-42a7-9fbc-a7428a6e6ce3');\n",
              "        const dataTable =\n",
              "          await google.colab.kernel.invokeFunction('convertToInteractive',\n",
              "                                                    [key], {});\n",
              "        if (!dataTable) return;\n",
              "\n",
              "        const docLinkHtml = 'Like what you see? Visit the ' +\n",
              "          '<a target=\"_blank\" href=https://colab.research.google.com/notebooks/data_table.ipynb>data table notebook</a>'\n",
              "          + ' to learn more about interactive tables.';\n",
              "        element.innerHTML = '';\n",
              "        dataTable['output_type'] = 'display_data';\n",
              "        await google.colab.output.renderOutput(dataTable, element);\n",
              "        const docLink = document.createElement('div');\n",
              "        docLink.innerHTML = docLinkHtml;\n",
              "        element.appendChild(docLink);\n",
              "      }\n",
              "    </script>\n",
              "  </div>\n",
              "\n",
              "\n",
              "<div id=\"df-13c73abc-5fa9-4f83-a07f-dd671d99b300\">\n",
              "  <button class=\"colab-df-quickchart\" onclick=\"quickchart('df-13c73abc-5fa9-4f83-a07f-dd671d99b300')\"\n",
              "            title=\"Suggest charts\"\n",
              "            style=\"display:none;\">\n",
              "\n",
              "<svg xmlns=\"http://www.w3.org/2000/svg\" height=\"24px\"viewBox=\"0 0 24 24\"\n",
              "     width=\"24px\">\n",
              "    <g>\n",
              "        <path d=\"M19 3H5c-1.1 0-2 .9-2 2v14c0 1.1.9 2 2 2h14c1.1 0 2-.9 2-2V5c0-1.1-.9-2-2-2zM9 17H7v-7h2v7zm4 0h-2V7h2v10zm4 0h-2v-4h2v4z\"/>\n",
              "    </g>\n",
              "</svg>\n",
              "  </button>\n",
              "\n",
              "<style>\n",
              "  .colab-df-quickchart {\n",
              "      --bg-color: #E8F0FE;\n",
              "      --fill-color: #1967D2;\n",
              "      --hover-bg-color: #E2EBFA;\n",
              "      --hover-fill-color: #174EA6;\n",
              "      --disabled-fill-color: #AAA;\n",
              "      --disabled-bg-color: #DDD;\n",
              "  }\n",
              "\n",
              "  [theme=dark] .colab-df-quickchart {\n",
              "      --bg-color: #3B4455;\n",
              "      --fill-color: #D2E3FC;\n",
              "      --hover-bg-color: #434B5C;\n",
              "      --hover-fill-color: #FFFFFF;\n",
              "      --disabled-bg-color: #3B4455;\n",
              "      --disabled-fill-color: #666;\n",
              "  }\n",
              "\n",
              "  .colab-df-quickchart {\n",
              "    background-color: var(--bg-color);\n",
              "    border: none;\n",
              "    border-radius: 50%;\n",
              "    cursor: pointer;\n",
              "    display: none;\n",
              "    fill: var(--fill-color);\n",
              "    height: 32px;\n",
              "    padding: 0;\n",
              "    width: 32px;\n",
              "  }\n",
              "\n",
              "  .colab-df-quickchart:hover {\n",
              "    background-color: var(--hover-bg-color);\n",
              "    box-shadow: 0 1px 2px rgba(60, 64, 67, 0.3), 0 1px 3px 1px rgba(60, 64, 67, 0.15);\n",
              "    fill: var(--button-hover-fill-color);\n",
              "  }\n",
              "\n",
              "  .colab-df-quickchart-complete:disabled,\n",
              "  .colab-df-quickchart-complete:disabled:hover {\n",
              "    background-color: var(--disabled-bg-color);\n",
              "    fill: var(--disabled-fill-color);\n",
              "    box-shadow: none;\n",
              "  }\n",
              "\n",
              "  .colab-df-spinner {\n",
              "    border: 2px solid var(--fill-color);\n",
              "    border-color: transparent;\n",
              "    border-bottom-color: var(--fill-color);\n",
              "    animation:\n",
              "      spin 1s steps(1) infinite;\n",
              "  }\n",
              "\n",
              "  @keyframes spin {\n",
              "    0% {\n",
              "      border-color: transparent;\n",
              "      border-bottom-color: var(--fill-color);\n",
              "      border-left-color: var(--fill-color);\n",
              "    }\n",
              "    20% {\n",
              "      border-color: transparent;\n",
              "      border-left-color: var(--fill-color);\n",
              "      border-top-color: var(--fill-color);\n",
              "    }\n",
              "    30% {\n",
              "      border-color: transparent;\n",
              "      border-left-color: var(--fill-color);\n",
              "      border-top-color: var(--fill-color);\n",
              "      border-right-color: var(--fill-color);\n",
              "    }\n",
              "    40% {\n",
              "      border-color: transparent;\n",
              "      border-right-color: var(--fill-color);\n",
              "      border-top-color: var(--fill-color);\n",
              "    }\n",
              "    60% {\n",
              "      border-color: transparent;\n",
              "      border-right-color: var(--fill-color);\n",
              "    }\n",
              "    80% {\n",
              "      border-color: transparent;\n",
              "      border-right-color: var(--fill-color);\n",
              "      border-bottom-color: var(--fill-color);\n",
              "    }\n",
              "    90% {\n",
              "      border-color: transparent;\n",
              "      border-bottom-color: var(--fill-color);\n",
              "    }\n",
              "  }\n",
              "</style>\n",
              "\n",
              "  <script>\n",
              "    async function quickchart(key) {\n",
              "      const quickchartButtonEl =\n",
              "        document.querySelector('#' + key + ' button');\n",
              "      quickchartButtonEl.disabled = true;  // To prevent multiple clicks.\n",
              "      quickchartButtonEl.classList.add('colab-df-spinner');\n",
              "      try {\n",
              "        const charts = await google.colab.kernel.invokeFunction(\n",
              "            'suggestCharts', [key], {});\n",
              "      } catch (error) {\n",
              "        console.error('Error during call to suggestCharts:', error);\n",
              "      }\n",
              "      quickchartButtonEl.classList.remove('colab-df-spinner');\n",
              "      quickchartButtonEl.classList.add('colab-df-quickchart-complete');\n",
              "    }\n",
              "    (() => {\n",
              "      let quickchartButtonEl =\n",
              "        document.querySelector('#df-13c73abc-5fa9-4f83-a07f-dd671d99b300 button');\n",
              "      quickchartButtonEl.style.display =\n",
              "        google.colab.kernel.accessAllowed ? 'block' : 'none';\n",
              "    })();\n",
              "  </script>\n",
              "</div>\n",
              "\n",
              "  <div id=\"id_99e46204-10e4-418f-9b0e-3e1462a266ba\">\n",
              "    <style>\n",
              "      .colab-df-generate {\n",
              "        background-color: #E8F0FE;\n",
              "        border: none;\n",
              "        border-radius: 50%;\n",
              "        cursor: pointer;\n",
              "        display: none;\n",
              "        fill: #1967D2;\n",
              "        height: 32px;\n",
              "        padding: 0 0 0 0;\n",
              "        width: 32px;\n",
              "      }\n",
              "\n",
              "      .colab-df-generate:hover {\n",
              "        background-color: #E2EBFA;\n",
              "        box-shadow: 0px 1px 2px rgba(60, 64, 67, 0.3), 0px 1px 3px 1px rgba(60, 64, 67, 0.15);\n",
              "        fill: #174EA6;\n",
              "      }\n",
              "\n",
              "      [theme=dark] .colab-df-generate {\n",
              "        background-color: #3B4455;\n",
              "        fill: #D2E3FC;\n",
              "      }\n",
              "\n",
              "      [theme=dark] .colab-df-generate:hover {\n",
              "        background-color: #434B5C;\n",
              "        box-shadow: 0px 1px 3px 1px rgba(0, 0, 0, 0.15);\n",
              "        filter: drop-shadow(0px 1px 2px rgba(0, 0, 0, 0.3));\n",
              "        fill: #FFFFFF;\n",
              "      }\n",
              "    </style>\n",
              "    <button class=\"colab-df-generate\" onclick=\"generateWithVariable('data')\"\n",
              "            title=\"Generate code using this dataframe.\"\n",
              "            style=\"display:none;\">\n",
              "\n",
              "  <svg xmlns=\"http://www.w3.org/2000/svg\" height=\"24px\"viewBox=\"0 0 24 24\"\n",
              "       width=\"24px\">\n",
              "    <path d=\"M7,19H8.4L18.45,9,17,7.55,7,17.6ZM5,21V16.75L18.45,3.32a2,2,0,0,1,2.83,0l1.4,1.43a1.91,1.91,0,0,1,.58,1.4,1.91,1.91,0,0,1-.58,1.4L9.25,21ZM18.45,9,17,7.55Zm-12,3A5.31,5.31,0,0,0,4.9,8.1,5.31,5.31,0,0,0,1,6.5,5.31,5.31,0,0,0,4.9,4.9,5.31,5.31,0,0,0,6.5,1,5.31,5.31,0,0,0,8.1,4.9,5.31,5.31,0,0,0,12,6.5,5.46,5.46,0,0,0,6.5,12Z\"/>\n",
              "  </svg>\n",
              "    </button>\n",
              "    <script>\n",
              "      (() => {\n",
              "      const buttonEl =\n",
              "        document.querySelector('#id_99e46204-10e4-418f-9b0e-3e1462a266ba button.colab-df-generate');\n",
              "      buttonEl.style.display =\n",
              "        google.colab.kernel.accessAllowed ? 'block' : 'none';\n",
              "\n",
              "      buttonEl.onclick = () => {\n",
              "        google.colab.notebook.generateWithVariable('data');\n",
              "      }\n",
              "      })();\n",
              "    </script>\n",
              "  </div>\n",
              "\n",
              "    </div>\n",
              "  </div>\n"
            ],
            "application/vnd.google.colaboratory.intrinsic+json": {
              "type": "dataframe",
              "variable_name": "data",
              "summary": "{\n  \"name\": \"data\",\n  \"rows\": 1000,\n  \"fields\": [\n    {\n      \"column\": \"CustomerID\",\n      \"properties\": {\n        \"dtype\": \"number\",\n        \"std\": 288,\n        \"min\": 1,\n        \"max\": 1000,\n        \"num_unique_values\": 1000,\n        \"samples\": [\n          522,\n          738,\n          741\n        ],\n        \"semantic_type\": \"\",\n        \"description\": \"\"\n      }\n    },\n    {\n      \"column\": \"PurchaseDate\",\n      \"properties\": {\n        \"dtype\": \"object\",\n        \"num_unique_values\": 995,\n        \"samples\": [\n          \"2024-04-24 03:00:16\",\n          \"2024-04-11 05:15:23\",\n          \"2024-04-06 23:22:52\"\n        ],\n        \"semantic_type\": \"\",\n        \"description\": \"\"\n      }\n    },\n    {\n      \"column\": \"ProductID\",\n      \"properties\": {\n        \"dtype\": \"category\",\n        \"num_unique_values\": 99,\n        \"samples\": [\n          \"P061\",\n          \"P088\",\n          \"P089\"\n        ],\n        \"semantic_type\": \"\",\n        \"description\": \"\"\n      }\n    },\n    {\n      \"column\": \"ProductCategory\",\n      \"properties\": {\n        \"dtype\": \"category\",\n        \"num_unique_values\": 3,\n        \"samples\": [\n          \"Accessories\",\n          \"Clothing\",\n          \"Electronics\"\n        ],\n        \"semantic_type\": \"\",\n        \"description\": \"\"\n      }\n    },\n    {\n      \"column\": \"ProductPrice\",\n      \"properties\": {\n        \"dtype\": \"number\",\n        \"std\": 516.9743515128735,\n        \"min\": 12.496398596451767,\n        \"max\": 9544.731323333572,\n        \"num_unique_values\": 1000,\n        \"samples\": [\n          1959.572134299401,\n          8599.31741444389,\n          4071.356469708432\n        ],\n        \"semantic_type\": \"\",\n        \"description\": \"\"\n      }\n    },\n    {\n      \"column\": \"Quantity\",\n      \"properties\": {\n        \"dtype\": \"number\",\n        \"std\": 1,\n        \"min\": 1,\n        \"max\": 4,\n        \"num_unique_values\": 4,\n        \"samples\": [\n          2,\n          1,\n          4\n        ],\n        \"semantic_type\": \"\",\n        \"description\": \"\"\n      }\n    },\n    {\n      \"column\": \"TotalPrice\",\n      \"properties\": {\n        \"dtype\": \"number\",\n        \"std\": 1726.4927500483748,\n        \"min\": 12.496398596451767,\n        \"max\": 38178.92529333429,\n        \"num_unique_values\": 1000,\n        \"samples\": [\n          3919.144268598802,\n          25797.952243331674,\n          4071.356469708432\n        ],\n        \"semantic_type\": \"\",\n        \"description\": \"\"\n      }\n    }\n  ]\n}"
            }
          },
          "metadata": {},
          "execution_count": 982
        }
      ]
    },
    {
      "cell_type": "code",
      "source": [
        "#Get Informations about our data\n",
        "\n",
        "data.info()"
      ],
      "metadata": {
        "colab": {
          "base_uri": "https://localhost:8080/"
        },
        "id": "0ntaj0CKkInX",
        "outputId": "1a45030c-fb43-4424-c416-becffb178599"
      },
      "execution_count": 983,
      "outputs": [
        {
          "output_type": "stream",
          "name": "stdout",
          "text": [
            "<class 'pandas.core.frame.DataFrame'>\n",
            "RangeIndex: 1000 entries, 0 to 999\n",
            "Data columns (total 7 columns):\n",
            " #   Column           Non-Null Count  Dtype  \n",
            "---  ------           --------------  -----  \n",
            " 0   CustomerID       1000 non-null   int64  \n",
            " 1   PurchaseDate     995 non-null    object \n",
            " 2   ProductID        1000 non-null   object \n",
            " 3   ProductCategory  995 non-null    object \n",
            " 4   ProductPrice     1000 non-null   float64\n",
            " 5   Quantity         1000 non-null   int64  \n",
            " 6   TotalPrice       1000 non-null   float64\n",
            "dtypes: float64(2), int64(2), object(3)\n",
            "memory usage: 54.8+ KB\n"
          ]
        }
      ]
    },
    {
      "cell_type": "code",
      "source": [
        "data.nunique()"
      ],
      "metadata": {
        "colab": {
          "base_uri": "https://localhost:8080/",
          "height": 304
        },
        "id": "kGviIxKen6th",
        "outputId": "932d02ce-f062-4cfc-9158-2a2fab2eb792"
      },
      "execution_count": 984,
      "outputs": [
        {
          "output_type": "execute_result",
          "data": {
            "text/plain": [
              "CustomerID         1000\n",
              "PurchaseDate        995\n",
              "ProductID            99\n",
              "ProductCategory       3\n",
              "ProductPrice       1000\n",
              "Quantity              4\n",
              "TotalPrice         1000\n",
              "dtype: int64"
            ],
            "text/html": [
              "<div>\n",
              "<style scoped>\n",
              "    .dataframe tbody tr th:only-of-type {\n",
              "        vertical-align: middle;\n",
              "    }\n",
              "\n",
              "    .dataframe tbody tr th {\n",
              "        vertical-align: top;\n",
              "    }\n",
              "\n",
              "    .dataframe thead th {\n",
              "        text-align: right;\n",
              "    }\n",
              "</style>\n",
              "<table border=\"1\" class=\"dataframe\">\n",
              "  <thead>\n",
              "    <tr style=\"text-align: right;\">\n",
              "      <th></th>\n",
              "      <th>0</th>\n",
              "    </tr>\n",
              "  </thead>\n",
              "  <tbody>\n",
              "    <tr>\n",
              "      <th>CustomerID</th>\n",
              "      <td>1000</td>\n",
              "    </tr>\n",
              "    <tr>\n",
              "      <th>PurchaseDate</th>\n",
              "      <td>995</td>\n",
              "    </tr>\n",
              "    <tr>\n",
              "      <th>ProductID</th>\n",
              "      <td>99</td>\n",
              "    </tr>\n",
              "    <tr>\n",
              "      <th>ProductCategory</th>\n",
              "      <td>3</td>\n",
              "    </tr>\n",
              "    <tr>\n",
              "      <th>ProductPrice</th>\n",
              "      <td>1000</td>\n",
              "    </tr>\n",
              "    <tr>\n",
              "      <th>Quantity</th>\n",
              "      <td>4</td>\n",
              "    </tr>\n",
              "    <tr>\n",
              "      <th>TotalPrice</th>\n",
              "      <td>1000</td>\n",
              "    </tr>\n",
              "  </tbody>\n",
              "</table>\n",
              "</div><br><label><b>dtype:</b> int64</label>"
            ]
          },
          "metadata": {},
          "execution_count": 984
        }
      ]
    },
    {
      "cell_type": "markdown",
      "source": [
        "#Calculating Summary Statistics"
      ],
      "metadata": {
        "id": "Gus9WzlEv5oQ"
      }
    },
    {
      "cell_type": "code",
      "source": [
        "data.describe().T"
      ],
      "metadata": {
        "colab": {
          "base_uri": "https://localhost:8080/",
          "height": 175
        },
        "id": "4OcREFG0vxED",
        "outputId": "dac97ca1-4393-4145-a63c-27eacf962946"
      },
      "execution_count": 985,
      "outputs": [
        {
          "output_type": "execute_result",
          "data": {
            "text/plain": [
              "               count         mean          std        min         25%  \\\n",
              "CustomerID    1000.0   500.500000   288.819436   1.000000  250.750000   \n",
              "ProductPrice  1000.0   535.473118   516.974352  12.496399  265.711043   \n",
              "Quantity      1000.0     2.475000     1.096621   1.000000    1.000000   \n",
              "TotalPrice    1000.0  1333.926862  1726.492750  12.496399  499.863333   \n",
              "\n",
              "                     50%          75%           max  \n",
              "CustomerID    500.500000   750.250000   1000.000000  \n",
              "ProductPrice  510.115225   761.558086   9544.731323  \n",
              "Quantity        3.000000     3.000000      4.000000  \n",
              "TotalPrice    974.741675  1816.128400  38178.925293  "
            ],
            "text/html": [
              "\n",
              "  <div id=\"df-268cd002-2f0b-44cf-ae06-78215bd1d9c3\" class=\"colab-df-container\">\n",
              "    <div>\n",
              "<style scoped>\n",
              "    .dataframe tbody tr th:only-of-type {\n",
              "        vertical-align: middle;\n",
              "    }\n",
              "\n",
              "    .dataframe tbody tr th {\n",
              "        vertical-align: top;\n",
              "    }\n",
              "\n",
              "    .dataframe thead th {\n",
              "        text-align: right;\n",
              "    }\n",
              "</style>\n",
              "<table border=\"1\" class=\"dataframe\">\n",
              "  <thead>\n",
              "    <tr style=\"text-align: right;\">\n",
              "      <th></th>\n",
              "      <th>count</th>\n",
              "      <th>mean</th>\n",
              "      <th>std</th>\n",
              "      <th>min</th>\n",
              "      <th>25%</th>\n",
              "      <th>50%</th>\n",
              "      <th>75%</th>\n",
              "      <th>max</th>\n",
              "    </tr>\n",
              "  </thead>\n",
              "  <tbody>\n",
              "    <tr>\n",
              "      <th>CustomerID</th>\n",
              "      <td>1000.0</td>\n",
              "      <td>500.500000</td>\n",
              "      <td>288.819436</td>\n",
              "      <td>1.000000</td>\n",
              "      <td>250.750000</td>\n",
              "      <td>500.500000</td>\n",
              "      <td>750.250000</td>\n",
              "      <td>1000.000000</td>\n",
              "    </tr>\n",
              "    <tr>\n",
              "      <th>ProductPrice</th>\n",
              "      <td>1000.0</td>\n",
              "      <td>535.473118</td>\n",
              "      <td>516.974352</td>\n",
              "      <td>12.496399</td>\n",
              "      <td>265.711043</td>\n",
              "      <td>510.115225</td>\n",
              "      <td>761.558086</td>\n",
              "      <td>9544.731323</td>\n",
              "    </tr>\n",
              "    <tr>\n",
              "      <th>Quantity</th>\n",
              "      <td>1000.0</td>\n",
              "      <td>2.475000</td>\n",
              "      <td>1.096621</td>\n",
              "      <td>1.000000</td>\n",
              "      <td>1.000000</td>\n",
              "      <td>3.000000</td>\n",
              "      <td>3.000000</td>\n",
              "      <td>4.000000</td>\n",
              "    </tr>\n",
              "    <tr>\n",
              "      <th>TotalPrice</th>\n",
              "      <td>1000.0</td>\n",
              "      <td>1333.926862</td>\n",
              "      <td>1726.492750</td>\n",
              "      <td>12.496399</td>\n",
              "      <td>499.863333</td>\n",
              "      <td>974.741675</td>\n",
              "      <td>1816.128400</td>\n",
              "      <td>38178.925293</td>\n",
              "    </tr>\n",
              "  </tbody>\n",
              "</table>\n",
              "</div>\n",
              "    <div class=\"colab-df-buttons\">\n",
              "\n",
              "  <div class=\"colab-df-container\">\n",
              "    <button class=\"colab-df-convert\" onclick=\"convertToInteractive('df-268cd002-2f0b-44cf-ae06-78215bd1d9c3')\"\n",
              "            title=\"Convert this dataframe to an interactive table.\"\n",
              "            style=\"display:none;\">\n",
              "\n",
              "  <svg xmlns=\"http://www.w3.org/2000/svg\" height=\"24px\" viewBox=\"0 -960 960 960\">\n",
              "    <path d=\"M120-120v-720h720v720H120Zm60-500h600v-160H180v160Zm220 220h160v-160H400v160Zm0 220h160v-160H400v160ZM180-400h160v-160H180v160Zm440 0h160v-160H620v160ZM180-180h160v-160H180v160Zm440 0h160v-160H620v160Z\"/>\n",
              "  </svg>\n",
              "    </button>\n",
              "\n",
              "  <style>\n",
              "    .colab-df-container {\n",
              "      display:flex;\n",
              "      gap: 12px;\n",
              "    }\n",
              "\n",
              "    .colab-df-convert {\n",
              "      background-color: #E8F0FE;\n",
              "      border: none;\n",
              "      border-radius: 50%;\n",
              "      cursor: pointer;\n",
              "      display: none;\n",
              "      fill: #1967D2;\n",
              "      height: 32px;\n",
              "      padding: 0 0 0 0;\n",
              "      width: 32px;\n",
              "    }\n",
              "\n",
              "    .colab-df-convert:hover {\n",
              "      background-color: #E2EBFA;\n",
              "      box-shadow: 0px 1px 2px rgba(60, 64, 67, 0.3), 0px 1px 3px 1px rgba(60, 64, 67, 0.15);\n",
              "      fill: #174EA6;\n",
              "    }\n",
              "\n",
              "    .colab-df-buttons div {\n",
              "      margin-bottom: 4px;\n",
              "    }\n",
              "\n",
              "    [theme=dark] .colab-df-convert {\n",
              "      background-color: #3B4455;\n",
              "      fill: #D2E3FC;\n",
              "    }\n",
              "\n",
              "    [theme=dark] .colab-df-convert:hover {\n",
              "      background-color: #434B5C;\n",
              "      box-shadow: 0px 1px 3px 1px rgba(0, 0, 0, 0.15);\n",
              "      filter: drop-shadow(0px 1px 2px rgba(0, 0, 0, 0.3));\n",
              "      fill: #FFFFFF;\n",
              "    }\n",
              "  </style>\n",
              "\n",
              "    <script>\n",
              "      const buttonEl =\n",
              "        document.querySelector('#df-268cd002-2f0b-44cf-ae06-78215bd1d9c3 button.colab-df-convert');\n",
              "      buttonEl.style.display =\n",
              "        google.colab.kernel.accessAllowed ? 'block' : 'none';\n",
              "\n",
              "      async function convertToInteractive(key) {\n",
              "        const element = document.querySelector('#df-268cd002-2f0b-44cf-ae06-78215bd1d9c3');\n",
              "        const dataTable =\n",
              "          await google.colab.kernel.invokeFunction('convertToInteractive',\n",
              "                                                    [key], {});\n",
              "        if (!dataTable) return;\n",
              "\n",
              "        const docLinkHtml = 'Like what you see? Visit the ' +\n",
              "          '<a target=\"_blank\" href=https://colab.research.google.com/notebooks/data_table.ipynb>data table notebook</a>'\n",
              "          + ' to learn more about interactive tables.';\n",
              "        element.innerHTML = '';\n",
              "        dataTable['output_type'] = 'display_data';\n",
              "        await google.colab.output.renderOutput(dataTable, element);\n",
              "        const docLink = document.createElement('div');\n",
              "        docLink.innerHTML = docLinkHtml;\n",
              "        element.appendChild(docLink);\n",
              "      }\n",
              "    </script>\n",
              "  </div>\n",
              "\n",
              "\n",
              "<div id=\"df-ff4d0035-452e-4cfb-a526-1130f46c7c07\">\n",
              "  <button class=\"colab-df-quickchart\" onclick=\"quickchart('df-ff4d0035-452e-4cfb-a526-1130f46c7c07')\"\n",
              "            title=\"Suggest charts\"\n",
              "            style=\"display:none;\">\n",
              "\n",
              "<svg xmlns=\"http://www.w3.org/2000/svg\" height=\"24px\"viewBox=\"0 0 24 24\"\n",
              "     width=\"24px\">\n",
              "    <g>\n",
              "        <path d=\"M19 3H5c-1.1 0-2 .9-2 2v14c0 1.1.9 2 2 2h14c1.1 0 2-.9 2-2V5c0-1.1-.9-2-2-2zM9 17H7v-7h2v7zm4 0h-2V7h2v10zm4 0h-2v-4h2v4z\"/>\n",
              "    </g>\n",
              "</svg>\n",
              "  </button>\n",
              "\n",
              "<style>\n",
              "  .colab-df-quickchart {\n",
              "      --bg-color: #E8F0FE;\n",
              "      --fill-color: #1967D2;\n",
              "      --hover-bg-color: #E2EBFA;\n",
              "      --hover-fill-color: #174EA6;\n",
              "      --disabled-fill-color: #AAA;\n",
              "      --disabled-bg-color: #DDD;\n",
              "  }\n",
              "\n",
              "  [theme=dark] .colab-df-quickchart {\n",
              "      --bg-color: #3B4455;\n",
              "      --fill-color: #D2E3FC;\n",
              "      --hover-bg-color: #434B5C;\n",
              "      --hover-fill-color: #FFFFFF;\n",
              "      --disabled-bg-color: #3B4455;\n",
              "      --disabled-fill-color: #666;\n",
              "  }\n",
              "\n",
              "  .colab-df-quickchart {\n",
              "    background-color: var(--bg-color);\n",
              "    border: none;\n",
              "    border-radius: 50%;\n",
              "    cursor: pointer;\n",
              "    display: none;\n",
              "    fill: var(--fill-color);\n",
              "    height: 32px;\n",
              "    padding: 0;\n",
              "    width: 32px;\n",
              "  }\n",
              "\n",
              "  .colab-df-quickchart:hover {\n",
              "    background-color: var(--hover-bg-color);\n",
              "    box-shadow: 0 1px 2px rgba(60, 64, 67, 0.3), 0 1px 3px 1px rgba(60, 64, 67, 0.15);\n",
              "    fill: var(--button-hover-fill-color);\n",
              "  }\n",
              "\n",
              "  .colab-df-quickchart-complete:disabled,\n",
              "  .colab-df-quickchart-complete:disabled:hover {\n",
              "    background-color: var(--disabled-bg-color);\n",
              "    fill: var(--disabled-fill-color);\n",
              "    box-shadow: none;\n",
              "  }\n",
              "\n",
              "  .colab-df-spinner {\n",
              "    border: 2px solid var(--fill-color);\n",
              "    border-color: transparent;\n",
              "    border-bottom-color: var(--fill-color);\n",
              "    animation:\n",
              "      spin 1s steps(1) infinite;\n",
              "  }\n",
              "\n",
              "  @keyframes spin {\n",
              "    0% {\n",
              "      border-color: transparent;\n",
              "      border-bottom-color: var(--fill-color);\n",
              "      border-left-color: var(--fill-color);\n",
              "    }\n",
              "    20% {\n",
              "      border-color: transparent;\n",
              "      border-left-color: var(--fill-color);\n",
              "      border-top-color: var(--fill-color);\n",
              "    }\n",
              "    30% {\n",
              "      border-color: transparent;\n",
              "      border-left-color: var(--fill-color);\n",
              "      border-top-color: var(--fill-color);\n",
              "      border-right-color: var(--fill-color);\n",
              "    }\n",
              "    40% {\n",
              "      border-color: transparent;\n",
              "      border-right-color: var(--fill-color);\n",
              "      border-top-color: var(--fill-color);\n",
              "    }\n",
              "    60% {\n",
              "      border-color: transparent;\n",
              "      border-right-color: var(--fill-color);\n",
              "    }\n",
              "    80% {\n",
              "      border-color: transparent;\n",
              "      border-right-color: var(--fill-color);\n",
              "      border-bottom-color: var(--fill-color);\n",
              "    }\n",
              "    90% {\n",
              "      border-color: transparent;\n",
              "      border-bottom-color: var(--fill-color);\n",
              "    }\n",
              "  }\n",
              "</style>\n",
              "\n",
              "  <script>\n",
              "    async function quickchart(key) {\n",
              "      const quickchartButtonEl =\n",
              "        document.querySelector('#' + key + ' button');\n",
              "      quickchartButtonEl.disabled = true;  // To prevent multiple clicks.\n",
              "      quickchartButtonEl.classList.add('colab-df-spinner');\n",
              "      try {\n",
              "        const charts = await google.colab.kernel.invokeFunction(\n",
              "            'suggestCharts', [key], {});\n",
              "      } catch (error) {\n",
              "        console.error('Error during call to suggestCharts:', error);\n",
              "      }\n",
              "      quickchartButtonEl.classList.remove('colab-df-spinner');\n",
              "      quickchartButtonEl.classList.add('colab-df-quickchart-complete');\n",
              "    }\n",
              "    (() => {\n",
              "      let quickchartButtonEl =\n",
              "        document.querySelector('#df-ff4d0035-452e-4cfb-a526-1130f46c7c07 button');\n",
              "      quickchartButtonEl.style.display =\n",
              "        google.colab.kernel.accessAllowed ? 'block' : 'none';\n",
              "    })();\n",
              "  </script>\n",
              "</div>\n",
              "\n",
              "    </div>\n",
              "  </div>\n"
            ],
            "application/vnd.google.colaboratory.intrinsic+json": {
              "type": "dataframe",
              "summary": "{\n  \"name\": \"data\",\n  \"rows\": 4,\n  \"fields\": [\n    {\n      \"column\": \"count\",\n      \"properties\": {\n        \"dtype\": \"number\",\n        \"std\": 0.0,\n        \"min\": 1000.0,\n        \"max\": 1000.0,\n        \"num_unique_values\": 1,\n        \"samples\": [\n          1000.0\n        ],\n        \"semantic_type\": \"\",\n        \"description\": \"\"\n      }\n    },\n    {\n      \"column\": \"mean\",\n      \"properties\": {\n        \"dtype\": \"number\",\n        \"std\": 550.6232673932184,\n        \"min\": 2.475,\n        \"max\": 1333.926862221138,\n        \"num_unique_values\": 4,\n        \"samples\": [\n          535.4731180139736\n        ],\n        \"semantic_type\": \"\",\n        \"description\": \"\"\n      }\n    },\n    {\n      \"column\": \"std\",\n      \"properties\": {\n        \"dtype\": \"number\",\n        \"std\": 758.7160224610637,\n        \"min\": 1.096620981733241,\n        \"max\": 1726.4927500483748,\n        \"num_unique_values\": 4,\n        \"samples\": [\n          516.9743515128735\n        ],\n        \"semantic_type\": \"\",\n        \"description\": \"\"\n      }\n    },\n    {\n      \"column\": \"min\",\n      \"properties\": {\n        \"dtype\": \"number\",\n        \"std\": 6.6374488243726635,\n        \"min\": 1.0,\n        \"max\": 12.496398596451767,\n        \"num_unique_values\": 2,\n        \"samples\": [\n          12.496398596451767\n        ],\n        \"semantic_type\": \"\",\n        \"description\": \"\"\n      }\n    },\n    {\n      \"column\": \"25%\",\n      \"properties\": {\n        \"dtype\": \"number\",\n        \"std\": 203.80141567666425,\n        \"min\": 1.0,\n        \"max\": 499.8633330959556,\n        \"num_unique_values\": 4,\n        \"samples\": [\n          265.71104296694455\n        ],\n        \"semantic_type\": \"\",\n        \"description\": \"\"\n      }\n    },\n    {\n      \"column\": \"50%\",\n      \"properties\": {\n        \"dtype\": \"number\",\n        \"std\": 396.84477896009565,\n        \"min\": 3.0,\n        \"max\": 974.7416754760943,\n        \"num_unique_values\": 4,\n        \"samples\": [\n          510.1152247943566\n        ],\n        \"semantic_type\": \"\",\n        \"description\": \"\"\n      }\n    },\n    {\n      \"column\": \"75%\",\n      \"properties\": {\n        \"dtype\": \"number\",\n        \"std\": 745.5183158324743,\n        \"min\": 3.0,\n        \"max\": 1816.1283999797288,\n        \"num_unique_values\": 4,\n        \"samples\": [\n          761.5580855230153\n        ],\n        \"semantic_type\": \"\",\n        \"description\": \"\"\n      }\n    },\n    {\n      \"column\": \"max\",\n      \"properties\": {\n        \"dtype\": \"number\",\n        \"std\": 17852.50793540086,\n        \"min\": 4.0,\n        \"max\": 38178.92529333429,\n        \"num_unique_values\": 4,\n        \"samples\": [\n          9544.731323333572\n        ],\n        \"semantic_type\": \"\",\n        \"description\": \"\"\n      }\n    }\n  ]\n}"
            }
          },
          "metadata": {},
          "execution_count": 985
        }
      ]
    },
    {
      "cell_type": "markdown",
      "source": [
        "#Handle Missing Values"
      ],
      "metadata": {
        "id": "q43-fN_NF2V1"
      }
    },
    {
      "cell_type": "code",
      "source": [
        "#Sorted by Purchase Date\n",
        "\n",
        "sorted_data = data.sort_values(by='PurchaseDate')\n",
        "sorted_data"
      ],
      "metadata": {
        "colab": {
          "base_uri": "https://localhost:8080/",
          "height": 424
        },
        "id": "zL8VPXpfGn9q",
        "outputId": "be7d70c5-211c-4276-8c11-5e44c8cb1d85"
      },
      "execution_count": 986,
      "outputs": [
        {
          "output_type": "execute_result",
          "data": {
            "text/plain": [
              "     CustomerID         PurchaseDate ProductID ProductCategory  ProductPrice  \\\n",
              "773         774  2024-04-01 00:22:59      P055        Clothing    617.725742   \n",
              "618         619  2024-04-01 00:36:46      P015     Accessories    577.856239   \n",
              "208         209  2024-04-01 01:01:16      P004     Electronics    376.182419   \n",
              "848         849  2024-04-01 02:24:01      P093        Clothing    826.690926   \n",
              "983         984  2024-04-01 02:31:42      P051     Accessories    116.356858   \n",
              "..          ...                  ...       ...             ...           ...   \n",
              "264         265                  NaN      P070        Clothing    965.574643   \n",
              "393         394                  NaN      P026        Clothing    433.692620   \n",
              "685         686                  NaN      P025     Accessories    931.812209   \n",
              "738         739                  NaN      P076     Electronics    894.970127   \n",
              "924         925                  NaN      P096     Electronics    923.744571   \n",
              "\n",
              "     Quantity   TotalPrice  \n",
              "773         4  2470.902967  \n",
              "618         2  1155.712477  \n",
              "208         1   376.182419  \n",
              "848         1   826.690926  \n",
              "983         2   232.713716  \n",
              "..        ...          ...  \n",
              "264         1   965.574643  \n",
              "393         1   433.692620  \n",
              "685         3  2795.436628  \n",
              "738         4  3579.880509  \n",
              "924         4  3694.978285  \n",
              "\n",
              "[1000 rows x 7 columns]"
            ],
            "text/html": [
              "\n",
              "  <div id=\"df-fb7c7a6d-6e31-493c-847a-125ab935f4fc\" class=\"colab-df-container\">\n",
              "    <div>\n",
              "<style scoped>\n",
              "    .dataframe tbody tr th:only-of-type {\n",
              "        vertical-align: middle;\n",
              "    }\n",
              "\n",
              "    .dataframe tbody tr th {\n",
              "        vertical-align: top;\n",
              "    }\n",
              "\n",
              "    .dataframe thead th {\n",
              "        text-align: right;\n",
              "    }\n",
              "</style>\n",
              "<table border=\"1\" class=\"dataframe\">\n",
              "  <thead>\n",
              "    <tr style=\"text-align: right;\">\n",
              "      <th></th>\n",
              "      <th>CustomerID</th>\n",
              "      <th>PurchaseDate</th>\n",
              "      <th>ProductID</th>\n",
              "      <th>ProductCategory</th>\n",
              "      <th>ProductPrice</th>\n",
              "      <th>Quantity</th>\n",
              "      <th>TotalPrice</th>\n",
              "    </tr>\n",
              "  </thead>\n",
              "  <tbody>\n",
              "    <tr>\n",
              "      <th>773</th>\n",
              "      <td>774</td>\n",
              "      <td>2024-04-01 00:22:59</td>\n",
              "      <td>P055</td>\n",
              "      <td>Clothing</td>\n",
              "      <td>617.725742</td>\n",
              "      <td>4</td>\n",
              "      <td>2470.902967</td>\n",
              "    </tr>\n",
              "    <tr>\n",
              "      <th>618</th>\n",
              "      <td>619</td>\n",
              "      <td>2024-04-01 00:36:46</td>\n",
              "      <td>P015</td>\n",
              "      <td>Accessories</td>\n",
              "      <td>577.856239</td>\n",
              "      <td>2</td>\n",
              "      <td>1155.712477</td>\n",
              "    </tr>\n",
              "    <tr>\n",
              "      <th>208</th>\n",
              "      <td>209</td>\n",
              "      <td>2024-04-01 01:01:16</td>\n",
              "      <td>P004</td>\n",
              "      <td>Electronics</td>\n",
              "      <td>376.182419</td>\n",
              "      <td>1</td>\n",
              "      <td>376.182419</td>\n",
              "    </tr>\n",
              "    <tr>\n",
              "      <th>848</th>\n",
              "      <td>849</td>\n",
              "      <td>2024-04-01 02:24:01</td>\n",
              "      <td>P093</td>\n",
              "      <td>Clothing</td>\n",
              "      <td>826.690926</td>\n",
              "      <td>1</td>\n",
              "      <td>826.690926</td>\n",
              "    </tr>\n",
              "    <tr>\n",
              "      <th>983</th>\n",
              "      <td>984</td>\n",
              "      <td>2024-04-01 02:31:42</td>\n",
              "      <td>P051</td>\n",
              "      <td>Accessories</td>\n",
              "      <td>116.356858</td>\n",
              "      <td>2</td>\n",
              "      <td>232.713716</td>\n",
              "    </tr>\n",
              "    <tr>\n",
              "      <th>...</th>\n",
              "      <td>...</td>\n",
              "      <td>...</td>\n",
              "      <td>...</td>\n",
              "      <td>...</td>\n",
              "      <td>...</td>\n",
              "      <td>...</td>\n",
              "      <td>...</td>\n",
              "    </tr>\n",
              "    <tr>\n",
              "      <th>264</th>\n",
              "      <td>265</td>\n",
              "      <td>NaN</td>\n",
              "      <td>P070</td>\n",
              "      <td>Clothing</td>\n",
              "      <td>965.574643</td>\n",
              "      <td>1</td>\n",
              "      <td>965.574643</td>\n",
              "    </tr>\n",
              "    <tr>\n",
              "      <th>393</th>\n",
              "      <td>394</td>\n",
              "      <td>NaN</td>\n",
              "      <td>P026</td>\n",
              "      <td>Clothing</td>\n",
              "      <td>433.692620</td>\n",
              "      <td>1</td>\n",
              "      <td>433.692620</td>\n",
              "    </tr>\n",
              "    <tr>\n",
              "      <th>685</th>\n",
              "      <td>686</td>\n",
              "      <td>NaN</td>\n",
              "      <td>P025</td>\n",
              "      <td>Accessories</td>\n",
              "      <td>931.812209</td>\n",
              "      <td>3</td>\n",
              "      <td>2795.436628</td>\n",
              "    </tr>\n",
              "    <tr>\n",
              "      <th>738</th>\n",
              "      <td>739</td>\n",
              "      <td>NaN</td>\n",
              "      <td>P076</td>\n",
              "      <td>Electronics</td>\n",
              "      <td>894.970127</td>\n",
              "      <td>4</td>\n",
              "      <td>3579.880509</td>\n",
              "    </tr>\n",
              "    <tr>\n",
              "      <th>924</th>\n",
              "      <td>925</td>\n",
              "      <td>NaN</td>\n",
              "      <td>P096</td>\n",
              "      <td>Electronics</td>\n",
              "      <td>923.744571</td>\n",
              "      <td>4</td>\n",
              "      <td>3694.978285</td>\n",
              "    </tr>\n",
              "  </tbody>\n",
              "</table>\n",
              "<p>1000 rows × 7 columns</p>\n",
              "</div>\n",
              "    <div class=\"colab-df-buttons\">\n",
              "\n",
              "  <div class=\"colab-df-container\">\n",
              "    <button class=\"colab-df-convert\" onclick=\"convertToInteractive('df-fb7c7a6d-6e31-493c-847a-125ab935f4fc')\"\n",
              "            title=\"Convert this dataframe to an interactive table.\"\n",
              "            style=\"display:none;\">\n",
              "\n",
              "  <svg xmlns=\"http://www.w3.org/2000/svg\" height=\"24px\" viewBox=\"0 -960 960 960\">\n",
              "    <path d=\"M120-120v-720h720v720H120Zm60-500h600v-160H180v160Zm220 220h160v-160H400v160Zm0 220h160v-160H400v160ZM180-400h160v-160H180v160Zm440 0h160v-160H620v160ZM180-180h160v-160H180v160Zm440 0h160v-160H620v160Z\"/>\n",
              "  </svg>\n",
              "    </button>\n",
              "\n",
              "  <style>\n",
              "    .colab-df-container {\n",
              "      display:flex;\n",
              "      gap: 12px;\n",
              "    }\n",
              "\n",
              "    .colab-df-convert {\n",
              "      background-color: #E8F0FE;\n",
              "      border: none;\n",
              "      border-radius: 50%;\n",
              "      cursor: pointer;\n",
              "      display: none;\n",
              "      fill: #1967D2;\n",
              "      height: 32px;\n",
              "      padding: 0 0 0 0;\n",
              "      width: 32px;\n",
              "    }\n",
              "\n",
              "    .colab-df-convert:hover {\n",
              "      background-color: #E2EBFA;\n",
              "      box-shadow: 0px 1px 2px rgba(60, 64, 67, 0.3), 0px 1px 3px 1px rgba(60, 64, 67, 0.15);\n",
              "      fill: #174EA6;\n",
              "    }\n",
              "\n",
              "    .colab-df-buttons div {\n",
              "      margin-bottom: 4px;\n",
              "    }\n",
              "\n",
              "    [theme=dark] .colab-df-convert {\n",
              "      background-color: #3B4455;\n",
              "      fill: #D2E3FC;\n",
              "    }\n",
              "\n",
              "    [theme=dark] .colab-df-convert:hover {\n",
              "      background-color: #434B5C;\n",
              "      box-shadow: 0px 1px 3px 1px rgba(0, 0, 0, 0.15);\n",
              "      filter: drop-shadow(0px 1px 2px rgba(0, 0, 0, 0.3));\n",
              "      fill: #FFFFFF;\n",
              "    }\n",
              "  </style>\n",
              "\n",
              "    <script>\n",
              "      const buttonEl =\n",
              "        document.querySelector('#df-fb7c7a6d-6e31-493c-847a-125ab935f4fc button.colab-df-convert');\n",
              "      buttonEl.style.display =\n",
              "        google.colab.kernel.accessAllowed ? 'block' : 'none';\n",
              "\n",
              "      async function convertToInteractive(key) {\n",
              "        const element = document.querySelector('#df-fb7c7a6d-6e31-493c-847a-125ab935f4fc');\n",
              "        const dataTable =\n",
              "          await google.colab.kernel.invokeFunction('convertToInteractive',\n",
              "                                                    [key], {});\n",
              "        if (!dataTable) return;\n",
              "\n",
              "        const docLinkHtml = 'Like what you see? Visit the ' +\n",
              "          '<a target=\"_blank\" href=https://colab.research.google.com/notebooks/data_table.ipynb>data table notebook</a>'\n",
              "          + ' to learn more about interactive tables.';\n",
              "        element.innerHTML = '';\n",
              "        dataTable['output_type'] = 'display_data';\n",
              "        await google.colab.output.renderOutput(dataTable, element);\n",
              "        const docLink = document.createElement('div');\n",
              "        docLink.innerHTML = docLinkHtml;\n",
              "        element.appendChild(docLink);\n",
              "      }\n",
              "    </script>\n",
              "  </div>\n",
              "\n",
              "\n",
              "<div id=\"df-2f34b4ff-99e9-400c-9f7a-23222a186303\">\n",
              "  <button class=\"colab-df-quickchart\" onclick=\"quickchart('df-2f34b4ff-99e9-400c-9f7a-23222a186303')\"\n",
              "            title=\"Suggest charts\"\n",
              "            style=\"display:none;\">\n",
              "\n",
              "<svg xmlns=\"http://www.w3.org/2000/svg\" height=\"24px\"viewBox=\"0 0 24 24\"\n",
              "     width=\"24px\">\n",
              "    <g>\n",
              "        <path d=\"M19 3H5c-1.1 0-2 .9-2 2v14c0 1.1.9 2 2 2h14c1.1 0 2-.9 2-2V5c0-1.1-.9-2-2-2zM9 17H7v-7h2v7zm4 0h-2V7h2v10zm4 0h-2v-4h2v4z\"/>\n",
              "    </g>\n",
              "</svg>\n",
              "  </button>\n",
              "\n",
              "<style>\n",
              "  .colab-df-quickchart {\n",
              "      --bg-color: #E8F0FE;\n",
              "      --fill-color: #1967D2;\n",
              "      --hover-bg-color: #E2EBFA;\n",
              "      --hover-fill-color: #174EA6;\n",
              "      --disabled-fill-color: #AAA;\n",
              "      --disabled-bg-color: #DDD;\n",
              "  }\n",
              "\n",
              "  [theme=dark] .colab-df-quickchart {\n",
              "      --bg-color: #3B4455;\n",
              "      --fill-color: #D2E3FC;\n",
              "      --hover-bg-color: #434B5C;\n",
              "      --hover-fill-color: #FFFFFF;\n",
              "      --disabled-bg-color: #3B4455;\n",
              "      --disabled-fill-color: #666;\n",
              "  }\n",
              "\n",
              "  .colab-df-quickchart {\n",
              "    background-color: var(--bg-color);\n",
              "    border: none;\n",
              "    border-radius: 50%;\n",
              "    cursor: pointer;\n",
              "    display: none;\n",
              "    fill: var(--fill-color);\n",
              "    height: 32px;\n",
              "    padding: 0;\n",
              "    width: 32px;\n",
              "  }\n",
              "\n",
              "  .colab-df-quickchart:hover {\n",
              "    background-color: var(--hover-bg-color);\n",
              "    box-shadow: 0 1px 2px rgba(60, 64, 67, 0.3), 0 1px 3px 1px rgba(60, 64, 67, 0.15);\n",
              "    fill: var(--button-hover-fill-color);\n",
              "  }\n",
              "\n",
              "  .colab-df-quickchart-complete:disabled,\n",
              "  .colab-df-quickchart-complete:disabled:hover {\n",
              "    background-color: var(--disabled-bg-color);\n",
              "    fill: var(--disabled-fill-color);\n",
              "    box-shadow: none;\n",
              "  }\n",
              "\n",
              "  .colab-df-spinner {\n",
              "    border: 2px solid var(--fill-color);\n",
              "    border-color: transparent;\n",
              "    border-bottom-color: var(--fill-color);\n",
              "    animation:\n",
              "      spin 1s steps(1) infinite;\n",
              "  }\n",
              "\n",
              "  @keyframes spin {\n",
              "    0% {\n",
              "      border-color: transparent;\n",
              "      border-bottom-color: var(--fill-color);\n",
              "      border-left-color: var(--fill-color);\n",
              "    }\n",
              "    20% {\n",
              "      border-color: transparent;\n",
              "      border-left-color: var(--fill-color);\n",
              "      border-top-color: var(--fill-color);\n",
              "    }\n",
              "    30% {\n",
              "      border-color: transparent;\n",
              "      border-left-color: var(--fill-color);\n",
              "      border-top-color: var(--fill-color);\n",
              "      border-right-color: var(--fill-color);\n",
              "    }\n",
              "    40% {\n",
              "      border-color: transparent;\n",
              "      border-right-color: var(--fill-color);\n",
              "      border-top-color: var(--fill-color);\n",
              "    }\n",
              "    60% {\n",
              "      border-color: transparent;\n",
              "      border-right-color: var(--fill-color);\n",
              "    }\n",
              "    80% {\n",
              "      border-color: transparent;\n",
              "      border-right-color: var(--fill-color);\n",
              "      border-bottom-color: var(--fill-color);\n",
              "    }\n",
              "    90% {\n",
              "      border-color: transparent;\n",
              "      border-bottom-color: var(--fill-color);\n",
              "    }\n",
              "  }\n",
              "</style>\n",
              "\n",
              "  <script>\n",
              "    async function quickchart(key) {\n",
              "      const quickchartButtonEl =\n",
              "        document.querySelector('#' + key + ' button');\n",
              "      quickchartButtonEl.disabled = true;  // To prevent multiple clicks.\n",
              "      quickchartButtonEl.classList.add('colab-df-spinner');\n",
              "      try {\n",
              "        const charts = await google.colab.kernel.invokeFunction(\n",
              "            'suggestCharts', [key], {});\n",
              "      } catch (error) {\n",
              "        console.error('Error during call to suggestCharts:', error);\n",
              "      }\n",
              "      quickchartButtonEl.classList.remove('colab-df-spinner');\n",
              "      quickchartButtonEl.classList.add('colab-df-quickchart-complete');\n",
              "    }\n",
              "    (() => {\n",
              "      let quickchartButtonEl =\n",
              "        document.querySelector('#df-2f34b4ff-99e9-400c-9f7a-23222a186303 button');\n",
              "      quickchartButtonEl.style.display =\n",
              "        google.colab.kernel.accessAllowed ? 'block' : 'none';\n",
              "    })();\n",
              "  </script>\n",
              "</div>\n",
              "\n",
              "  <div id=\"id_e12a3259-538b-4d29-aab0-cf3a22fd8da1\">\n",
              "    <style>\n",
              "      .colab-df-generate {\n",
              "        background-color: #E8F0FE;\n",
              "        border: none;\n",
              "        border-radius: 50%;\n",
              "        cursor: pointer;\n",
              "        display: none;\n",
              "        fill: #1967D2;\n",
              "        height: 32px;\n",
              "        padding: 0 0 0 0;\n",
              "        width: 32px;\n",
              "      }\n",
              "\n",
              "      .colab-df-generate:hover {\n",
              "        background-color: #E2EBFA;\n",
              "        box-shadow: 0px 1px 2px rgba(60, 64, 67, 0.3), 0px 1px 3px 1px rgba(60, 64, 67, 0.15);\n",
              "        fill: #174EA6;\n",
              "      }\n",
              "\n",
              "      [theme=dark] .colab-df-generate {\n",
              "        background-color: #3B4455;\n",
              "        fill: #D2E3FC;\n",
              "      }\n",
              "\n",
              "      [theme=dark] .colab-df-generate:hover {\n",
              "        background-color: #434B5C;\n",
              "        box-shadow: 0px 1px 3px 1px rgba(0, 0, 0, 0.15);\n",
              "        filter: drop-shadow(0px 1px 2px rgba(0, 0, 0, 0.3));\n",
              "        fill: #FFFFFF;\n",
              "      }\n",
              "    </style>\n",
              "    <button class=\"colab-df-generate\" onclick=\"generateWithVariable('sorted_data')\"\n",
              "            title=\"Generate code using this dataframe.\"\n",
              "            style=\"display:none;\">\n",
              "\n",
              "  <svg xmlns=\"http://www.w3.org/2000/svg\" height=\"24px\"viewBox=\"0 0 24 24\"\n",
              "       width=\"24px\">\n",
              "    <path d=\"M7,19H8.4L18.45,9,17,7.55,7,17.6ZM5,21V16.75L18.45,3.32a2,2,0,0,1,2.83,0l1.4,1.43a1.91,1.91,0,0,1,.58,1.4,1.91,1.91,0,0,1-.58,1.4L9.25,21ZM18.45,9,17,7.55Zm-12,3A5.31,5.31,0,0,0,4.9,8.1,5.31,5.31,0,0,0,1,6.5,5.31,5.31,0,0,0,4.9,4.9,5.31,5.31,0,0,0,6.5,1,5.31,5.31,0,0,0,8.1,4.9,5.31,5.31,0,0,0,12,6.5,5.46,5.46,0,0,0,6.5,12Z\"/>\n",
              "  </svg>\n",
              "    </button>\n",
              "    <script>\n",
              "      (() => {\n",
              "      const buttonEl =\n",
              "        document.querySelector('#id_e12a3259-538b-4d29-aab0-cf3a22fd8da1 button.colab-df-generate');\n",
              "      buttonEl.style.display =\n",
              "        google.colab.kernel.accessAllowed ? 'block' : 'none';\n",
              "\n",
              "      buttonEl.onclick = () => {\n",
              "        google.colab.notebook.generateWithVariable('sorted_data');\n",
              "      }\n",
              "      })();\n",
              "    </script>\n",
              "  </div>\n",
              "\n",
              "    </div>\n",
              "  </div>\n"
            ],
            "application/vnd.google.colaboratory.intrinsic+json": {
              "type": "dataframe",
              "variable_name": "sorted_data",
              "summary": "{\n  \"name\": \"sorted_data\",\n  \"rows\": 1000,\n  \"fields\": [\n    {\n      \"column\": \"CustomerID\",\n      \"properties\": {\n        \"dtype\": \"number\",\n        \"std\": 288,\n        \"min\": 1,\n        \"max\": 1000,\n        \"num_unique_values\": 1000,\n        \"samples\": [\n          708,\n          449,\n          483\n        ],\n        \"semantic_type\": \"\",\n        \"description\": \"\"\n      }\n    },\n    {\n      \"column\": \"PurchaseDate\",\n      \"properties\": {\n        \"dtype\": \"object\",\n        \"num_unique_values\": 995,\n        \"samples\": [\n          \"2024-04-28 22:35:09\",\n          \"2024-04-17 11:50:30\",\n          \"2024-04-19 05:44:24\"\n        ],\n        \"semantic_type\": \"\",\n        \"description\": \"\"\n      }\n    },\n    {\n      \"column\": \"ProductID\",\n      \"properties\": {\n        \"dtype\": \"category\",\n        \"num_unique_values\": 99,\n        \"samples\": [\n          \"P090\",\n          \"P047\",\n          \"P001\"\n        ],\n        \"semantic_type\": \"\",\n        \"description\": \"\"\n      }\n    },\n    {\n      \"column\": \"ProductCategory\",\n      \"properties\": {\n        \"dtype\": \"category\",\n        \"num_unique_values\": 3,\n        \"samples\": [\n          \"Clothing\",\n          \"Accessories\",\n          \"Electronics\"\n        ],\n        \"semantic_type\": \"\",\n        \"description\": \"\"\n      }\n    },\n    {\n      \"column\": \"ProductPrice\",\n      \"properties\": {\n        \"dtype\": \"number\",\n        \"std\": 516.9743515128735,\n        \"min\": 12.496398596451767,\n        \"max\": 9544.731323333572,\n        \"num_unique_values\": 1000,\n        \"samples\": [\n          134.93265543698374,\n          178.51287837246798,\n          566.380542336245\n        ],\n        \"semantic_type\": \"\",\n        \"description\": \"\"\n      }\n    },\n    {\n      \"column\": \"Quantity\",\n      \"properties\": {\n        \"dtype\": \"number\",\n        \"std\": 1,\n        \"min\": 1,\n        \"max\": 4,\n        \"num_unique_values\": 4,\n        \"samples\": [\n          2,\n          3,\n          4\n        ],\n        \"semantic_type\": \"\",\n        \"description\": \"\"\n      }\n    },\n    {\n      \"column\": \"TotalPrice\",\n      \"properties\": {\n        \"dtype\": \"number\",\n        \"std\": 1726.492750048375,\n        \"min\": 12.496398596451767,\n        \"max\": 38178.92529333429,\n        \"num_unique_values\": 1000,\n        \"samples\": [\n          404.7979663109512,\n          714.0515134898719,\n          2265.52216934498\n        ],\n        \"semantic_type\": \"\",\n        \"description\": \"\"\n      }\n    }\n  ]\n}"
            }
          },
          "metadata": {},
          "execution_count": 986
        }
      ]
    },
    {
      "cell_type": "code",
      "source": [
        "sorted_data.info()"
      ],
      "metadata": {
        "colab": {
          "base_uri": "https://localhost:8080/"
        },
        "id": "MxGq8t8mY3k5",
        "outputId": "315297e7-9ac1-4960-8313-c133f5226dac"
      },
      "execution_count": 987,
      "outputs": [
        {
          "output_type": "stream",
          "name": "stdout",
          "text": [
            "<class 'pandas.core.frame.DataFrame'>\n",
            "Index: 1000 entries, 773 to 924\n",
            "Data columns (total 7 columns):\n",
            " #   Column           Non-Null Count  Dtype  \n",
            "---  ------           --------------  -----  \n",
            " 0   CustomerID       1000 non-null   int64  \n",
            " 1   PurchaseDate     995 non-null    object \n",
            " 2   ProductID        1000 non-null   object \n",
            " 3   ProductCategory  995 non-null    object \n",
            " 4   ProductPrice     1000 non-null   float64\n",
            " 5   Quantity         1000 non-null   int64  \n",
            " 6   TotalPrice       1000 non-null   float64\n",
            "dtypes: float64(2), int64(2), object(3)\n",
            "memory usage: 94.8+ KB\n"
          ]
        }
      ]
    },
    {
      "cell_type": "code",
      "source": [
        "#We notice that PurchaseDate and ProductCategory have the same number of missing values\n",
        "#Let's verify if it's in the same rows!\n",
        "\n",
        "result = (sorted_data['PurchaseDate'].isnull() == sorted_data['ProductCategory'].isnull()).all()\n",
        "result"
      ],
      "metadata": {
        "colab": {
          "base_uri": "https://localhost:8080/"
        },
        "id": "oxWsqXzbkN5E",
        "outputId": "c04cbc7a-6daf-464b-d604-b586ebf638fd"
      },
      "execution_count": 988,
      "outputs": [
        {
          "output_type": "execute_result",
          "data": {
            "text/plain": [
              "False"
            ]
          },
          "metadata": {},
          "execution_count": 988
        }
      ]
    },
    {
      "cell_type": "code",
      "source": [
        "#Drop Customer_ID Column and Product_ID column\n",
        "\n",
        "sorted_data = sorted_data.drop(columns=['CustomerID', 'ProductID'])"
      ],
      "metadata": {
        "id": "U39Yk4AuYD1r"
      },
      "execution_count": 989,
      "outputs": []
    },
    {
      "cell_type": "code",
      "source": [
        "#sorted_data.reset_index(drop=True, inplace=True)\n"
      ],
      "metadata": {
        "id": "xhosGG3TZaEy"
      },
      "execution_count": 990,
      "outputs": []
    },
    {
      "cell_type": "code",
      "source": [
        "#Convert PurchaseDate to DateTime column\n",
        "\n",
        "sorted_data['PurchaseDate'] = pd.to_datetime(sorted_data['PurchaseDate'])"
      ],
      "metadata": {
        "id": "WhxNOCWAtj6Y"
      },
      "execution_count": 991,
      "outputs": []
    },
    {
      "cell_type": "code",
      "source": [
        "# Fill Missing Values using ffill\n",
        "\n",
        "sorted = sorted_data.ffill()"
      ],
      "metadata": {
        "id": "tziHXLKpTVn_"
      },
      "execution_count": 992,
      "outputs": []
    },
    {
      "cell_type": "code",
      "source": [
        "sorted.info()"
      ],
      "metadata": {
        "colab": {
          "base_uri": "https://localhost:8080/"
        },
        "id": "JSkvk-mZ5wLb",
        "outputId": "711027c0-3e4e-428e-c546-ea164b9f53ff"
      },
      "execution_count": 993,
      "outputs": [
        {
          "output_type": "stream",
          "name": "stdout",
          "text": [
            "<class 'pandas.core.frame.DataFrame'>\n",
            "Index: 1000 entries, 773 to 924\n",
            "Data columns (total 5 columns):\n",
            " #   Column           Non-Null Count  Dtype         \n",
            "---  ------           --------------  -----         \n",
            " 0   PurchaseDate     1000 non-null   datetime64[ns]\n",
            " 1   ProductCategory  1000 non-null   object        \n",
            " 2   ProductPrice     1000 non-null   float64       \n",
            " 3   Quantity         1000 non-null   int64         \n",
            " 4   TotalPrice       1000 non-null   float64       \n",
            "dtypes: datetime64[ns](1), float64(2), int64(1), object(1)\n",
            "memory usage: 79.2+ KB\n"
          ]
        }
      ]
    },
    {
      "cell_type": "code",
      "source": [
        "#Rename our DataSet to 'dataset' instead of 'sorted'\n",
        "\n",
        "dataset = sorted"
      ],
      "metadata": {
        "id": "Id4EFhiwR7p2"
      },
      "execution_count": 994,
      "outputs": []
    },
    {
      "cell_type": "code",
      "source": [
        "#dataset.info()"
      ],
      "metadata": {
        "id": "YAui1Y8uZGcG"
      },
      "execution_count": 995,
      "outputs": []
    },
    {
      "cell_type": "markdown",
      "source": [
        "#Handle Outliers"
      ],
      "metadata": {
        "id": "i_N2nu7ixMj5"
      }
    },
    {
      "cell_type": "code",
      "source": [
        "#Handle Outliers in our Dataset using boxplot for Product Price\n",
        "# Box Plot\n",
        "\n",
        "fig = go.Figure()\n",
        "fig.add_trace(go.Box(y=dataset['ProductPrice']))\n",
        "fig.show()"
      ],
      "metadata": {
        "colab": {
          "base_uri": "https://localhost:8080/",
          "height": 542
        },
        "id": "GnZ2Qz-MxOb1",
        "outputId": "c9fb3c7a-5fe4-44dd-aecc-512504b341c9"
      },
      "execution_count": 996,
      "outputs": [
        {
          "output_type": "display_data",
          "data": {
            "text/html": [
              "<html>\n",
              "<head><meta charset=\"utf-8\" /></head>\n",
              "<body>\n",
              "    <div>            <script src=\"https://cdnjs.cloudflare.com/ajax/libs/mathjax/2.7.5/MathJax.js?config=TeX-AMS-MML_SVG\"></script><script type=\"text/javascript\">if (window.MathJax && window.MathJax.Hub && window.MathJax.Hub.Config) {window.MathJax.Hub.Config({SVG: {font: \"STIX-Web\"}});}</script>                <script type=\"text/javascript\">window.PlotlyConfig = {MathJaxConfig: 'local'};</script>\n",
              "        <script charset=\"utf-8\" src=\"https://cdn.plot.ly/plotly-2.24.1.min.js\"></script>                <div id=\"c7cd7b33-e70e-402b-acde-66a64a4341ac\" class=\"plotly-graph-div\" style=\"height:525px; width:100%;\"></div>            <script type=\"text/javascript\">                                    window.PLOTLYENV=window.PLOTLYENV || {};                                    if (document.getElementById(\"c7cd7b33-e70e-402b-acde-66a64a4341ac\")) {                    Plotly.newPlot(                        \"c7cd7b33-e70e-402b-acde-66a64a4341ac\",                        [{\"y\":[617.7257416552992,577.8562386545124,376.18241861094486,826.6909256124002,116.35685777300009,676.9230321295088,99.63135802517256,842.312168558943,353.4974819548866,973.9969392382852,235.8372043763778,165.21999059798006,632.6847177641231,126.15691759932268,508.0790821992,786.785822337443,581.5117297778646,639.9259165115084,174.3213591501153,365.6507005064437,983.128248754258,498.9914361154108,839.1486042445569,281.1412166579225,605.7010847226713,68.76770065772243,809.5244106289659,603.3671572910224,145.3730870782583,892.9447136801685,830.2780980596148,807.96390393661,85.40517528434157,632.7664118984538,529.9428255999408,102.14960044650346,137.90829953735368,964.1198796410068,175.9006112060809,960.5768428354676,557.2178376426638,572.1525856394586,861.5933038122084,334.3675609079002,646.4936568530777,213.69682127576613,51.93324247006166,451.7319768801389,419.7118119267798,491.963734876358,250.65225488707136,110.64369604608628,329.3325413759754,663.5123655452794,372.5603252452619,101.02106029431994,691.2037032447582,137.74784065791255,735.5162582967037,217.2639229230596,785.0947503698983,473.10779243658726,4071.356469708432,291.82995724593417,765.0881463477857,170.98873574297556,716.0115469702972,196.3839777189237,627.0145048496978,602.4507858171472,281.94913308166605,817.4568481659854,102.62377586827483,253.68694396261435,756.1626471354961,821.0236699661046,135.64894278749156,540.4905991353231,899.3076506850588,361.70201445493615,123.21080068428924,509.00733699528536,705.1934077584151,752.3843847325568,428.41502021009256,706.9204526194777,555.7815695777078,244.12139259570407,23.091788435268136,699.9474845541941,220.4730170961648,598.4227030005876,607.6299012156677,569.3010594727907,656.0413304166258,582.4232523032172,933.1611859605014,495.5626025252452,55.550120170477655,394.6095766032079,282.5928473970621,384.27736061929807,71.48849844586992,518.1408169965442,156.88577479940324,12.496398596451767,431.6776472324132,528.1482409156494,112.5362586029609,386.5320011625918,894.2823299135736,486.458642242943,144.8274610890277,950.8154046643482,242.66579817882968,623.6063825900231,476.2987179991737,75.14917147379688,118.76928514782712,96.58304549036646,507.2500286265986,224.745845379606,940.4813325538412,411.25613028824057,165.72067674939413,298.7623989362292,846.720397647587,695.6683533256609,933.2861696884078,379.9600843886796,360.3541434199828,887.8877522992144,762.2534944817729,620.557665626212,155.67704985902708,685.4173986074811,157.86991985104015,383.4240100781127,960.8441450217668,571.6898911828644,423.22628608923753,268.03170417627774,88.78444190004102,222.09954453978065,579.7374093120503,971.3443423424744,770.6801426582745,766.7693872509547,171.83206364499208,653.4829878437754,724.6344993421359,463.04461822465487,267.7436665070698,764.7465849416866,250.37151914582705,569.6439117837525,435.3554299837257,977.170662227076,548.742007519061,614.6083150637082,471.7477054023494,338.1986820500195,569.4107995350533,503.2651232265301,529.1226796192572,578.7047897450184,316.3454086523116,233.82757939530524,198.037199046358,106.246877430666,976.0706613834792,167.69498035642596,919.8019096586984,382.34124959413214,81.15581478090749,58.70321871401568,324.91425424023896,827.6323855639066,855.6626409820557,292.22655197416066,319.8643322421112,871.1923001135178,415.9054448551698,56.37530473700596,760.7267353239007,534.2238987124558,958.36141843844,898.3064966239775,572.5189552956325,220.52309612361023,791.5259947816262,418.1124281280669,913.8720964489954,771.8943141226347,959.1610333101904,754.1615841371548,169.2532303929268,658.0524437796362,302.533832415093,132.5789251681565,872.2541889508743,745.5588138084182,163.4131335653883,738.1548230263254,403.5205447625234,339.1293692197046,206.1136496752182,261.0497374137933,341.7281760031407,838.8629886205317,349.7614385403021,851.9974303870356,667.1948345033064,553.8323763171146,13.833947288598814,447.48860414018367,536.6814493700732,377.5363102713125,220.5807509149976,840.8990396069736,16.52203474681114,383.7980851626828,669.6827231227553,654.1122125561479,62.11954160977262,302.4056822390089,775.3130832145554,125.49387244133769,886.6320838227986,243.8313405706642,219.9955442723208,998.4760907416292,725.0126918446899,506.29785104093327,854.4426647834063,882.0223984901177,286.5836190554421,572.8264665749082,638.9926519234365,680.7256820711744,734.6956511757144,559.2086732660916,869.7193906111021,531.7156847556334,803.2873049910376,219.40054001095652,146.43477756120765,941.6922478710442,18.827120025244167,985.9385251304438,341.8296824154013,953.5319225954802,523.6568135559372,573.1661922767884,61.63798581598508,400.0275104072368,713.1477569385845,650.1633143219717,687.0716296472913,927.1527273180876,920.41654026247,563.9562218987116,614.978019535778,919.5435161021852,640.2106532706039,689.3283757116745,714.216027532891,651.753340096377,795.577092772674,400.9495404498533,273.12176249508127,428.191227127831,591.0255792236127,353.2825787975065,715.3338446037347,425.4028372591228,113.01950469174768,306.7925624490674,280.6045605857222,826.6466686368324,454.33068978680006,330.78512080599165,9544.731323333572,721.6481248130958,929.0848698267176,774.2045043041259,892.3631717771145,380.6617286825453,409.0292364778049,477.6958569269543,36.74798257253524,814.5165750318695,161.5819772383531,78.59156415954911,699.2802509891222,554.9960969720975,863.5416780286777,48.01062003971209,39.92535286487325,899.2802745821399,458.6587316037164,81.97993677912126,27.904666020556466,48.87831797425383,650.4761243716088,347.7600519988292,382.0373609017357,181.63156704873543,735.9059565474743,612.670878087421,887.0394969433568,67.03849997814515,336.7672535360689,911.0125524339882,92.15271269178884,566.566700264872,977.9970563124068,906.1999084191611,355.14858930514885,826.8560779806398,886.750422829445,333.0398693229864,699.4636397855334,928.6997635880376,62.659819720985126,451.6040456225643,455.5147123486549,449.8839274073693,412.6496758944213,669.1565229651367,376.7051331707024,307.556101247602,612.8656366381606,288.7519484886066,564.9115464459445,994.250713573364,556.0205940422416,392.2941689007196,383.453727383596,617.4001458675446,322.18984823858176,860.2180975584806,843.7586479213873,1959.572134299401,467.7482289472972,903.1451123659816,14.84519740834114,954.2206828697936,999.010433270378,710.6161205182588,350.4459674593642,663.3704041614819,12.735107851686813,74.8977034259673,988.7503355332844,848.6277787904912,559.9540739915013,94.1891911731902,315.5559975496139,62.10583501062069,186.71374504027463,954.5739558106284,786.9714812937796,404.9386081548725,840.2912224257318,584.2648057726524,482.3048802495497,835.825729113852,685.1375582348272,117.2520162430714,797.449058309166,615.2347168659693,302.5567750033535,511.5850213300896,875.2880341725552,475.2008284793069,153.54422882362195,337.480047880786,839.144079542976,75.5222105839532,599.2298999103583,235.5457378469021,853.1981636970959,459.1860772260465,20.381486348223486,657.1886817330649,207.694384504376,608.0074043149381,672.5151123894675,465.6824699631088,726.8518598901214,29.10205027953329,633.527842595932,620.497396197584,224.0921290895815,104.88991047807696,766.1165104854639,862.5339611444721,875.3875627367548,475.0120745298629,261.90591247838495,175.5893437772465,227.8324675000368,173.4915150761721,924.9669826412286,815.6308125834552,440.42447748022187,51.20968606707747,432.54119636923286,717.8891878258399,653.5541016065868,186.9851129222292,203.7696713745954,453.6564003328504,323.3776823116027,340.32558590127707,224.6780577806732,804.5918672874192,837.429235819561,292.41128304262696,756.6573184608172,828.7403904206398,952.623985429428,438.03253080513286,807.3806556725922,522.4292024214369,160.58619172227887,794.7710880780867,602.1965089714064,231.93702184286084,154.92105496343984,376.0472974094618,922.6436875899516,856.7740772519678,924.3476563140592,553.5703999139121,933.4581590732744,715.444588003095,701.2000627022474,171.10977726996413,583.7365592449172,282.44568354477315,362.9818989249097,453.9325700643095,139.04723820139304,825.4836013033073,175.90116534327785,95.8427328169759,524.7180269193727,975.7657696279362,305.35497395519684,429.2275011682632,552.603794201218,836.8708523096649,484.0667250040272,746.5208982428345,979.3817413868024,736.8123133546611,827.1200136489152,170.91253343127207,530.8867952206655,505.6762804341016,477.2446004239587,404.2397173795108,647.1369353568714,124.99865994743271,265.76032858594925,365.2495629192183,800.3253958336054,734.1657457435716,466.8299144341475,246.69292388849829,810.280154804855,323.1720945583219,298.6656531258051,942.4763438194552,128.44517879072086,899.3670049750507,746.1895595791357,966.4773796906454,24.51793835033544,97.86187510080958,379.8667178277152,714.3754926401499,791.2745044853431,304.205594188004,877.2472556199559,655.9198421516069,861.1275959242245,78.46696993368515,332.2738671506383,148.49916738170026,857.7821205069664,904.8185106786664,659.6785889050793,272.7198031451192,677.9954128576138,759.9358322956998,758.9636809954166,865.4005858063202,67.28003783398091,881.2240526016564,103.48221784790904,334.6084336013664,120.19779540191328,71.09312205940077,176.39043778971535,874.707630009196,30.090616533843228,257.3623902019083,421.8855355591988,164.3347264336019,200.123961793275,758.4724220017528,266.9489990131088,817.9802467109743,441.96764094228985,99.27655169486869,334.3631707018555,223.9020334664761,725.1651649755813,134.93265543698374,559.026716901679,721.9746222984404,956.1186630116604,935.8098665578424,327.1243119491888,461.52926328098266,783.2289056561053,491.8806718586646,384.966067860826,978.5774141915524,462.12873456292095,922.2241771219196,472.73323329349375,53.38729600477033,67.5690244826069,156.31736065662946,761.4454819560789,273.7027992990069,360.4538334618287,656.1300751275515,525.0649549609989,343.9497284902326,596.0634957994819,742.4247963512697,83.8885175631211,949.7437415161282,900.6473709740354,767.2771950345345,269.84278855823123,510.55066553527774,118.55642008253476,583.073285536725,293.5497995100771,798.2216678132177,46.630310536961616,171.54250998385973,415.7207663306205,31.99081783276028,801.5926265359914,31.36737002150112,35.32604128223883,477.5896867847718,779.7316416214876,199.23024127533697,443.0130208782298,901.833853168486,994.7307260635356,938.8710503965408,792.5353709230166,492.2622440155408,25.710165685292548,567.3122282226091,705.5141911109906,20.55793668268573,368.8450189089028,893.6582318702,411.42859993680696,432.1121004861006,973.2950902839395,782.1728104749675,234.966380859521,610.4120646569402,843.6579770318009,933.822997712911,356.1460643679181,41.38896857181103,308.4454620697885,266.592073892208,783.2150388946136,703.6213390085338,379.252238906962,865.7318344023796,967.0835849497884,127.91401389335088,166.3627694514246,684.2477626927636,267.493651564226,534.304610180361,169.12209112724346,178.20247232844667,855.4869122529276,253.5857794106308,509.8161030979884,656.2008413958254,44.39137599010714,916.1786970455988,434.0958088039732,944.4149063631348,361.25909934096507,943.6958918573702,50.89159026169306,985.2368435308524,973.991879808649,610.9035148900374,639.9657789793799,379.5492199435745,789.8485941599981,510.4143464907248,388.02080878147086,853.3636261792522,237.4269508729646,417.93544049427385,390.4125528913825,703.4235448474501,751.6830081400883,131.92686165590783,514.6675359736676,441.7782480901944,204.81531159248385,744.1682281404383,615.129781009785,562.545366356209,787.6897127536951,483.2573452530695,801.9820147435215,702.4825045678381,249.9897218057811,988.6558185517584,637.2965772391129,452.59911558013,378.9879999513933,423.3525548673288,858.3404672769218,429.6453958587799,248.42140775962892,985.7653161311716,284.456166289476,586.9907496813499,713.5865672135889,888.3349492892952,163.49965234458045,572.922064461553,161.13326319030915,224.3296463208308,370.96783469369046,307.0587616382003,745.9243752665149,290.2282985263072,698.1119932973743,311.3005070342712,464.91866949318575,427.58143703173386,582.3345415631505,182.4226481305548,759.0029887819818,961.7050907958992,5599.05537884577,677.6795731436671,759.3906509068865,914.195518897874,622.9945971702062,985.6025472971533,177.58394995246735,838.1166999058934,293.082568404519,862.5118112768488,220.94598455724324,525.3526234407065,406.3800646107689,462.7442077294373,451.6465114227953,561.1583504471514,795.4958756217511,856.373306818395,475.02825812027726,793.9584694154461,679.4301530741232,681.2330735663684,925.9098802166344,638.0831921834765,374.3962733857255,198.5447696558169,393.10834526436486,139.42596404266595,77.86089019861477,928.647265947262,330.44262635794314,184.2563005487438,914.535798516319,613.8134189966293,406.3409252290231,520.3022832438251,14.22546696652384,458.1319656278351,551.1962801751298,259.6503533625043,498.8302790373447,539.8813889732202,656.1753863664142,112.89979958713094,31.197902650637023,625.4114347439513,129.54489102388376,388.4742432026271,808.2168536352492,143.95511687404152,71.88078743634244,859.3313909786131,993.8678126590216,312.688755909927,705.2652576935111,317.5855803728577,400.0340173552936,499.51500154913583,251.95917551058545,70.20166386048362,177.09404820849966,597.4213063991414,667.5889881051885,940.9584171929567,606.7475291562336,326.6039395104904,800.5636745898196,72.63791711684897,708.7245283477289,178.51287837246798,868.359925487178,641.5274782176231,566.380542336245,877.5530137747905,519.8866187961064,309.60330878892,384.6241184091997,65.89513099629785,203.3674289767931,97.43969153919728,671.0096584753004,389.2961531040271,400.6849012286367,829.5103764524772,453.54881098820255,799.9545340424617,884.2112998949553,543.4685616290725,808.6361852324719,501.3640723442107,752.6232109238316,507.8263940938181,135.51947919128713,853.724691783808,69.29887793277791,708.3341670038786,810.8248045879843,274.0558051324222,653.390068449994,981.6247901699252,371.98544048564656,704.0715175071367,569.4817522080549,14.362448628938347,544.3887776580708,136.33057039503322,769.1680433651551,269.92538448395464,787.4631028550589,175.20085167796157,770.6913510279279,738.0956126186062,233.7443579162087,196.5944422756976,407.507755049954,931.4648735559008,449.1348466747438,517.1629616482528,884.7635273208813,785.6154627776758,331.11039922079493,855.4701840418659,368.12186407232497,970.0073465451812,713.1410375894055,952.1397598613188,888.594577273583,221.71146779325417,351.78487761242747,300.84810251525755,142.54331139419943,798.7433976895726,530.5283969148003,332.01758518003027,162.5105199744088,242.57465864178693,50.43565190797379,993.9025295133576,454.12681259092426,156.22806960148705,733.2386642811897,564.8611479004991,244.17726667865315,196.45359750069,791.1319839525247,342.8075356767274,365.7117920756728,524.617038039338,243.685147057868,435.8314871408937,142.09088830897483,303.9882636840035,655.4729448465673,53.95925964176771,711.0295686874697,783.0936561998835,669.3793352306217,167.21146318284167,18.74223107210961,8599.31741444389,74.23022428339151,457.39393447476334,652.3847833836147,144.47135137227517,817.8471604107989,987.78762518707,900.9676272371826,325.534936547279,702.0804886997371,903.5366269948472,436.2493374249849,159.46373575709143,604.12191304138,933.5618544472176,433.5325376765266,554.33940237014,49.30094921284966,900.8720380873596,630.1706451722044,860.7615281638498,94.10630127466824,406.7865343595494,466.2563719915671,781.5840785488106,399.4373870840216,568.6812633361219,234.75048636003825,537.216110691097,570.2087495443978,205.27350004313664,884.0659805433181,879.6830628608992,128.55093895333587,105.66156459311776,658.81054070816,927.0221832618016,478.854828690508,890.6431934919027,884.9552726298186,959.1021316048348,230.3551295287767,566.0125194131934,220.5723754046012,517.5985397534225,992.399177981404,255.83670646466817,200.9943775980825,688.0612461815732,140.058097410246,133.07701126984637,198.19549541976824,627.2987394737742,348.2550463138266,124.87760170636734,597.9239042972206,545.9880812293558,540.8925266140723,304.27807151474366,989.504962740746,222.57676496820852,202.4135805206525,441.1355796021853,147.63408586486364,789.4767148241846,849.0875895964444,389.9151516882493,83.32312969899084,751.7705827549536,593.8608849414803,998.458453723678,774.3276727540326,656.3239924981613,184.609555612416,486.29721126011634,379.20931276727663,331.2766329292326,399.37612669585326,616.3513091604434,564.6276665735826,591.2183903433549,473.6819805123677,738.0878014479134,185.08219134101824,201.7611800884032,667.8718301492241,34.255179221024946,441.9456476229073,205.80222216208023,130.35617468292398,851.1802451879618,815.2892982499808,224.57905036079745,54.22753966052705,400.02426444346105,532.7554971811481,487.6238151461224,598.7411930624887,373.8485512664829,806.7424529726898,474.9262166276914,310.70910716918587,215.12787977044425,222.3244109633488,81.9586693113496,535.6880568284513,890.269319547627,451.9699306400639,963.8871550753996,849.6117813807781,111.26335816330688,324.0274262787478,683.3425279838,128.44115593588285,633.9386630154769,761.8958962238246,357.74064330856874,927.2093066307176,757.3322119623901,551.1346729207121,998.808667581021,542.1747506117532,977.6777481910436,987.9627785496136,354.2112130108668,845.7027729109914,750.0067815439817,937.9281261287362,197.63224036608247,232.1320502351953,56.83465287603848,483.7053153205754,769.2789854645956,289.605753988036,400.0380917045952,760.4771686117759,562.1743376732285,564.2977573411184,799.4522629590823,307.76607773689244,949.7340757507404,136.0392213201014,211.5060174595315,745.3480938868215,356.6955875293918,700.8949166905451,36.20083829557191,515.9747012968548,611.9917339410086,769.86540299623,401.3025054798219,825.6710688346571,593.5476285919887,174.92165011715375,664.1811312323761,343.6657719287476,858.8778608368511,453.8138279622154,265.5631861099305,533.8256258845715,139.35208295295757,870.7001786562822,30.99871835928424,314.33587920137575,598.8036386689913,556.8630812008415,469.8492764353792,234.34194618795644,965.574643318875,433.6926196663452,931.8122092655904,894.9701272027181,923.7445711447764],\"type\":\"box\"}],                        {\"template\":{\"data\":{\"histogram2dcontour\":[{\"type\":\"histogram2dcontour\",\"colorbar\":{\"outlinewidth\":0,\"ticks\":\"\"},\"colorscale\":[[0.0,\"#0d0887\"],[0.1111111111111111,\"#46039f\"],[0.2222222222222222,\"#7201a8\"],[0.3333333333333333,\"#9c179e\"],[0.4444444444444444,\"#bd3786\"],[0.5555555555555556,\"#d8576b\"],[0.6666666666666666,\"#ed7953\"],[0.7777777777777778,\"#fb9f3a\"],[0.8888888888888888,\"#fdca26\"],[1.0,\"#f0f921\"]]}],\"choropleth\":[{\"type\":\"choropleth\",\"colorbar\":{\"outlinewidth\":0,\"ticks\":\"\"}}],\"histogram2d\":[{\"type\":\"histogram2d\",\"colorbar\":{\"outlinewidth\":0,\"ticks\":\"\"},\"colorscale\":[[0.0,\"#0d0887\"],[0.1111111111111111,\"#46039f\"],[0.2222222222222222,\"#7201a8\"],[0.3333333333333333,\"#9c179e\"],[0.4444444444444444,\"#bd3786\"],[0.5555555555555556,\"#d8576b\"],[0.6666666666666666,\"#ed7953\"],[0.7777777777777778,\"#fb9f3a\"],[0.8888888888888888,\"#fdca26\"],[1.0,\"#f0f921\"]]}],\"heatmap\":[{\"type\":\"heatmap\",\"colorbar\":{\"outlinewidth\":0,\"ticks\":\"\"},\"colorscale\":[[0.0,\"#0d0887\"],[0.1111111111111111,\"#46039f\"],[0.2222222222222222,\"#7201a8\"],[0.3333333333333333,\"#9c179e\"],[0.4444444444444444,\"#bd3786\"],[0.5555555555555556,\"#d8576b\"],[0.6666666666666666,\"#ed7953\"],[0.7777777777777778,\"#fb9f3a\"],[0.8888888888888888,\"#fdca26\"],[1.0,\"#f0f921\"]]}],\"heatmapgl\":[{\"type\":\"heatmapgl\",\"colorbar\":{\"outlinewidth\":0,\"ticks\":\"\"},\"colorscale\":[[0.0,\"#0d0887\"],[0.1111111111111111,\"#46039f\"],[0.2222222222222222,\"#7201a8\"],[0.3333333333333333,\"#9c179e\"],[0.4444444444444444,\"#bd3786\"],[0.5555555555555556,\"#d8576b\"],[0.6666666666666666,\"#ed7953\"],[0.7777777777777778,\"#fb9f3a\"],[0.8888888888888888,\"#fdca26\"],[1.0,\"#f0f921\"]]}],\"contourcarpet\":[{\"type\":\"contourcarpet\",\"colorbar\":{\"outlinewidth\":0,\"ticks\":\"\"}}],\"contour\":[{\"type\":\"contour\",\"colorbar\":{\"outlinewidth\":0,\"ticks\":\"\"},\"colorscale\":[[0.0,\"#0d0887\"],[0.1111111111111111,\"#46039f\"],[0.2222222222222222,\"#7201a8\"],[0.3333333333333333,\"#9c179e\"],[0.4444444444444444,\"#bd3786\"],[0.5555555555555556,\"#d8576b\"],[0.6666666666666666,\"#ed7953\"],[0.7777777777777778,\"#fb9f3a\"],[0.8888888888888888,\"#fdca26\"],[1.0,\"#f0f921\"]]}],\"surface\":[{\"type\":\"surface\",\"colorbar\":{\"outlinewidth\":0,\"ticks\":\"\"},\"colorscale\":[[0.0,\"#0d0887\"],[0.1111111111111111,\"#46039f\"],[0.2222222222222222,\"#7201a8\"],[0.3333333333333333,\"#9c179e\"],[0.4444444444444444,\"#bd3786\"],[0.5555555555555556,\"#d8576b\"],[0.6666666666666666,\"#ed7953\"],[0.7777777777777778,\"#fb9f3a\"],[0.8888888888888888,\"#fdca26\"],[1.0,\"#f0f921\"]]}],\"mesh3d\":[{\"type\":\"mesh3d\",\"colorbar\":{\"outlinewidth\":0,\"ticks\":\"\"}}],\"scatter\":[{\"fillpattern\":{\"fillmode\":\"overlay\",\"size\":10,\"solidity\":0.2},\"type\":\"scatter\"}],\"parcoords\":[{\"type\":\"parcoords\",\"line\":{\"colorbar\":{\"outlinewidth\":0,\"ticks\":\"\"}}}],\"scatterpolargl\":[{\"type\":\"scatterpolargl\",\"marker\":{\"colorbar\":{\"outlinewidth\":0,\"ticks\":\"\"}}}],\"bar\":[{\"error_x\":{\"color\":\"#2a3f5f\"},\"error_y\":{\"color\":\"#2a3f5f\"},\"marker\":{\"line\":{\"color\":\"#E5ECF6\",\"width\":0.5},\"pattern\":{\"fillmode\":\"overlay\",\"size\":10,\"solidity\":0.2}},\"type\":\"bar\"}],\"scattergeo\":[{\"type\":\"scattergeo\",\"marker\":{\"colorbar\":{\"outlinewidth\":0,\"ticks\":\"\"}}}],\"scatterpolar\":[{\"type\":\"scatterpolar\",\"marker\":{\"colorbar\":{\"outlinewidth\":0,\"ticks\":\"\"}}}],\"histogram\":[{\"marker\":{\"pattern\":{\"fillmode\":\"overlay\",\"size\":10,\"solidity\":0.2}},\"type\":\"histogram\"}],\"scattergl\":[{\"type\":\"scattergl\",\"marker\":{\"colorbar\":{\"outlinewidth\":0,\"ticks\":\"\"}}}],\"scatter3d\":[{\"type\":\"scatter3d\",\"line\":{\"colorbar\":{\"outlinewidth\":0,\"ticks\":\"\"}},\"marker\":{\"colorbar\":{\"outlinewidth\":0,\"ticks\":\"\"}}}],\"scattermapbox\":[{\"type\":\"scattermapbox\",\"marker\":{\"colorbar\":{\"outlinewidth\":0,\"ticks\":\"\"}}}],\"scatterternary\":[{\"type\":\"scatterternary\",\"marker\":{\"colorbar\":{\"outlinewidth\":0,\"ticks\":\"\"}}}],\"scattercarpet\":[{\"type\":\"scattercarpet\",\"marker\":{\"colorbar\":{\"outlinewidth\":0,\"ticks\":\"\"}}}],\"carpet\":[{\"aaxis\":{\"endlinecolor\":\"#2a3f5f\",\"gridcolor\":\"white\",\"linecolor\":\"white\",\"minorgridcolor\":\"white\",\"startlinecolor\":\"#2a3f5f\"},\"baxis\":{\"endlinecolor\":\"#2a3f5f\",\"gridcolor\":\"white\",\"linecolor\":\"white\",\"minorgridcolor\":\"white\",\"startlinecolor\":\"#2a3f5f\"},\"type\":\"carpet\"}],\"table\":[{\"cells\":{\"fill\":{\"color\":\"#EBF0F8\"},\"line\":{\"color\":\"white\"}},\"header\":{\"fill\":{\"color\":\"#C8D4E3\"},\"line\":{\"color\":\"white\"}},\"type\":\"table\"}],\"barpolar\":[{\"marker\":{\"line\":{\"color\":\"#E5ECF6\",\"width\":0.5},\"pattern\":{\"fillmode\":\"overlay\",\"size\":10,\"solidity\":0.2}},\"type\":\"barpolar\"}],\"pie\":[{\"automargin\":true,\"type\":\"pie\"}]},\"layout\":{\"autotypenumbers\":\"strict\",\"colorway\":[\"#636efa\",\"#EF553B\",\"#00cc96\",\"#ab63fa\",\"#FFA15A\",\"#19d3f3\",\"#FF6692\",\"#B6E880\",\"#FF97FF\",\"#FECB52\"],\"font\":{\"color\":\"#2a3f5f\"},\"hovermode\":\"closest\",\"hoverlabel\":{\"align\":\"left\"},\"paper_bgcolor\":\"white\",\"plot_bgcolor\":\"#E5ECF6\",\"polar\":{\"bgcolor\":\"#E5ECF6\",\"angularaxis\":{\"gridcolor\":\"white\",\"linecolor\":\"white\",\"ticks\":\"\"},\"radialaxis\":{\"gridcolor\":\"white\",\"linecolor\":\"white\",\"ticks\":\"\"}},\"ternary\":{\"bgcolor\":\"#E5ECF6\",\"aaxis\":{\"gridcolor\":\"white\",\"linecolor\":\"white\",\"ticks\":\"\"},\"baxis\":{\"gridcolor\":\"white\",\"linecolor\":\"white\",\"ticks\":\"\"},\"caxis\":{\"gridcolor\":\"white\",\"linecolor\":\"white\",\"ticks\":\"\"}},\"coloraxis\":{\"colorbar\":{\"outlinewidth\":0,\"ticks\":\"\"}},\"colorscale\":{\"sequential\":[[0.0,\"#0d0887\"],[0.1111111111111111,\"#46039f\"],[0.2222222222222222,\"#7201a8\"],[0.3333333333333333,\"#9c179e\"],[0.4444444444444444,\"#bd3786\"],[0.5555555555555556,\"#d8576b\"],[0.6666666666666666,\"#ed7953\"],[0.7777777777777778,\"#fb9f3a\"],[0.8888888888888888,\"#fdca26\"],[1.0,\"#f0f921\"]],\"sequentialminus\":[[0.0,\"#0d0887\"],[0.1111111111111111,\"#46039f\"],[0.2222222222222222,\"#7201a8\"],[0.3333333333333333,\"#9c179e\"],[0.4444444444444444,\"#bd3786\"],[0.5555555555555556,\"#d8576b\"],[0.6666666666666666,\"#ed7953\"],[0.7777777777777778,\"#fb9f3a\"],[0.8888888888888888,\"#fdca26\"],[1.0,\"#f0f921\"]],\"diverging\":[[0,\"#8e0152\"],[0.1,\"#c51b7d\"],[0.2,\"#de77ae\"],[0.3,\"#f1b6da\"],[0.4,\"#fde0ef\"],[0.5,\"#f7f7f7\"],[0.6,\"#e6f5d0\"],[0.7,\"#b8e186\"],[0.8,\"#7fbc41\"],[0.9,\"#4d9221\"],[1,\"#276419\"]]},\"xaxis\":{\"gridcolor\":\"white\",\"linecolor\":\"white\",\"ticks\":\"\",\"title\":{\"standoff\":15},\"zerolinecolor\":\"white\",\"automargin\":true,\"zerolinewidth\":2},\"yaxis\":{\"gridcolor\":\"white\",\"linecolor\":\"white\",\"ticks\":\"\",\"title\":{\"standoff\":15},\"zerolinecolor\":\"white\",\"automargin\":true,\"zerolinewidth\":2},\"scene\":{\"xaxis\":{\"backgroundcolor\":\"#E5ECF6\",\"gridcolor\":\"white\",\"linecolor\":\"white\",\"showbackground\":true,\"ticks\":\"\",\"zerolinecolor\":\"white\",\"gridwidth\":2},\"yaxis\":{\"backgroundcolor\":\"#E5ECF6\",\"gridcolor\":\"white\",\"linecolor\":\"white\",\"showbackground\":true,\"ticks\":\"\",\"zerolinecolor\":\"white\",\"gridwidth\":2},\"zaxis\":{\"backgroundcolor\":\"#E5ECF6\",\"gridcolor\":\"white\",\"linecolor\":\"white\",\"showbackground\":true,\"ticks\":\"\",\"zerolinecolor\":\"white\",\"gridwidth\":2}},\"shapedefaults\":{\"line\":{\"color\":\"#2a3f5f\"}},\"annotationdefaults\":{\"arrowcolor\":\"#2a3f5f\",\"arrowhead\":0,\"arrowwidth\":1},\"geo\":{\"bgcolor\":\"white\",\"landcolor\":\"#E5ECF6\",\"subunitcolor\":\"white\",\"showland\":true,\"showlakes\":true,\"lakecolor\":\"white\"},\"title\":{\"x\":0.05},\"mapbox\":{\"style\":\"light\"}}}},                        {\"responsive\": true}                    ).then(function(){\n",
              "                            \n",
              "var gd = document.getElementById('c7cd7b33-e70e-402b-acde-66a64a4341ac');\n",
              "var x = new MutationObserver(function (mutations, observer) {{\n",
              "        var display = window.getComputedStyle(gd).display;\n",
              "        if (!display || display === 'none') {{\n",
              "            console.log([gd, 'removed!']);\n",
              "            Plotly.purge(gd);\n",
              "            observer.disconnect();\n",
              "        }}\n",
              "}});\n",
              "\n",
              "// Listen for the removal of the full notebook cells\n",
              "var notebookContainer = gd.closest('#notebook-container');\n",
              "if (notebookContainer) {{\n",
              "    x.observe(notebookContainer, {childList: true});\n",
              "}}\n",
              "\n",
              "// Listen for the clearing of the current output cell\n",
              "var outputEl = gd.closest('.output');\n",
              "if (outputEl) {{\n",
              "    x.observe(outputEl, {childList: true});\n",
              "}}\n",
              "\n",
              "                        })                };                            </script>        </div>\n",
              "</body>\n",
              "</html>"
            ]
          },
          "metadata": {}
        }
      ]
    },
    {
      "cell_type": "code",
      "source": [
        "#Use Winsorize to replace extreme values with values closer to the defined limits\n",
        "\n",
        "dataset['ProductPrice_winsorize'] = mstats.winsorize(dataset['ProductPrice'], limits=[0.005, 0.005])"
      ],
      "metadata": {
        "id": "YnjIg0k81dBZ"
      },
      "execution_count": 997,
      "outputs": []
    },
    {
      "cell_type": "code",
      "source": [
        "print('---------------------------------------------------------------')\n",
        "\n",
        "# Stats Before winsorize\n",
        "print(\"Before winsorize\")\n",
        "\n",
        "print('---------------------------------------------------------------')\n",
        "\n",
        "print(dataset['ProductPrice'].describe())\n",
        "\n",
        "print('---------------------------------------------------------------')\n",
        "\n",
        "# Stats After winsorize\n",
        "print(\"After winsorize\")\n",
        "\n",
        "print('---------------------------------------------------------------')\n",
        "\n",
        "print(dataset['ProductPrice_winsorize'].describe())\n",
        "\n",
        "print('---------------------------------------------------------------')\n"
      ],
      "metadata": {
        "id": "ypN1o4VO1fFb",
        "colab": {
          "base_uri": "https://localhost:8080/"
        },
        "outputId": "23159d54-5101-4036-fb3d-293093a7fa57"
      },
      "execution_count": 998,
      "outputs": [
        {
          "output_type": "stream",
          "name": "stdout",
          "text": [
            "---------------------------------------------------------------\n",
            "Before winsorize\n",
            "---------------------------------------------------------------\n",
            "count    1000.000000\n",
            "mean      535.473118\n",
            "std       516.974352\n",
            "min        12.496399\n",
            "25%       265.711043\n",
            "50%       510.115225\n",
            "75%       761.558086\n",
            "max      9544.731323\n",
            "Name: ProductPrice, dtype: float64\n",
            "---------------------------------------------------------------\n",
            "After winsorize\n",
            "---------------------------------------------------------------\n",
            "count    1000.000000\n",
            "mean      510.700710\n",
            "std       284.899068\n",
            "min        14.845197\n",
            "25%       265.711043\n",
            "50%       510.115225\n",
            "75%       761.558086\n",
            "max       999.010433\n",
            "Name: ProductPrice_winsorize, dtype: float64\n",
            "---------------------------------------------------------------\n"
          ]
        }
      ]
    },
    {
      "cell_type": "code",
      "source": [
        "print('---------------------------------------------------------------')\n",
        "\n",
        "# Before winsorize\n",
        "stat_before, p_value_before = shapiro(dataset['ProductPrice'])\n",
        "print(f\"Shapiro-Wilk Before winsorize: Stat={stat_before:.4f}, p-value={p_value_before:.4f}\")\n",
        "\n",
        "print('---------------------------------------------------------------')\n",
        "\n",
        "# After winsorize\n",
        "stat_after, p_value_after = shapiro(dataset['ProductPrice_winsorize'])\n",
        "print(f\"Shapiro-Wilk Aefore winsorize: Stat={stat_after:.4f}, p-value={p_value_after:.4f}\")\n",
        "\n",
        "print('---------------------------------------------------------------')\n"
      ],
      "metadata": {
        "colab": {
          "base_uri": "https://localhost:8080/"
        },
        "id": "4FkC8vvy6aeZ",
        "outputId": "390027c2-768e-4122-d6ac-2164b77a1837"
      },
      "execution_count": 999,
      "outputs": [
        {
          "output_type": "stream",
          "name": "stdout",
          "text": [
            "---------------------------------------------------------------\n",
            "Shapiro-Wilk Before winsorize: Stat=0.4695, p-value=0.0000\n",
            "---------------------------------------------------------------\n",
            "Shapiro-Wilk Aefore winsorize: Stat=0.9553, p-value=0.0000\n",
            "---------------------------------------------------------------\n"
          ]
        }
      ]
    },
    {
      "cell_type": "code",
      "source": [
        "#Handle Outliers in our Dataset using boxplot for Product Price\n",
        "# Box Plot\n",
        "\n",
        "fig = go.Figure()\n",
        "fig.add_trace(go.Box(y=dataset['Quantity']))\n",
        "fig.show()\n",
        "\n",
        "#Didn't Detect outlier in this column"
      ],
      "metadata": {
        "colab": {
          "base_uri": "https://localhost:8080/",
          "height": 542
        },
        "id": "8UbVKi1Ieldl",
        "outputId": "1c74fb3f-f6d0-4bb9-faad-c3ca2f76beca"
      },
      "execution_count": 1000,
      "outputs": [
        {
          "output_type": "display_data",
          "data": {
            "text/html": [
              "<html>\n",
              "<head><meta charset=\"utf-8\" /></head>\n",
              "<body>\n",
              "    <div>            <script src=\"https://cdnjs.cloudflare.com/ajax/libs/mathjax/2.7.5/MathJax.js?config=TeX-AMS-MML_SVG\"></script><script type=\"text/javascript\">if (window.MathJax && window.MathJax.Hub && window.MathJax.Hub.Config) {window.MathJax.Hub.Config({SVG: {font: \"STIX-Web\"}});}</script>                <script type=\"text/javascript\">window.PlotlyConfig = {MathJaxConfig: 'local'};</script>\n",
              "        <script charset=\"utf-8\" src=\"https://cdn.plot.ly/plotly-2.24.1.min.js\"></script>                <div id=\"9fe4066b-0838-4a9a-bd15-701914edd229\" class=\"plotly-graph-div\" style=\"height:525px; width:100%;\"></div>            <script type=\"text/javascript\">                                    window.PLOTLYENV=window.PLOTLYENV || {};                                    if (document.getElementById(\"9fe4066b-0838-4a9a-bd15-701914edd229\")) {                    Plotly.newPlot(                        \"9fe4066b-0838-4a9a-bd15-701914edd229\",                        [{\"y\":[4,2,1,1,2,2,3,3,4,1,4,1,1,4,2,3,4,1,4,3,1,1,4,1,4,2,4,2,3,2,4,1,1,3,3,2,3,2,3,2,3,3,3,4,2,3,4,2,3,3,2,3,1,3,4,3,4,4,3,3,2,1,1,1,2,3,3,3,4,2,3,1,3,2,1,2,1,1,3,3,2,3,2,4,2,2,1,2,4,3,1,4,2,3,4,3,4,2,1,1,3,2,3,3,2,1,3,2,1,4,4,2,3,3,2,3,3,1,3,3,3,1,3,1,1,2,2,3,3,2,1,1,2,3,2,1,4,3,3,2,3,3,2,4,2,1,1,3,3,1,3,1,4,2,2,3,4,2,3,2,1,4,3,3,4,1,4,2,1,2,4,1,2,3,1,4,3,4,2,4,1,1,3,4,3,3,3,4,3,1,4,2,2,2,3,1,1,2,2,3,3,2,2,3,1,3,2,1,4,1,2,2,3,3,1,4,1,3,2,1,4,1,1,4,4,2,3,2,2,2,3,4,1,3,3,2,3,3,2,4,1,1,3,2,2,1,2,2,3,3,3,2,1,4,4,3,2,2,2,4,2,1,1,4,4,1,3,4,4,3,3,4,4,2,1,1,4,3,3,1,4,1,4,4,1,4,2,1,1,1,2,4,4,4,2,2,4,2,1,2,2,2,3,1,2,2,3,4,1,4,2,4,4,1,3,3,4,2,4,1,2,4,4,4,3,1,4,2,1,4,2,4,1,4,1,2,1,2,1,1,1,4,4,2,3,4,1,4,4,2,2,2,4,3,1,4,2,2,1,3,1,1,3,1,1,2,1,3,1,2,1,1,3,4,4,1,2,4,2,2,4,3,1,1,1,3,4,4,3,1,3,1,3,2,4,4,2,1,3,4,4,4,3,4,3,2,2,4,3,3,1,2,1,3,3,2,3,2,3,1,3,1,3,1,4,3,2,3,4,2,2,3,3,1,2,3,2,4,3,2,2,3,4,4,2,1,2,4,4,1,2,1,3,4,4,1,1,1,1,2,1,3,2,4,1,1,3,2,1,4,1,3,3,3,2,1,2,2,4,3,4,1,1,1,3,3,2,4,3,4,4,4,1,2,2,1,2,1,2,2,3,3,3,4,1,1,1,1,2,1,1,4,1,4,2,1,2,3,1,3,1,3,1,1,3,4,2,2,4,2,1,3,4,3,2,2,1,2,3,4,3,2,1,2,2,4,1,3,4,3,2,4,1,4,2,3,2,3,4,3,1,4,4,1,3,4,2,1,4,2,2,4,2,1,3,1,1,3,3,3,3,2,4,4,1,1,1,1,4,4,2,1,2,3,4,1,2,2,1,3,3,1,2,2,1,4,2,3,3,3,1,3,1,4,2,4,3,4,4,1,1,2,2,4,3,4,1,2,1,3,3,4,3,1,3,2,2,2,2,1,3,3,3,3,4,2,2,1,3,4,1,2,3,4,2,3,3,3,3,1,1,1,3,3,3,3,3,1,2,2,1,2,2,4,2,3,4,4,3,1,1,4,3,4,4,3,1,4,2,3,3,2,4,4,3,3,2,3,4,2,4,2,4,2,1,1,2,2,4,3,2,3,3,3,4,2,4,1,3,4,1,1,4,2,3,1,2,3,2,4,4,1,1,3,2,1,4,4,4,1,4,3,2,2,3,4,3,1,4,3,3,4,4,2,3,2,2,3,4,4,4,1,3,2,1,3,3,3,4,2,1,4,3,2,3,4,2,1,2,1,3,3,4,4,1,1,3,3,3,2,1,4,3,2,1,1,1,3,4,3,3,3,3,1,1,3,3,1,3,3,3,3,1,3,2,1,4,1,1,3,3,4,3,3,3,1,3,3,1,1,3,2,1,4,3,3,1,2,2,4,3,3,1,2,3,1,4,3,2,1,1,3,3,3,1,2,3,3,1,1,3,2,2,4,2,3,2,2,1,1,2,3,4,3,4,1,2,2,3,3,2,4,3,1,3,4,1,1,2,2,4,4,2,3,1,3,4,1,3,1,3,1,3,4,1,4,2,1,2,1,3,4,1,4,3,2,4,3,3,3,3,2,1,1,2,1,2,2,4,1,4,4,1,1,4,4,4,4,4,4,3,3,4,4,1,1,1,1,3,1,3,4,4,4,2,2,2,2,2,3,3,2,2,4,3,1,2,1,4,2,4,1,1,2,4,2,4,4,2,3,2,2,2,2,1,2,4,3,1,1,4,3,2,1,2,1,1,3,4,4],\"type\":\"box\"}],                        {\"template\":{\"data\":{\"histogram2dcontour\":[{\"type\":\"histogram2dcontour\",\"colorbar\":{\"outlinewidth\":0,\"ticks\":\"\"},\"colorscale\":[[0.0,\"#0d0887\"],[0.1111111111111111,\"#46039f\"],[0.2222222222222222,\"#7201a8\"],[0.3333333333333333,\"#9c179e\"],[0.4444444444444444,\"#bd3786\"],[0.5555555555555556,\"#d8576b\"],[0.6666666666666666,\"#ed7953\"],[0.7777777777777778,\"#fb9f3a\"],[0.8888888888888888,\"#fdca26\"],[1.0,\"#f0f921\"]]}],\"choropleth\":[{\"type\":\"choropleth\",\"colorbar\":{\"outlinewidth\":0,\"ticks\":\"\"}}],\"histogram2d\":[{\"type\":\"histogram2d\",\"colorbar\":{\"outlinewidth\":0,\"ticks\":\"\"},\"colorscale\":[[0.0,\"#0d0887\"],[0.1111111111111111,\"#46039f\"],[0.2222222222222222,\"#7201a8\"],[0.3333333333333333,\"#9c179e\"],[0.4444444444444444,\"#bd3786\"],[0.5555555555555556,\"#d8576b\"],[0.6666666666666666,\"#ed7953\"],[0.7777777777777778,\"#fb9f3a\"],[0.8888888888888888,\"#fdca26\"],[1.0,\"#f0f921\"]]}],\"heatmap\":[{\"type\":\"heatmap\",\"colorbar\":{\"outlinewidth\":0,\"ticks\":\"\"},\"colorscale\":[[0.0,\"#0d0887\"],[0.1111111111111111,\"#46039f\"],[0.2222222222222222,\"#7201a8\"],[0.3333333333333333,\"#9c179e\"],[0.4444444444444444,\"#bd3786\"],[0.5555555555555556,\"#d8576b\"],[0.6666666666666666,\"#ed7953\"],[0.7777777777777778,\"#fb9f3a\"],[0.8888888888888888,\"#fdca26\"],[1.0,\"#f0f921\"]]}],\"heatmapgl\":[{\"type\":\"heatmapgl\",\"colorbar\":{\"outlinewidth\":0,\"ticks\":\"\"},\"colorscale\":[[0.0,\"#0d0887\"],[0.1111111111111111,\"#46039f\"],[0.2222222222222222,\"#7201a8\"],[0.3333333333333333,\"#9c179e\"],[0.4444444444444444,\"#bd3786\"],[0.5555555555555556,\"#d8576b\"],[0.6666666666666666,\"#ed7953\"],[0.7777777777777778,\"#fb9f3a\"],[0.8888888888888888,\"#fdca26\"],[1.0,\"#f0f921\"]]}],\"contourcarpet\":[{\"type\":\"contourcarpet\",\"colorbar\":{\"outlinewidth\":0,\"ticks\":\"\"}}],\"contour\":[{\"type\":\"contour\",\"colorbar\":{\"outlinewidth\":0,\"ticks\":\"\"},\"colorscale\":[[0.0,\"#0d0887\"],[0.1111111111111111,\"#46039f\"],[0.2222222222222222,\"#7201a8\"],[0.3333333333333333,\"#9c179e\"],[0.4444444444444444,\"#bd3786\"],[0.5555555555555556,\"#d8576b\"],[0.6666666666666666,\"#ed7953\"],[0.7777777777777778,\"#fb9f3a\"],[0.8888888888888888,\"#fdca26\"],[1.0,\"#f0f921\"]]}],\"surface\":[{\"type\":\"surface\",\"colorbar\":{\"outlinewidth\":0,\"ticks\":\"\"},\"colorscale\":[[0.0,\"#0d0887\"],[0.1111111111111111,\"#46039f\"],[0.2222222222222222,\"#7201a8\"],[0.3333333333333333,\"#9c179e\"],[0.4444444444444444,\"#bd3786\"],[0.5555555555555556,\"#d8576b\"],[0.6666666666666666,\"#ed7953\"],[0.7777777777777778,\"#fb9f3a\"],[0.8888888888888888,\"#fdca26\"],[1.0,\"#f0f921\"]]}],\"mesh3d\":[{\"type\":\"mesh3d\",\"colorbar\":{\"outlinewidth\":0,\"ticks\":\"\"}}],\"scatter\":[{\"fillpattern\":{\"fillmode\":\"overlay\",\"size\":10,\"solidity\":0.2},\"type\":\"scatter\"}],\"parcoords\":[{\"type\":\"parcoords\",\"line\":{\"colorbar\":{\"outlinewidth\":0,\"ticks\":\"\"}}}],\"scatterpolargl\":[{\"type\":\"scatterpolargl\",\"marker\":{\"colorbar\":{\"outlinewidth\":0,\"ticks\":\"\"}}}],\"bar\":[{\"error_x\":{\"color\":\"#2a3f5f\"},\"error_y\":{\"color\":\"#2a3f5f\"},\"marker\":{\"line\":{\"color\":\"#E5ECF6\",\"width\":0.5},\"pattern\":{\"fillmode\":\"overlay\",\"size\":10,\"solidity\":0.2}},\"type\":\"bar\"}],\"scattergeo\":[{\"type\":\"scattergeo\",\"marker\":{\"colorbar\":{\"outlinewidth\":0,\"ticks\":\"\"}}}],\"scatterpolar\":[{\"type\":\"scatterpolar\",\"marker\":{\"colorbar\":{\"outlinewidth\":0,\"ticks\":\"\"}}}],\"histogram\":[{\"marker\":{\"pattern\":{\"fillmode\":\"overlay\",\"size\":10,\"solidity\":0.2}},\"type\":\"histogram\"}],\"scattergl\":[{\"type\":\"scattergl\",\"marker\":{\"colorbar\":{\"outlinewidth\":0,\"ticks\":\"\"}}}],\"scatter3d\":[{\"type\":\"scatter3d\",\"line\":{\"colorbar\":{\"outlinewidth\":0,\"ticks\":\"\"}},\"marker\":{\"colorbar\":{\"outlinewidth\":0,\"ticks\":\"\"}}}],\"scattermapbox\":[{\"type\":\"scattermapbox\",\"marker\":{\"colorbar\":{\"outlinewidth\":0,\"ticks\":\"\"}}}],\"scatterternary\":[{\"type\":\"scatterternary\",\"marker\":{\"colorbar\":{\"outlinewidth\":0,\"ticks\":\"\"}}}],\"scattercarpet\":[{\"type\":\"scattercarpet\",\"marker\":{\"colorbar\":{\"outlinewidth\":0,\"ticks\":\"\"}}}],\"carpet\":[{\"aaxis\":{\"endlinecolor\":\"#2a3f5f\",\"gridcolor\":\"white\",\"linecolor\":\"white\",\"minorgridcolor\":\"white\",\"startlinecolor\":\"#2a3f5f\"},\"baxis\":{\"endlinecolor\":\"#2a3f5f\",\"gridcolor\":\"white\",\"linecolor\":\"white\",\"minorgridcolor\":\"white\",\"startlinecolor\":\"#2a3f5f\"},\"type\":\"carpet\"}],\"table\":[{\"cells\":{\"fill\":{\"color\":\"#EBF0F8\"},\"line\":{\"color\":\"white\"}},\"header\":{\"fill\":{\"color\":\"#C8D4E3\"},\"line\":{\"color\":\"white\"}},\"type\":\"table\"}],\"barpolar\":[{\"marker\":{\"line\":{\"color\":\"#E5ECF6\",\"width\":0.5},\"pattern\":{\"fillmode\":\"overlay\",\"size\":10,\"solidity\":0.2}},\"type\":\"barpolar\"}],\"pie\":[{\"automargin\":true,\"type\":\"pie\"}]},\"layout\":{\"autotypenumbers\":\"strict\",\"colorway\":[\"#636efa\",\"#EF553B\",\"#00cc96\",\"#ab63fa\",\"#FFA15A\",\"#19d3f3\",\"#FF6692\",\"#B6E880\",\"#FF97FF\",\"#FECB52\"],\"font\":{\"color\":\"#2a3f5f\"},\"hovermode\":\"closest\",\"hoverlabel\":{\"align\":\"left\"},\"paper_bgcolor\":\"white\",\"plot_bgcolor\":\"#E5ECF6\",\"polar\":{\"bgcolor\":\"#E5ECF6\",\"angularaxis\":{\"gridcolor\":\"white\",\"linecolor\":\"white\",\"ticks\":\"\"},\"radialaxis\":{\"gridcolor\":\"white\",\"linecolor\":\"white\",\"ticks\":\"\"}},\"ternary\":{\"bgcolor\":\"#E5ECF6\",\"aaxis\":{\"gridcolor\":\"white\",\"linecolor\":\"white\",\"ticks\":\"\"},\"baxis\":{\"gridcolor\":\"white\",\"linecolor\":\"white\",\"ticks\":\"\"},\"caxis\":{\"gridcolor\":\"white\",\"linecolor\":\"white\",\"ticks\":\"\"}},\"coloraxis\":{\"colorbar\":{\"outlinewidth\":0,\"ticks\":\"\"}},\"colorscale\":{\"sequential\":[[0.0,\"#0d0887\"],[0.1111111111111111,\"#46039f\"],[0.2222222222222222,\"#7201a8\"],[0.3333333333333333,\"#9c179e\"],[0.4444444444444444,\"#bd3786\"],[0.5555555555555556,\"#d8576b\"],[0.6666666666666666,\"#ed7953\"],[0.7777777777777778,\"#fb9f3a\"],[0.8888888888888888,\"#fdca26\"],[1.0,\"#f0f921\"]],\"sequentialminus\":[[0.0,\"#0d0887\"],[0.1111111111111111,\"#46039f\"],[0.2222222222222222,\"#7201a8\"],[0.3333333333333333,\"#9c179e\"],[0.4444444444444444,\"#bd3786\"],[0.5555555555555556,\"#d8576b\"],[0.6666666666666666,\"#ed7953\"],[0.7777777777777778,\"#fb9f3a\"],[0.8888888888888888,\"#fdca26\"],[1.0,\"#f0f921\"]],\"diverging\":[[0,\"#8e0152\"],[0.1,\"#c51b7d\"],[0.2,\"#de77ae\"],[0.3,\"#f1b6da\"],[0.4,\"#fde0ef\"],[0.5,\"#f7f7f7\"],[0.6,\"#e6f5d0\"],[0.7,\"#b8e186\"],[0.8,\"#7fbc41\"],[0.9,\"#4d9221\"],[1,\"#276419\"]]},\"xaxis\":{\"gridcolor\":\"white\",\"linecolor\":\"white\",\"ticks\":\"\",\"title\":{\"standoff\":15},\"zerolinecolor\":\"white\",\"automargin\":true,\"zerolinewidth\":2},\"yaxis\":{\"gridcolor\":\"white\",\"linecolor\":\"white\",\"ticks\":\"\",\"title\":{\"standoff\":15},\"zerolinecolor\":\"white\",\"automargin\":true,\"zerolinewidth\":2},\"scene\":{\"xaxis\":{\"backgroundcolor\":\"#E5ECF6\",\"gridcolor\":\"white\",\"linecolor\":\"white\",\"showbackground\":true,\"ticks\":\"\",\"zerolinecolor\":\"white\",\"gridwidth\":2},\"yaxis\":{\"backgroundcolor\":\"#E5ECF6\",\"gridcolor\":\"white\",\"linecolor\":\"white\",\"showbackground\":true,\"ticks\":\"\",\"zerolinecolor\":\"white\",\"gridwidth\":2},\"zaxis\":{\"backgroundcolor\":\"#E5ECF6\",\"gridcolor\":\"white\",\"linecolor\":\"white\",\"showbackground\":true,\"ticks\":\"\",\"zerolinecolor\":\"white\",\"gridwidth\":2}},\"shapedefaults\":{\"line\":{\"color\":\"#2a3f5f\"}},\"annotationdefaults\":{\"arrowcolor\":\"#2a3f5f\",\"arrowhead\":0,\"arrowwidth\":1},\"geo\":{\"bgcolor\":\"white\",\"landcolor\":\"#E5ECF6\",\"subunitcolor\":\"white\",\"showland\":true,\"showlakes\":true,\"lakecolor\":\"white\"},\"title\":{\"x\":0.05},\"mapbox\":{\"style\":\"light\"}}}},                        {\"responsive\": true}                    ).then(function(){\n",
              "                            \n",
              "var gd = document.getElementById('9fe4066b-0838-4a9a-bd15-701914edd229');\n",
              "var x = new MutationObserver(function (mutations, observer) {{\n",
              "        var display = window.getComputedStyle(gd).display;\n",
              "        if (!display || display === 'none') {{\n",
              "            console.log([gd, 'removed!']);\n",
              "            Plotly.purge(gd);\n",
              "            observer.disconnect();\n",
              "        }}\n",
              "}});\n",
              "\n",
              "// Listen for the removal of the full notebook cells\n",
              "var notebookContainer = gd.closest('#notebook-container');\n",
              "if (notebookContainer) {{\n",
              "    x.observe(notebookContainer, {childList: true});\n",
              "}}\n",
              "\n",
              "// Listen for the clearing of the current output cell\n",
              "var outputEl = gd.closest('.output');\n",
              "if (outputEl) {{\n",
              "    x.observe(outputEl, {childList: true});\n",
              "}}\n",
              "\n",
              "                        })                };                            </script>        </div>\n",
              "</body>\n",
              "</html>"
            ]
          },
          "metadata": {}
        }
      ]
    },
    {
      "cell_type": "code",
      "source": [
        "#Handling with Outliers in our Datasets using boxplot\n",
        "# Box Plot\n",
        "\n",
        "fig = go.Figure()\n",
        "fig.add_trace(go.Box(y=dataset['TotalPrice']))\n",
        "fig.show()"
      ],
      "metadata": {
        "colab": {
          "base_uri": "https://localhost:8080/",
          "height": 542
        },
        "id": "k3SjerQx4F2v",
        "outputId": "a2c852f4-015c-4fce-e8c3-3f5f57af8f57"
      },
      "execution_count": 1001,
      "outputs": [
        {
          "output_type": "display_data",
          "data": {
            "text/html": [
              "<html>\n",
              "<head><meta charset=\"utf-8\" /></head>\n",
              "<body>\n",
              "    <div>            <script src=\"https://cdnjs.cloudflare.com/ajax/libs/mathjax/2.7.5/MathJax.js?config=TeX-AMS-MML_SVG\"></script><script type=\"text/javascript\">if (window.MathJax && window.MathJax.Hub && window.MathJax.Hub.Config) {window.MathJax.Hub.Config({SVG: {font: \"STIX-Web\"}});}</script>                <script type=\"text/javascript\">window.PlotlyConfig = {MathJaxConfig: 'local'};</script>\n",
              "        <script charset=\"utf-8\" src=\"https://cdn.plot.ly/plotly-2.24.1.min.js\"></script>                <div id=\"d9d2d395-ee62-4d44-a1aa-724f164d43e4\" class=\"plotly-graph-div\" style=\"height:525px; width:100%;\"></div>            <script type=\"text/javascript\">                                    window.PLOTLYENV=window.PLOTLYENV || {};                                    if (document.getElementById(\"d9d2d395-ee62-4d44-a1aa-724f164d43e4\")) {                    Plotly.newPlot(                        \"d9d2d395-ee62-4d44-a1aa-724f164d43e4\",                        [{\"y\":[2470.902966621197,1155.7124773090247,376.18241861094486,826.6909256124002,232.7137155460001,1353.8460642590176,298.8940740755177,2526.936505676829,1413.9899278195464,973.9969392382852,943.3488175055112,165.21999059798006,632.6847177641231,504.62767039729073,1016.1581643984,2360.357467012329,2326.0469191114585,639.9259165115084,697.2854366004613,1096.952101519331,983.128248754258,498.9914361154108,3356.5944169782274,281.1412166579225,2422.8043388906854,137.53540131544486,3238.097642515864,1206.7343145820448,436.1192612347748,1785.889427360337,3321.112392238459,807.96390393661,85.40517528434157,1898.2992356953607,1589.8284767998225,204.2992008930069,413.72489861206105,1928.2397592820128,527.7018336182427,1921.153685670935,1671.6535129279914,1716.4577569183757,2584.7799114366253,1337.4702436316009,1292.9873137061554,641.0904638272984,207.73296988024663,903.4639537602778,1259.135435780339,1475.891204629074,501.30450977414273,331.9310881382589,329.3325413759754,1990.5370966358385,1490.2413009810475,303.06318088295984,2764.814812979033,550.9913626316502,2206.548774890111,651.7917687691787,1570.1895007397966,473.10779243658726,4071.356469708432,291.82995724593417,1530.1762926955714,512.9662072289267,2148.0346409108915,589.151933156771,2508.058019398791,1204.9015716342944,845.8473992449981,817.4568481659854,307.8713276048245,507.3738879252287,756.1626471354961,1642.0473399322093,135.64894278749156,540.4905991353231,2697.922952055176,1085.1060433648086,246.42160136857848,1527.022010985856,1410.3868155168302,3009.537538930227,856.8300404201851,1413.8409052389554,555.7815695777078,488.2427851914083,92.36715374107254,2099.8424536625826,220.4730170961648,2393.6908120023504,1215.2598024313354,1707.903178418372,2624.165321666503,1747.2697569096515,3732.6447438420055,991.1252050504904,55.550120170477655,394.6095766032079,847.7785421911863,768.5547212385961,214.46549533760967,1554.4224509896326,313.7715495988065,12.496398596451767,1295.0329416972395,1056.2964818312987,112.5362586029609,1546.1280046503673,3577.1293196542942,972.917284485886,434.4823832670832,2852.4462139930447,485.33159635765935,1870.819147770069,1428.8961539975212,75.14917147379688,356.3078554434814,289.7491364710994,1521.7500858797955,224.745845379606,2821.443997661524,411.25613028824057,165.72067674939413,597.5247978724584,1693.440795295174,2087.0050599769825,2799.858509065223,759.9201687773591,360.3541434199828,887.8877522992144,1524.5069889635458,1861.672996878636,311.35409971805416,685.4173986074811,631.4796794041606,1150.2720302343382,2882.5324350653004,1143.3797823657287,1269.6788582677127,804.0951125288332,177.56888380008203,888.3981781591225,1159.4748186241006,971.3443423424744,770.6801426582745,2300.308161752864,515.4961909349762,653.4829878437754,2173.903498026408,463.04461822465487,1070.9746660282792,1529.4931698833732,500.7430382916541,1708.9317353512574,1741.4217199349027,1954.341324454152,1646.226022557183,1229.2166301274165,471.7477054023494,1352.794728200078,1708.23239860516,1509.7953696795903,2116.4907184770286,578.7047897450184,1265.3816346092465,467.65515879061047,198.037199046358,212.493754861332,3904.282645533917,167.69498035642596,1839.6038193173963,1147.0237487823963,81.15581478090749,234.8128748560627,974.7427627207168,3310.5295422556264,1711.3252819641114,1168.9062078966426,319.8643322421112,871.1923001135178,1247.7163345655094,225.50121894802385,2282.180205971702,1602.6716961373677,2875.08425531532,3593.22598649591,1717.5568658868974,220.52309612361023,3166.103979126505,836.2248562561338,1827.7441928979908,1543.7886282452694,2877.483099930572,754.1615841371548,169.2532303929268,1316.1048875592724,605.067664830186,397.7367755044695,2616.762566852623,1491.1176276168364,326.8262671307766,2214.4644690789764,403.5205447625234,1017.3881076591138,412.2272993504364,261.0497374137933,1366.9127040125627,838.8629886205317,699.5228770806043,1703.9948607740712,2001.5845035099192,1661.4971289513437,13.833947288598814,1789.954416560735,536.6814493700732,1132.6089308139376,441.1615018299951,840.8990396069736,66.08813898724456,383.7980851626828,669.6827231227553,2616.448850224592,248.47816643909047,604.8113644780178,2325.9392496436662,250.9877448826753,1773.2641676455971,487.6626811413284,659.9866328169624,3993.9043629665166,725.0126918446899,1518.8935531228,2563.327994350219,1764.044796980235,859.7508571663263,1718.4793997247243,1277.985303846873,2722.902728284698,734.6956511757144,559.2086732660916,2609.1581718333064,1063.431369511267,1606.5746099820751,219.40054001095652,292.8695551224153,1883.3844957420883,56.481360075732496,2957.8155753913315,1025.489047246204,1907.0638451909604,523.6568135559372,2292.664769107153,246.5519432639403,1200.0825312217105,1426.295513877169,1300.3266286439434,1374.1432592945823,3708.610909272352,1840.83308052494,563.9562218987116,614.978019535778,3678.174064408741,2560.8426130824155,689.3283757116745,2142.6480825986728,2607.013360385508,3182.308371090696,1202.8486213495598,819.3652874852438,1712.764908511324,2364.1023168944507,706.565157595013,715.3338446037347,425.4028372591228,452.0780187669907,920.3776873472024,841.8136817571666,826.6466686368324,1817.3227591472005,330.78512080599165,38178.92529333429,2886.592499252384,929.0848698267176,3096.8180172165034,1784.726343554229,380.6617286825453,409.0292364778049,477.6958569269543,73.49596514507047,3258.066300127478,646.3279089534124,314.36625663819643,1398.5605019782445,1109.992193944195,3454.1667121147107,96.02124007942416,39.92535286487325,1798.5605491642798,917.3174632074328,163.95987355824252,83.71399806166939,48.87831797425383,1300.9522487432175,695.5201039976585,1146.1120827052073,726.5262681949417,735.9059565474743,2450.683512349684,1774.0789938867135,268.1539999125806,1347.0690141442756,911.0125524339882,276.4581380753665,1699.700100794616,3911.9882252496272,1812.3998168383223,1420.5943572205954,826.8560779806398,1773.50084565889,1332.1594772919457,2797.854559142133,3714.799054352152,187.97945916295532,451.6040456225643,1822.05884939462,899.7678548147385,412.6496758944213,2676.6260918605467,753.4102663414048,1230.2244049904075,612.8656366381606,1155.0077939544265,564.9115464459445,1988.501427146728,556.0205940422416,784.5883378014393,383.453727383596,617.4001458675446,322.18984823858176,3440.8723902339225,3375.034591685549,3919.144268598802,1403.2446868418915,3612.580449463926,14.84519740834114,3816.8827314791743,3996.041733081512,1421.2322410365175,700.8919349187285,1326.740808322964,50.94043140674725,224.6931102779019,988.7503355332844,3394.511115161965,1119.908147983003,188.3783823463804,315.5559975496139,186.31750503186208,186.71374504027463,954.5739558106284,2360.9144438813387,404.9386081548725,840.2912224257318,1168.5296115453048,482.3048802495497,2507.477187341556,685.1375582348272,234.5040324861428,797.449058309166,615.2347168659693,907.6703250100604,2046.3400853203584,3501.1521366902207,475.2008284793069,307.0884576472439,1349.920191523144,1678.288159085952,151.0444211679064,2396.9195996414333,706.6372135407064,853.1981636970959,459.1860772260465,20.381486348223486,1971.5660451991944,830.7775380175041,2432.0296172597523,2017.5453371684025,465.6824699631088,2180.5555796703643,29.10205027953329,1900.583527787796,1240.994792395168,896.368516358326,419.5596419123079,1532.2330209709278,862.5339611444721,2626.1626882102646,1900.048298119452,1047.6236499135398,702.357375108986,683.4974025001104,693.9660603046885,2774.9009479236856,1631.2616251669103,880.8489549604437,204.83874426830988,1297.6235891076983,2153.66756347752,653.5541016065868,373.9702258444584,203.7696713745954,1360.969200998551,970.133046934808,680.6511718025541,674.0341733420196,1609.1837345748384,2512.287707458683,292.41128304262696,2269.971955382452,828.7403904206398,2857.8719562882834,438.03253080513286,3229.5226226903687,1567.2876072643107,321.17238344455774,2384.31326423426,2408.7860358856256,463.8740436857217,309.8421099268797,1128.1418922283854,2767.931062769854,856.7740772519678,1848.6953126281185,1660.7111997417362,1866.9163181465483,2861.77835201238,2103.6001881067423,342.21955453992825,1167.4731184898344,847.3370506343194,1451.9275956996387,1815.730280257238,278.0944764027861,825.4836013033073,351.8023306865557,383.3709312679036,2098.872107677491,975.7657696279362,610.7099479103937,429.2275011682632,1657.8113826036538,3347.4834092386595,1936.2669000161088,746.5208982428345,979.3817413868024,736.8123133546611,827.1200136489152,341.82506686254413,530.8867952206655,1517.0288413023047,954.4892008479172,1616.9588695180432,647.1369353568714,124.99865994743271,797.2809857578477,730.4991258384366,800.3253958336054,2936.6629829742865,466.8299144341475,740.0787716654949,2430.840464414565,969.5162836749656,597.3313062516102,942.4763438194552,256.8903575814417,1798.7340099501014,2984.7582383165427,2899.432139071936,98.07175340134177,97.86187510080958,379.8667178277152,714.3754926401499,2373.823513456029,912.616782564012,1754.4945112399118,2623.6793686064275,2583.382787772673,313.8678797347406,1329.0954686025532,593.996669526801,857.7821205069664,1809.6370213573327,1319.3571778101586,272.7198031451192,1355.9908257152276,759.9358322956998,1517.927361990833,1730.8011716126405,201.8401135019428,2643.672157804969,310.44665354372705,1338.4337344054657,120.19779540191328,71.09312205940077,176.39043778971535,874.707630009196,60.181233067686456,257.3623902019083,421.8855355591988,657.3389057344076,200.123961793275,3033.889688007011,533.8979980262176,817.9802467109743,883.9352818845797,297.8296550846061,334.3631707018555,671.7061003994284,725.1651649755813,404.7979663109512,559.026716901679,721.9746222984404,2868.355989034981,3743.239466231369,654.2486238983776,923.0585265619652,3132.9156226244213,983.7613437173292,384.966067860826,2935.732242574657,1848.514938251684,2766.6725313657585,945.4664665869876,106.77459200954064,67.5690244826069,312.6347213132589,2284.3364458682368,1094.8111971960277,1081.361500385486,1312.260150255103,525.0649549609989,687.8994569804652,1192.1269915989635,2969.699185405079,83.8885175631211,2849.2312245483845,3602.5894838961417,2301.831585103604,539.6855771164625,2042.202662141111,118.55642008253476,2332.2931421469,587.0995990201542,2394.665003439653,93.26062107392325,514.6275299515792,1662.883065322482,95.97245349828084,801.5926265359914,125.46948008600448,141.30416512895533,477.5896867847718,2339.194924864463,796.9209651013479,886.0260417564597,901.833853168486,3978.922904254142,1877.7421007930816,1585.0707418460331,1969.048976062163,51.420331370585096,567.3122282226091,2116.542573332972,20.55793668268573,368.8450189089028,2680.9746956106,1234.285799810421,1296.3363014583017,2919.885270851819,1564.345620949935,939.865523438084,2441.6482586277607,843.6579770318009,933.822997712911,356.1460643679181,41.38896857181103,1233.781848279154,1066.368295568832,1566.4300777892272,703.6213390085338,758.504477813924,2597.1955032071387,3868.3343397991534,127.91401389335088,332.7255389028492,1368.4955253855271,267.493651564226,1602.913830541083,507.3662733817304,178.20247232844667,1710.9738245058552,507.1715588212616,509.8161030979884,2624.803365583301,88.78275198021429,2748.536091136797,1302.2874264119196,2833.2447190894045,361.25909934096507,2831.0876755721106,50.89159026169306,3940.947374123409,1947.983759617298,2443.6140595601496,1919.89733693814,1518.196879774298,3159.3943766399925,510.4143464907248,388.02080878147086,1706.7272523585043,474.8539017459292,1671.7417619770954,1171.2376586741475,2813.6941793898004,751.6830081400883,263.85372331181566,514.6675359736676,1325.334744270583,614.4459347774515,2976.672912561753,1845.3893430293551,562.545366356209,2363.0691382610853,966.5146905061388,1603.964029487043,1404.9650091356762,499.9794436115622,988.6558185517584,1911.8897317173387,1357.79734674039,1136.96399985418,1270.0576646019863,3433.361869107687,859.2907917175598,496.842815519258,985.7653161311716,853.3684988684281,2347.9629987254,713.5865672135889,1776.6698985785904,490.49895703374136,2291.688257846212,322.2665263806183,672.9889389624923,1112.903504081071,921.1762849146008,2237.7731257995447,290.2282985263072,698.1119932973743,311.3005070342712,1394.7560084795573,1282.7443110952015,1747.0036246894515,547.2679443916644,2277.0089663459453,961.7050907958992,11198.11075769154,1355.3591462873342,759.3906509068865,1828.391037795748,1245.9891943404125,3942.410189188613,355.1678999049347,2514.35009971768,1172.330273618076,3450.047245107395,662.8379536717297,525.3526234407065,406.3800646107689,1850.976830917749,1354.9395342683858,2244.6334017886056,3181.9835024870044,2569.119920455185,475.02825812027726,3175.8338776617843,1358.8603061482463,2043.699220699105,2777.729640649902,1276.166384366953,1497.585093542902,794.1790786232676,1179.325035793095,418.27789212799786,155.72178039722954,2785.941797841786,1321.7705054317726,368.5126010974876,3658.143194065276,1227.6268379932585,1625.3637009160925,1040.60456648765,14.22546696652384,458.1319656278351,1102.3925603502596,519.3007067250086,1995.321116149379,1619.6441669196606,1312.3507727328283,338.69939876139284,93.59370795191109,1876.234304231854,518.179564095535,776.9484864052542,3232.867414540997,143.95511687404152,215.64236230902733,3437.325563914452,993.8678126590216,312.688755909927,2821.0610307740444,635.1711607457154,1200.1020520658808,499.51500154913583,503.9183510211709,210.6049915814509,354.1880964169993,2389.685225596565,2670.355952420754,940.9584171929567,606.7475291562336,979.8118185314712,1601.1273491796392,72.63791711684897,2834.898113390916,714.0515134898719,3473.439701948712,641.5274782176231,2265.52216934498,2632.659041324372,1039.7732375922128,619.20661757784,1153.8723552275992,263.5805239851914,610.1022869303793,97.43969153919728,2684.0386339012016,1167.8884593120813,1202.05470368591,3318.041505809909,1814.1952439528104,1599.909068084923,2652.6338996848663,1086.937123258145,1617.2723704649438,1504.092217032632,3010.4928436953264,2031.3055763752725,542.0779167651485,853.724691783808,207.8966337983337,1416.6683340077573,810.8248045879843,822.1674153972667,1960.170205349982,2944.8743705097754,1487.9417619425865,1408.1430350142734,569.4817522080549,57.4497945157534,1633.1663329742123,272.66114079006644,2307.5041300954654,1079.7015379358186,1574.9262057101178,175.20085167796157,1541.3827020558558,738.0956126186062,701.2330737486261,589.7833268270927,1630.031020199816,3725.859494223602,449.1348466747438,517.1629616482528,2654.290581962644,2356.846388333028,993.3311976623849,1710.9403680837318,368.12186407232497,3880.029386180725,2139.4231127682165,1904.2795197226376,888.594577273583,221.71146779325417,351.78487761242747,902.5443075457728,570.1732455767977,2396.2301930687177,1591.5851907444007,996.0527555400909,487.5315599232264,242.57465864178693,50.43565190797379,2981.7075885400727,1362.380437772773,156.22806960148705,2199.715992843569,1694.5834437014971,732.5318000359595,589.3607925020699,791.1319839525247,1028.4226070301822,731.4235841513455,524.617038039338,974.740588231472,435.8314871408937,142.09088830897483,911.9647910520106,1966.418834539702,215.83703856707083,2133.088706062409,2349.280968599651,2008.1380056918647,167.21146318284167,56.22669321632883,25797.952243331674,74.23022428339151,457.39393447476334,1957.154350150844,288.9427027445504,817.8471604107989,3951.15050074828,2702.902881711548,976.604809641837,702.0804886997371,1807.0732539896944,872.4986748499698,637.8549430283657,1812.36573912414,2800.6855633416526,433.5325376765266,1108.67880474028,147.90284763854896,900.8720380873596,2520.682580688818,2582.284584491549,188.21260254933648,406.7865343595494,466.2563719915671,2344.7522356464315,1198.312161252065,1706.0437900083657,234.75048636003825,1074.432221382194,1710.6262486331934,615.8205001294099,884.0659805433181,879.6830628608992,385.6528168600077,211.3231291862355,1317.62108141632,3708.088733047206,957.709657381016,2671.929580475708,1769.9105452596373,1918.2042632096693,230.3551295287767,566.0125194131934,441.1447508092024,1552.7956192602676,3969.596711925616,767.5101193940045,803.97751039233,688.0612461815732,280.116194820492,266.15402253969273,594.5864862593048,1881.8962184213224,696.5100926276532,499.5104068254694,1793.7717128916618,545.9880812293558,1622.6775798422168,1217.1122860589746,989.504962740746,222.57676496820852,404.8271610413051,882.2711592043706,590.5363434594545,3157.9068592967383,1698.175179192889,1169.7454550647478,83.32312969899084,2255.311748264861,2375.4435397659213,998.458453723678,2322.983018262098,656.3239924981613,553.8286668372479,486.29721126011634,1137.62793830183,1325.1065317169305,399.37612669585326,2465.4052366417736,1129.2553331471652,591.2183903433549,947.3639610247354,738.0878014479134,555.2465740230547,807.0447203536125,667.8718301492241,137.02071688409978,1325.8369428687215,411.60444432416045,521.4246987316959,2553.5407355638854,2445.8678947499425,673.7371510823923,162.68261898158116,800.0485288869221,532.7554971811481,487.6238151461224,1197.4823861249774,373.8485512664829,1613.4849059453795,949.8524332553828,1242.8364286767437,215.12787977044425,889.2976438533951,327.8346772453984,535.6880568284513,890.269319547627,1807.879722560256,3855.548620301599,3398.4471255231124,445.0534326532276,1296.1097051149911,2733.3701119352,385.3234678076485,1901.8159890464308,3047.5835848952984,1430.962573234275,927.2093066307176,757.3322119623901,551.1346729207121,998.808667581021,1626.5242518352595,977.6777481910436,2963.888335648841,1416.8448520434672,3382.811091643965,3000.0271261759267,1875.8562522574723,395.26448073216494,464.2641004703906,113.66930575207697,967.4106306411508,2307.8369563937867,868.817261964108,800.0761834091904,1520.954337223552,2248.697350692914,1692.8932720233552,799.4522629590823,615.5321554737849,949.7340757507404,544.1568852804056,423.012034919063,2981.392375547286,356.6955875293918,700.8949166905451,72.40167659114383,2063.8988051874194,1223.9834678820173,3079.46161198492,1605.2100219192876,1651.3421376693143,1780.642885775966,349.84330023430755,1328.362262464752,687.3315438574951,1717.7557216737025,453.8138279622154,531.126372219861,2135.302503538286,418.0562488588727,870.7001786562822,30.99871835928424,1257.343516805503,1796.4109160069738,1113.726162401683,469.8492764353792,468.6838923759129,965.574643318875,433.6926196663452,2795.436627796771,3579.8805088108725,3694.978284579105],\"type\":\"box\"}],                        {\"template\":{\"data\":{\"histogram2dcontour\":[{\"type\":\"histogram2dcontour\",\"colorbar\":{\"outlinewidth\":0,\"ticks\":\"\"},\"colorscale\":[[0.0,\"#0d0887\"],[0.1111111111111111,\"#46039f\"],[0.2222222222222222,\"#7201a8\"],[0.3333333333333333,\"#9c179e\"],[0.4444444444444444,\"#bd3786\"],[0.5555555555555556,\"#d8576b\"],[0.6666666666666666,\"#ed7953\"],[0.7777777777777778,\"#fb9f3a\"],[0.8888888888888888,\"#fdca26\"],[1.0,\"#f0f921\"]]}],\"choropleth\":[{\"type\":\"choropleth\",\"colorbar\":{\"outlinewidth\":0,\"ticks\":\"\"}}],\"histogram2d\":[{\"type\":\"histogram2d\",\"colorbar\":{\"outlinewidth\":0,\"ticks\":\"\"},\"colorscale\":[[0.0,\"#0d0887\"],[0.1111111111111111,\"#46039f\"],[0.2222222222222222,\"#7201a8\"],[0.3333333333333333,\"#9c179e\"],[0.4444444444444444,\"#bd3786\"],[0.5555555555555556,\"#d8576b\"],[0.6666666666666666,\"#ed7953\"],[0.7777777777777778,\"#fb9f3a\"],[0.8888888888888888,\"#fdca26\"],[1.0,\"#f0f921\"]]}],\"heatmap\":[{\"type\":\"heatmap\",\"colorbar\":{\"outlinewidth\":0,\"ticks\":\"\"},\"colorscale\":[[0.0,\"#0d0887\"],[0.1111111111111111,\"#46039f\"],[0.2222222222222222,\"#7201a8\"],[0.3333333333333333,\"#9c179e\"],[0.4444444444444444,\"#bd3786\"],[0.5555555555555556,\"#d8576b\"],[0.6666666666666666,\"#ed7953\"],[0.7777777777777778,\"#fb9f3a\"],[0.8888888888888888,\"#fdca26\"],[1.0,\"#f0f921\"]]}],\"heatmapgl\":[{\"type\":\"heatmapgl\",\"colorbar\":{\"outlinewidth\":0,\"ticks\":\"\"},\"colorscale\":[[0.0,\"#0d0887\"],[0.1111111111111111,\"#46039f\"],[0.2222222222222222,\"#7201a8\"],[0.3333333333333333,\"#9c179e\"],[0.4444444444444444,\"#bd3786\"],[0.5555555555555556,\"#d8576b\"],[0.6666666666666666,\"#ed7953\"],[0.7777777777777778,\"#fb9f3a\"],[0.8888888888888888,\"#fdca26\"],[1.0,\"#f0f921\"]]}],\"contourcarpet\":[{\"type\":\"contourcarpet\",\"colorbar\":{\"outlinewidth\":0,\"ticks\":\"\"}}],\"contour\":[{\"type\":\"contour\",\"colorbar\":{\"outlinewidth\":0,\"ticks\":\"\"},\"colorscale\":[[0.0,\"#0d0887\"],[0.1111111111111111,\"#46039f\"],[0.2222222222222222,\"#7201a8\"],[0.3333333333333333,\"#9c179e\"],[0.4444444444444444,\"#bd3786\"],[0.5555555555555556,\"#d8576b\"],[0.6666666666666666,\"#ed7953\"],[0.7777777777777778,\"#fb9f3a\"],[0.8888888888888888,\"#fdca26\"],[1.0,\"#f0f921\"]]}],\"surface\":[{\"type\":\"surface\",\"colorbar\":{\"outlinewidth\":0,\"ticks\":\"\"},\"colorscale\":[[0.0,\"#0d0887\"],[0.1111111111111111,\"#46039f\"],[0.2222222222222222,\"#7201a8\"],[0.3333333333333333,\"#9c179e\"],[0.4444444444444444,\"#bd3786\"],[0.5555555555555556,\"#d8576b\"],[0.6666666666666666,\"#ed7953\"],[0.7777777777777778,\"#fb9f3a\"],[0.8888888888888888,\"#fdca26\"],[1.0,\"#f0f921\"]]}],\"mesh3d\":[{\"type\":\"mesh3d\",\"colorbar\":{\"outlinewidth\":0,\"ticks\":\"\"}}],\"scatter\":[{\"fillpattern\":{\"fillmode\":\"overlay\",\"size\":10,\"solidity\":0.2},\"type\":\"scatter\"}],\"parcoords\":[{\"type\":\"parcoords\",\"line\":{\"colorbar\":{\"outlinewidth\":0,\"ticks\":\"\"}}}],\"scatterpolargl\":[{\"type\":\"scatterpolargl\",\"marker\":{\"colorbar\":{\"outlinewidth\":0,\"ticks\":\"\"}}}],\"bar\":[{\"error_x\":{\"color\":\"#2a3f5f\"},\"error_y\":{\"color\":\"#2a3f5f\"},\"marker\":{\"line\":{\"color\":\"#E5ECF6\",\"width\":0.5},\"pattern\":{\"fillmode\":\"overlay\",\"size\":10,\"solidity\":0.2}},\"type\":\"bar\"}],\"scattergeo\":[{\"type\":\"scattergeo\",\"marker\":{\"colorbar\":{\"outlinewidth\":0,\"ticks\":\"\"}}}],\"scatterpolar\":[{\"type\":\"scatterpolar\",\"marker\":{\"colorbar\":{\"outlinewidth\":0,\"ticks\":\"\"}}}],\"histogram\":[{\"marker\":{\"pattern\":{\"fillmode\":\"overlay\",\"size\":10,\"solidity\":0.2}},\"type\":\"histogram\"}],\"scattergl\":[{\"type\":\"scattergl\",\"marker\":{\"colorbar\":{\"outlinewidth\":0,\"ticks\":\"\"}}}],\"scatter3d\":[{\"type\":\"scatter3d\",\"line\":{\"colorbar\":{\"outlinewidth\":0,\"ticks\":\"\"}},\"marker\":{\"colorbar\":{\"outlinewidth\":0,\"ticks\":\"\"}}}],\"scattermapbox\":[{\"type\":\"scattermapbox\",\"marker\":{\"colorbar\":{\"outlinewidth\":0,\"ticks\":\"\"}}}],\"scatterternary\":[{\"type\":\"scatterternary\",\"marker\":{\"colorbar\":{\"outlinewidth\":0,\"ticks\":\"\"}}}],\"scattercarpet\":[{\"type\":\"scattercarpet\",\"marker\":{\"colorbar\":{\"outlinewidth\":0,\"ticks\":\"\"}}}],\"carpet\":[{\"aaxis\":{\"endlinecolor\":\"#2a3f5f\",\"gridcolor\":\"white\",\"linecolor\":\"white\",\"minorgridcolor\":\"white\",\"startlinecolor\":\"#2a3f5f\"},\"baxis\":{\"endlinecolor\":\"#2a3f5f\",\"gridcolor\":\"white\",\"linecolor\":\"white\",\"minorgridcolor\":\"white\",\"startlinecolor\":\"#2a3f5f\"},\"type\":\"carpet\"}],\"table\":[{\"cells\":{\"fill\":{\"color\":\"#EBF0F8\"},\"line\":{\"color\":\"white\"}},\"header\":{\"fill\":{\"color\":\"#C8D4E3\"},\"line\":{\"color\":\"white\"}},\"type\":\"table\"}],\"barpolar\":[{\"marker\":{\"line\":{\"color\":\"#E5ECF6\",\"width\":0.5},\"pattern\":{\"fillmode\":\"overlay\",\"size\":10,\"solidity\":0.2}},\"type\":\"barpolar\"}],\"pie\":[{\"automargin\":true,\"type\":\"pie\"}]},\"layout\":{\"autotypenumbers\":\"strict\",\"colorway\":[\"#636efa\",\"#EF553B\",\"#00cc96\",\"#ab63fa\",\"#FFA15A\",\"#19d3f3\",\"#FF6692\",\"#B6E880\",\"#FF97FF\",\"#FECB52\"],\"font\":{\"color\":\"#2a3f5f\"},\"hovermode\":\"closest\",\"hoverlabel\":{\"align\":\"left\"},\"paper_bgcolor\":\"white\",\"plot_bgcolor\":\"#E5ECF6\",\"polar\":{\"bgcolor\":\"#E5ECF6\",\"angularaxis\":{\"gridcolor\":\"white\",\"linecolor\":\"white\",\"ticks\":\"\"},\"radialaxis\":{\"gridcolor\":\"white\",\"linecolor\":\"white\",\"ticks\":\"\"}},\"ternary\":{\"bgcolor\":\"#E5ECF6\",\"aaxis\":{\"gridcolor\":\"white\",\"linecolor\":\"white\",\"ticks\":\"\"},\"baxis\":{\"gridcolor\":\"white\",\"linecolor\":\"white\",\"ticks\":\"\"},\"caxis\":{\"gridcolor\":\"white\",\"linecolor\":\"white\",\"ticks\":\"\"}},\"coloraxis\":{\"colorbar\":{\"outlinewidth\":0,\"ticks\":\"\"}},\"colorscale\":{\"sequential\":[[0.0,\"#0d0887\"],[0.1111111111111111,\"#46039f\"],[0.2222222222222222,\"#7201a8\"],[0.3333333333333333,\"#9c179e\"],[0.4444444444444444,\"#bd3786\"],[0.5555555555555556,\"#d8576b\"],[0.6666666666666666,\"#ed7953\"],[0.7777777777777778,\"#fb9f3a\"],[0.8888888888888888,\"#fdca26\"],[1.0,\"#f0f921\"]],\"sequentialminus\":[[0.0,\"#0d0887\"],[0.1111111111111111,\"#46039f\"],[0.2222222222222222,\"#7201a8\"],[0.3333333333333333,\"#9c179e\"],[0.4444444444444444,\"#bd3786\"],[0.5555555555555556,\"#d8576b\"],[0.6666666666666666,\"#ed7953\"],[0.7777777777777778,\"#fb9f3a\"],[0.8888888888888888,\"#fdca26\"],[1.0,\"#f0f921\"]],\"diverging\":[[0,\"#8e0152\"],[0.1,\"#c51b7d\"],[0.2,\"#de77ae\"],[0.3,\"#f1b6da\"],[0.4,\"#fde0ef\"],[0.5,\"#f7f7f7\"],[0.6,\"#e6f5d0\"],[0.7,\"#b8e186\"],[0.8,\"#7fbc41\"],[0.9,\"#4d9221\"],[1,\"#276419\"]]},\"xaxis\":{\"gridcolor\":\"white\",\"linecolor\":\"white\",\"ticks\":\"\",\"title\":{\"standoff\":15},\"zerolinecolor\":\"white\",\"automargin\":true,\"zerolinewidth\":2},\"yaxis\":{\"gridcolor\":\"white\",\"linecolor\":\"white\",\"ticks\":\"\",\"title\":{\"standoff\":15},\"zerolinecolor\":\"white\",\"automargin\":true,\"zerolinewidth\":2},\"scene\":{\"xaxis\":{\"backgroundcolor\":\"#E5ECF6\",\"gridcolor\":\"white\",\"linecolor\":\"white\",\"showbackground\":true,\"ticks\":\"\",\"zerolinecolor\":\"white\",\"gridwidth\":2},\"yaxis\":{\"backgroundcolor\":\"#E5ECF6\",\"gridcolor\":\"white\",\"linecolor\":\"white\",\"showbackground\":true,\"ticks\":\"\",\"zerolinecolor\":\"white\",\"gridwidth\":2},\"zaxis\":{\"backgroundcolor\":\"#E5ECF6\",\"gridcolor\":\"white\",\"linecolor\":\"white\",\"showbackground\":true,\"ticks\":\"\",\"zerolinecolor\":\"white\",\"gridwidth\":2}},\"shapedefaults\":{\"line\":{\"color\":\"#2a3f5f\"}},\"annotationdefaults\":{\"arrowcolor\":\"#2a3f5f\",\"arrowhead\":0,\"arrowwidth\":1},\"geo\":{\"bgcolor\":\"white\",\"landcolor\":\"#E5ECF6\",\"subunitcolor\":\"white\",\"showland\":true,\"showlakes\":true,\"lakecolor\":\"white\"},\"title\":{\"x\":0.05},\"mapbox\":{\"style\":\"light\"}}}},                        {\"responsive\": true}                    ).then(function(){\n",
              "                            \n",
              "var gd = document.getElementById('d9d2d395-ee62-4d44-a1aa-724f164d43e4');\n",
              "var x = new MutationObserver(function (mutations, observer) {{\n",
              "        var display = window.getComputedStyle(gd).display;\n",
              "        if (!display || display === 'none') {{\n",
              "            console.log([gd, 'removed!']);\n",
              "            Plotly.purge(gd);\n",
              "            observer.disconnect();\n",
              "        }}\n",
              "}});\n",
              "\n",
              "// Listen for the removal of the full notebook cells\n",
              "var notebookContainer = gd.closest('#notebook-container');\n",
              "if (notebookContainer) {{\n",
              "    x.observe(notebookContainer, {childList: true});\n",
              "}}\n",
              "\n",
              "// Listen for the clearing of the current output cell\n",
              "var outputEl = gd.closest('.output');\n",
              "if (outputEl) {{\n",
              "    x.observe(outputEl, {childList: true});\n",
              "}}\n",
              "\n",
              "                        })                };                            </script>        </div>\n",
              "</body>\n",
              "</html>"
            ]
          },
          "metadata": {}
        }
      ]
    },
    {
      "cell_type": "markdown",
      "source": [
        "- We can notice that we have 5 outliers in these 2 columns"
      ],
      "metadata": {
        "id": "f2ee9vaOgfeG"
      }
    },
    {
      "cell_type": "code",
      "source": [
        "#Use Winsorize to replace extreme values with values closer to the defined limits\n",
        "\n",
        "dataset['TotalPrice_winsorize'] = mstats.winsorize(dataset['TotalPrice'], limits=[0.005, 0.005])"
      ],
      "metadata": {
        "id": "OZL4pZ14arqX"
      },
      "execution_count": 1002,
      "outputs": []
    },
    {
      "cell_type": "code",
      "source": [
        "print('---------------------------------------------------------------')\n",
        "\n",
        "# Stats Before winsorize\n",
        "print(\"Before winsorize\")\n",
        "\n",
        "print('---------------------------------------------------------------')\n",
        "\n",
        "print(dataset['TotalPrice'].describe())\n",
        "\n",
        "print('---------------------------------------------------------------')\n",
        "\n",
        "# Stats After winsorize\n",
        "print(\"After winsorize\")\n",
        "\n",
        "print('---------------------------------------------------------------')\n",
        "\n",
        "print(dataset['TotalPrice_winsorize'].describe())\n",
        "\n",
        "print('---------------------------------------------------------------')\n"
      ],
      "metadata": {
        "colab": {
          "base_uri": "https://localhost:8080/"
        },
        "id": "kEU9DCFvfeg7",
        "outputId": "be969e44-9c8c-4743-9ae1-a9a9f95a1bfc"
      },
      "execution_count": 1003,
      "outputs": [
        {
          "output_type": "stream",
          "name": "stdout",
          "text": [
            "---------------------------------------------------------------\n",
            "Before winsorize\n",
            "---------------------------------------------------------------\n",
            "count     1000.000000\n",
            "mean      1333.926862\n",
            "std       1726.492750\n",
            "min         12.496399\n",
            "25%        499.863333\n",
            "50%        974.741675\n",
            "75%       1816.128400\n",
            "max      38178.925293\n",
            "Name: TotalPrice, dtype: float64\n",
            "---------------------------------------------------------------\n",
            "After winsorize\n",
            "---------------------------------------------------------------\n",
            "count    1000.000000\n",
            "mean     1270.681005\n",
            "std       970.628585\n",
            "min        20.557937\n",
            "25%       499.863333\n",
            "50%       974.741675\n",
            "75%      1816.128400\n",
            "max      3993.904363\n",
            "Name: TotalPrice_winsorize, dtype: float64\n",
            "---------------------------------------------------------------\n"
          ]
        }
      ]
    },
    {
      "cell_type": "code",
      "source": [
        "# Before winsorize\n",
        "stat_before, p_value_before = shapiro(dataset['TotalPrice'])\n",
        "print(f\"Shapiro-Wilk Before winsorize: Stat={stat_before:.4f}, p-value={p_value_before:.4f}\")\n",
        "\n",
        "# After winsorize\n",
        "stat_after, p_value_after = shapiro(dataset['TotalPrice_winsorize'])\n",
        "print(f\"Shapiro-Wilk Aefore winsorize: Stat={stat_after:.4f}, p-value={p_value_after:.4f}\")\n"
      ],
      "metadata": {
        "colab": {
          "base_uri": "https://localhost:8080/"
        },
        "id": "Mc5bROhHccmW",
        "outputId": "c9728ab8-d490-4903-ff10-eb06a6bf63fe"
      },
      "execution_count": 1004,
      "outputs": [
        {
          "output_type": "stream",
          "name": "stdout",
          "text": [
            "Shapiro-Wilk Before winsorize: Stat=0.4288, p-value=0.0000\n",
            "Shapiro-Wilk Aefore winsorize: Stat=0.9125, p-value=0.0000\n"
          ]
        }
      ]
    },
    {
      "cell_type": "code",
      "source": [
        "# Yeo-Johnson Transformation\n",
        "pt = PowerTransformer(method='yeo-johnson')\n",
        "dataset['TotalPrice_yeojohnson'] = pt.fit_transform(dataset[['TotalPrice_winsorize']])\n"
      ],
      "metadata": {
        "id": "vKoCo_x2hyOq"
      },
      "execution_count": 1005,
      "outputs": []
    },
    {
      "cell_type": "code",
      "source": [
        "print(dataset['TotalPrice_yeojohnson'].describe())\n",
        "\n",
        "print('---------------------------------------------------------------')\n",
        "\n",
        "print(dataset['TotalPrice'].describe())\n"
      ],
      "metadata": {
        "colab": {
          "base_uri": "https://localhost:8080/"
        },
        "id": "d-d0CSX1iPcQ",
        "outputId": "21cc3327-7b05-4fb6-caee-bc60f6246abf"
      },
      "execution_count": 1006,
      "outputs": [
        {
          "output_type": "stream",
          "name": "stdout",
          "text": [
            "count    1.000000e+03\n",
            "mean     9.459100e-17\n",
            "std      1.000500e+00\n",
            "min     -2.442368e+00\n",
            "25%     -7.200799e-01\n",
            "50%     -4.851551e-02\n",
            "75%      7.327670e-01\n",
            "max      1.995439e+00\n",
            "Name: TotalPrice_yeojohnson, dtype: float64\n",
            "---------------------------------------------------------------\n",
            "count     1000.000000\n",
            "mean      1333.926862\n",
            "std       1726.492750\n",
            "min         12.496399\n",
            "25%        499.863333\n",
            "50%        974.741675\n",
            "75%       1816.128400\n",
            "max      38178.925293\n",
            "Name: TotalPrice, dtype: float64\n"
          ]
        }
      ]
    },
    {
      "cell_type": "code",
      "source": [
        "# After winsorize\n",
        "stat_after, p_value_after = shapiro(dataset['TotalPrice_yeojohnson'])\n",
        "print(f\"Shapiro-Wilk After yeojohnson: Stat={stat_after:.4f}, p-value={p_value_after:.4f}\")\n"
      ],
      "metadata": {
        "colab": {
          "base_uri": "https://localhost:8080/"
        },
        "id": "CLt_W8LgiJ_M",
        "outputId": "5ef0e041-e903-45e7-d0ec-b36202d3a545"
      },
      "execution_count": 1007,
      "outputs": [
        {
          "output_type": "stream",
          "name": "stdout",
          "text": [
            "Shapiro-Wilk After yeojohnson: Stat=0.9886, p-value=0.0000\n"
          ]
        }
      ]
    },
    {
      "cell_type": "code",
      "source": [
        "kstest_result = stats.kstest(dataset['TotalPrice_yeojohnson'], 'norm')\n",
        "print(\"K-S Test Statistic:\", kstest_result.statistic)\n",
        "print(\"K-S Test p-value:\", kstest_result.pvalue)"
      ],
      "metadata": {
        "colab": {
          "base_uri": "https://localhost:8080/"
        },
        "id": "VpHpbtj_iiD7",
        "outputId": "e0a698b0-83a1-4b22-f619-913589fd4058"
      },
      "execution_count": 1008,
      "outputs": [
        {
          "output_type": "stream",
          "name": "stdout",
          "text": [
            "K-S Test Statistic: 0.0361800474793329\n",
            "K-S Test p-value: 0.14234387540796378\n"
          ]
        }
      ]
    },
    {
      "cell_type": "markdown",
      "source": [
        "- The test suggests that the differences between the empirical distribution of our data and a normal distribution are minimal.\n"
      ],
      "metadata": {
        "id": "KmxDnX42j2or"
      }
    },
    {
      "cell_type": "code",
      "source": [
        "dataset['TotalPrice'] = dataset['TotalPrice_yeojohnson']\n",
        "dataset['ProductPrice'] = dataset['ProductPrice_winsorize']"
      ],
      "metadata": {
        "id": "sfbeg_tQqudM"
      },
      "execution_count": 1009,
      "outputs": []
    },
    {
      "cell_type": "markdown",
      "source": [
        "#Visualizations"
      ],
      "metadata": {
        "id": "8gGmpbdulnFP"
      }
    },
    {
      "cell_type": "code",
      "source": [
        "#Check Best Selling Products Category\n",
        "\n",
        "item_counts = dataset['ProductCategory'].value_counts().sort_values(ascending=False).iloc[0:15]\n",
        "plt.figure(figsize=(18,6))\n",
        "sns.barplot(x = item_counts.index, y = item_counts.values, palette=sns.cubehelix_palette(3))\n",
        "plt.ylabel(\"Counts\")\n",
        "plt.title(\"Which items were bought more often?\");\n",
        "plt.xticks(rotation=90);"
      ],
      "metadata": {
        "colab": {
          "base_uri": "https://localhost:8080/",
          "height": 527
        },
        "id": "z07qEk5bl0Cb",
        "outputId": "6b8d2fda-8b6c-456c-9538-51533665c9d7"
      },
      "execution_count": 1010,
      "outputs": [
        {
          "output_type": "display_data",
          "data": {
            "text/plain": [
              "<Figure size 1800x600 with 1 Axes>"
            ],
            "image/png": "[encoded data removed]"
          },
          "metadata": {}
        }
      ]
    },
    {
      "cell_type": "code",
      "source": [
        "#Check Products Price Distribution\n",
        "\n",
        "fig = px.histogram(dataset, x='ProductPrice',\n",
        "                   title='Products Price Distribution', nbins=20,\n",
        "                   labels={'ProductPrice': 'Product Prices'},\n",
        "                   color_discrete_sequence=px.colors.qualitative.Pastel)\n",
        "\n",
        "#Plot out Figure\n",
        "\n",
        "fig.update_layout(xaxis_title='Product Price',\n",
        "                  yaxis_title='Number of products',\n",
        "                  title_x=0.5,\n",
        "                  plot_bgcolor='rgba(0,0,0,0)',\n",
        "                  paper_bgcolor='rgba(240,240,240,1)',\n",
        "                  xaxis=dict(showgrid=False),\n",
        "                  yaxis=dict(showgrid=True, gridcolor='rgba(200,200,200,0.7)'))\n",
        "\n",
        "# Print it out\n",
        "\n",
        "fig.show()"
      ],
      "metadata": {
        "colab": {
          "base_uri": "https://localhost:8080/",
          "height": 542
        },
        "id": "lnvBq6zKpJKZ",
        "outputId": "298e4637-8a35-4d40-e876-f5ba2a0c15df"
      },
      "execution_count": 1011,
      "outputs": [
        {
          "output_type": "display_data",
          "data": {
            "text/html": [
              "<html>\n",
              "<head><meta charset=\"utf-8\" /></head>\n",
              "<body>\n",
              "    <div>            <script src=\"https://cdnjs.cloudflare.com/ajax/libs/mathjax/2.7.5/MathJax.js?config=TeX-AMS-MML_SVG\"></script><script type=\"text/javascript\">if (window.MathJax && window.MathJax.Hub && window.MathJax.Hub.Config) {window.MathJax.Hub.Config({SVG: {font: \"STIX-Web\"}});}</script>                <script type=\"text/javascript\">window.PlotlyConfig = {MathJaxConfig: 'local'};</script>\n",
              "        <script charset=\"utf-8\" src=\"https://cdn.plot.ly/plotly-2.24.1.min.js\"></script>                <div id=\"7265c45c-1681-401f-8c65-afe7f7197310\" class=\"plotly-graph-div\" style=\"height:525px; width:100%;\"></div>            <script type=\"text/javascript\">                                    window.PLOTLYENV=window.PLOTLYENV || {};                                    if (document.getElementById(\"7265c45c-1681-401f-8c65-afe7f7197310\")) {                    Plotly.newPlot(                        \"7265c45c-1681-401f-8c65-afe7f7197310\",                        [{\"alignmentgroup\":\"True\",\"bingroup\":\"x\",\"hovertemplate\":\"Product Prices=%{x}\\u003cbr\\u003ecount=%{y}\\u003cextra\\u003e\\u003c\\u002fextra\\u003e\",\"legendgroup\":\"\",\"marker\":{\"color\":\"rgb(102, 197, 204)\",\"pattern\":{\"shape\":\"\"}},\"name\":\"\",\"nbinsx\":20,\"offsetgroup\":\"\",\"orientation\":\"v\",\"showlegend\":false,\"x\":[617.7257416552992,577.8562386545124,376.18241861094486,826.6909256124002,116.35685777300009,676.9230321295088,99.63135802517256,842.312168558943,353.4974819548866,973.9969392382852,235.8372043763778,165.21999059798006,632.6847177641231,126.15691759932268,508.0790821992,786.785822337443,581.5117297778646,639.9259165115084,174.3213591501153,365.6507005064437,983.128248754258,498.9914361154108,839.1486042445569,281.1412166579225,605.7010847226713,68.76770065772243,809.5244106289659,603.3671572910224,145.3730870782583,892.9447136801685,830.2780980596148,807.96390393661,85.40517528434157,632.7664118984538,529.9428255999408,102.14960044650346,137.90829953735368,964.1198796410068,175.9006112060809,960.5768428354676,557.2178376426638,572.1525856394586,861.5933038122084,334.3675609079002,646.4936568530777,213.69682127576613,51.93324247006166,451.7319768801389,419.7118119267798,491.963734876358,250.65225488707136,110.64369604608628,329.3325413759754,663.5123655452794,372.5603252452619,101.02106029431994,691.2037032447582,137.74784065791255,735.5162582967037,217.2639229230596,785.0947503698983,473.10779243658726,999.010433270378,291.82995724593417,765.0881463477857,170.98873574297556,716.0115469702972,196.3839777189237,627.0145048496978,602.4507858171472,281.94913308166605,817.4568481659854,102.62377586827483,253.68694396261435,756.1626471354961,821.0236699661046,135.64894278749156,540.4905991353231,899.3076506850588,361.70201445493615,123.21080068428924,509.00733699528536,705.1934077584151,752.3843847325568,428.41502021009256,706.9204526194777,555.7815695777078,244.12139259570407,23.091788435268136,699.9474845541941,220.4730170961648,598.4227030005876,607.6299012156677,569.3010594727907,656.0413304166258,582.4232523032172,933.1611859605014,495.5626025252452,55.550120170477655,394.6095766032079,282.5928473970621,384.27736061929807,71.48849844586992,518.1408169965442,156.88577479940324,14.84519740834114,431.6776472324132,528.1482409156494,112.5362586029609,386.5320011625918,894.2823299135736,486.458642242943,144.8274610890277,950.8154046643482,242.66579817882968,623.6063825900231,476.2987179991737,75.14917147379688,118.76928514782712,96.58304549036646,507.2500286265986,224.745845379606,940.4813325538412,411.25613028824057,165.72067674939413,298.7623989362292,846.720397647587,695.6683533256609,933.2861696884078,379.9600843886796,360.3541434199828,887.8877522992144,762.2534944817729,620.557665626212,155.67704985902708,685.4173986074811,157.86991985104015,383.4240100781127,960.8441450217668,571.6898911828644,423.22628608923753,268.03170417627774,88.78444190004102,222.09954453978065,579.7374093120503,971.3443423424744,770.6801426582745,766.7693872509547,171.83206364499208,653.4829878437754,724.6344993421359,463.04461822465487,267.7436665070698,764.7465849416866,250.37151914582705,569.6439117837525,435.3554299837257,977.170662227076,548.742007519061,614.6083150637082,471.7477054023494,338.1986820500195,569.4107995350533,503.2651232265301,529.1226796192572,578.7047897450184,316.3454086523116,233.82757939530524,198.037199046358,106.246877430666,976.0706613834792,167.69498035642596,919.8019096586984,382.34124959413214,81.15581478090749,58.70321871401568,324.91425424023896,827.6323855639066,855.6626409820557,292.22655197416066,319.8643322421112,871.1923001135178,415.9054448551698,56.37530473700596,760.7267353239007,534.2238987124558,958.36141843844,898.3064966239775,572.5189552956325,220.52309612361023,791.5259947816262,418.1124281280669,913.8720964489954,771.8943141226347,959.1610333101904,754.1615841371548,169.2532303929268,658.0524437796362,302.533832415093,132.5789251681565,872.2541889508743,745.5588138084182,163.4131335653883,738.1548230263254,403.5205447625234,339.1293692197046,206.1136496752182,261.0497374137933,341.7281760031407,838.8629886205317,349.7614385403021,851.9974303870356,667.1948345033064,553.8323763171146,14.84519740834114,447.48860414018367,536.6814493700732,377.5363102713125,220.5807509149976,840.8990396069736,16.52203474681114,383.7980851626828,669.6827231227553,654.1122125561479,62.11954160977262,302.4056822390089,775.3130832145554,125.49387244133769,886.6320838227986,243.8313405706642,219.9955442723208,998.4760907416292,725.0126918446899,506.29785104093327,854.4426647834063,882.0223984901177,286.5836190554421,572.8264665749082,638.9926519234365,680.7256820711744,734.6956511757144,559.2086732660916,869.7193906111021,531.7156847556334,803.2873049910376,219.40054001095652,146.43477756120765,941.6922478710442,18.827120025244167,985.9385251304438,341.8296824154013,953.5319225954802,523.6568135559372,573.1661922767884,61.63798581598508,400.0275104072368,713.1477569385845,650.1633143219717,687.0716296472913,927.1527273180876,920.41654026247,563.9562218987116,614.978019535778,919.5435161021852,640.2106532706039,689.3283757116745,714.216027532891,651.753340096377,795.577092772674,400.9495404498533,273.12176249508127,428.191227127831,591.0255792236127,353.2825787975065,715.3338446037347,425.4028372591228,113.01950469174768,306.7925624490674,280.6045605857222,826.6466686368324,454.33068978680006,330.78512080599165,999.010433270378,721.6481248130958,929.0848698267176,774.2045043041259,892.3631717771145,380.6617286825453,409.0292364778049,477.6958569269543,36.74798257253524,814.5165750318695,161.5819772383531,78.59156415954911,699.2802509891222,554.9960969720975,863.5416780286777,48.01062003971209,39.92535286487325,899.2802745821399,458.6587316037164,81.97993677912126,27.904666020556466,48.87831797425383,650.4761243716088,347.7600519988292,382.0373609017357,181.63156704873543,735.9059565474743,612.670878087421,887.0394969433568,67.03849997814515,336.7672535360689,911.0125524339882,92.15271269178884,566.566700264872,977.9970563124068,906.1999084191611,355.14858930514885,826.8560779806398,886.750422829445,333.0398693229864,699.4636397855334,928.6997635880376,62.659819720985126,451.6040456225643,455.5147123486549,449.8839274073693,412.6496758944213,669.1565229651367,376.7051331707024,307.556101247602,612.8656366381606,288.7519484886066,564.9115464459445,994.250713573364,556.0205940422416,392.2941689007196,383.453727383596,617.4001458675446,322.18984823858176,860.2180975584806,843.7586479213873,999.010433270378,467.7482289472972,903.1451123659816,14.84519740834114,954.2206828697936,999.010433270378,710.6161205182588,350.4459674593642,663.3704041614819,14.84519740834114,74.8977034259673,988.7503355332844,848.6277787904912,559.9540739915013,94.1891911731902,315.5559975496139,62.10583501062069,186.71374504027463,954.5739558106284,786.9714812937796,404.9386081548725,840.2912224257318,584.2648057726524,482.3048802495497,835.825729113852,685.1375582348272,117.2520162430714,797.449058309166,615.2347168659693,302.5567750033535,511.5850213300896,875.2880341725552,475.2008284793069,153.54422882362195,337.480047880786,839.144079542976,75.5222105839532,599.2298999103583,235.5457378469021,853.1981636970959,459.1860772260465,20.381486348223486,657.1886817330649,207.694384504376,608.0074043149381,672.5151123894675,465.6824699631088,726.8518598901214,29.10205027953329,633.527842595932,620.497396197584,224.0921290895815,104.88991047807696,766.1165104854639,862.5339611444721,875.3875627367548,475.0120745298629,261.90591247838495,175.5893437772465,227.8324675000368,173.4915150761721,924.9669826412286,815.6308125834552,440.42447748022187,51.20968606707747,432.54119636923286,717.8891878258399,653.5541016065868,186.9851129222292,203.7696713745954,453.6564003328504,323.3776823116027,340.32558590127707,224.6780577806732,804.5918672874192,837.429235819561,292.41128304262696,756.6573184608172,828.7403904206398,952.623985429428,438.03253080513286,807.3806556725922,522.4292024214369,160.58619172227887,794.7710880780867,602.1965089714064,231.93702184286084,154.92105496343984,376.0472974094618,922.6436875899516,856.7740772519678,924.3476563140592,553.5703999139121,933.4581590732744,715.444588003095,701.2000627022474,171.10977726996413,583.7365592449172,282.44568354477315,362.9818989249097,453.9325700643095,139.04723820139304,825.4836013033073,175.90116534327785,95.8427328169759,524.7180269193727,975.7657696279362,305.35497395519684,429.2275011682632,552.603794201218,836.8708523096649,484.0667250040272,746.5208982428345,979.3817413868024,736.8123133546611,827.1200136489152,170.91253343127207,530.8867952206655,505.6762804341016,477.2446004239587,404.2397173795108,647.1369353568714,124.99865994743271,265.76032858594925,365.2495629192183,800.3253958336054,734.1657457435716,466.8299144341475,246.69292388849829,810.280154804855,323.1720945583219,298.6656531258051,942.4763438194552,128.44517879072086,899.3670049750507,746.1895595791357,966.4773796906454,24.51793835033544,97.86187510080958,379.8667178277152,714.3754926401499,791.2745044853431,304.205594188004,877.2472556199559,655.9198421516069,861.1275959242245,78.46696993368515,332.2738671506383,148.49916738170026,857.7821205069664,904.8185106786664,659.6785889050793,272.7198031451192,677.9954128576138,759.9358322956998,758.9636809954166,865.4005858063202,67.28003783398091,881.2240526016564,103.48221784790904,334.6084336013664,120.19779540191328,71.09312205940077,176.39043778971535,874.707630009196,30.090616533843228,257.3623902019083,421.8855355591988,164.3347264336019,200.123961793275,758.4724220017528,266.9489990131088,817.9802467109743,441.96764094228985,99.27655169486869,334.3631707018555,223.9020334664761,725.1651649755813,134.93265543698374,559.026716901679,721.9746222984404,956.1186630116604,935.8098665578424,327.1243119491888,461.52926328098266,783.2289056561053,491.8806718586646,384.966067860826,978.5774141915524,462.12873456292095,922.2241771219196,472.73323329349375,53.38729600477033,67.5690244826069,156.31736065662946,761.4454819560789,273.7027992990069,360.4538334618287,656.1300751275515,525.0649549609989,343.9497284902326,596.0634957994819,742.4247963512697,83.8885175631211,949.7437415161282,900.6473709740354,767.2771950345345,269.84278855823123,510.55066553527774,118.55642008253476,583.073285536725,293.5497995100771,798.2216678132177,46.630310536961616,171.54250998385973,415.7207663306205,31.99081783276028,801.5926265359914,31.36737002150112,35.32604128223883,477.5896867847718,779.7316416214876,199.23024127533697,443.0130208782298,901.833853168486,994.7307260635356,938.8710503965408,792.5353709230166,492.2622440155408,25.710165685292548,567.3122282226091,705.5141911109906,20.55793668268573,368.8450189089028,893.6582318702,411.42859993680696,432.1121004861006,973.2950902839395,782.1728104749675,234.966380859521,610.4120646569402,843.6579770318009,933.822997712911,356.1460643679181,41.38896857181103,308.4454620697885,266.592073892208,783.2150388946136,703.6213390085338,379.252238906962,865.7318344023796,967.0835849497884,127.91401389335088,166.3627694514246,684.2477626927636,267.493651564226,534.304610180361,169.12209112724346,178.20247232844667,855.4869122529276,253.5857794106308,509.8161030979884,656.2008413958254,44.39137599010714,916.1786970455988,434.0958088039732,944.4149063631348,361.25909934096507,943.6958918573702,50.89159026169306,985.2368435308524,973.991879808649,610.9035148900374,639.9657789793799,379.5492199435745,789.8485941599981,510.4143464907248,388.02080878147086,853.3636261792522,237.4269508729646,417.93544049427385,390.4125528913825,703.4235448474501,751.6830081400883,131.92686165590783,514.6675359736676,441.7782480901944,204.81531159248385,744.1682281404383,615.129781009785,562.545366356209,787.6897127536951,483.2573452530695,801.9820147435215,702.4825045678381,249.9897218057811,988.6558185517584,637.2965772391129,452.59911558013,378.9879999513933,423.3525548673288,858.3404672769218,429.6453958587799,248.42140775962892,985.7653161311716,284.456166289476,586.9907496813499,713.5865672135889,888.3349492892952,163.49965234458045,572.922064461553,161.13326319030915,224.3296463208308,370.96783469369046,307.0587616382003,745.9243752665149,290.2282985263072,698.1119932973743,311.3005070342712,464.91866949318575,427.58143703173386,582.3345415631505,182.4226481305548,759.0029887819818,961.7050907958992,999.010433270378,677.6795731436671,759.3906509068865,914.195518897874,622.9945971702062,985.6025472971533,177.58394995246735,838.1166999058934,293.082568404519,862.5118112768488,220.94598455724324,525.3526234407065,406.3800646107689,462.7442077294373,451.6465114227953,561.1583504471514,795.4958756217511,856.373306818395,475.02825812027726,793.9584694154461,679.4301530741232,681.2330735663684,925.9098802166344,638.0831921834765,374.3962733857255,198.5447696558169,393.10834526436486,139.42596404266595,77.86089019861477,928.647265947262,330.44262635794314,184.2563005487438,914.535798516319,613.8134189966293,406.3409252290231,520.3022832438251,14.84519740834114,458.1319656278351,551.1962801751298,259.6503533625043,498.8302790373447,539.8813889732202,656.1753863664142,112.89979958713094,31.197902650637023,625.4114347439513,129.54489102388376,388.4742432026271,808.2168536352492,143.95511687404152,71.88078743634244,859.3313909786131,993.8678126590216,312.688755909927,705.2652576935111,317.5855803728577,400.0340173552936,499.51500154913583,251.95917551058545,70.20166386048362,177.09404820849966,597.4213063991414,667.5889881051885,940.9584171929567,606.7475291562336,326.6039395104904,800.5636745898196,72.63791711684897,708.7245283477289,178.51287837246798,868.359925487178,641.5274782176231,566.380542336245,877.5530137747905,519.8866187961064,309.60330878892,384.6241184091997,65.89513099629785,203.3674289767931,97.43969153919728,671.0096584753004,389.2961531040271,400.6849012286367,829.5103764524772,453.54881098820255,799.9545340424617,884.2112998949553,543.4685616290725,808.6361852324719,501.3640723442107,752.6232109238316,507.8263940938181,135.51947919128713,853.724691783808,69.29887793277791,708.3341670038786,810.8248045879843,274.0558051324222,653.390068449994,981.6247901699252,371.98544048564656,704.0715175071367,569.4817522080549,14.84519740834114,544.3887776580708,136.33057039503322,769.1680433651551,269.92538448395464,787.4631028550589,175.20085167796157,770.6913510279279,738.0956126186062,233.7443579162087,196.5944422756976,407.507755049954,931.4648735559008,449.1348466747438,517.1629616482528,884.7635273208813,785.6154627776758,331.11039922079493,855.4701840418659,368.12186407232497,970.0073465451812,713.1410375894055,952.1397598613188,888.594577273583,221.71146779325417,351.78487761242747,300.84810251525755,142.54331139419943,798.7433976895726,530.5283969148003,332.01758518003027,162.5105199744088,242.57465864178693,50.43565190797379,993.9025295133576,454.12681259092426,156.22806960148705,733.2386642811897,564.8611479004991,244.17726667865315,196.45359750069,791.1319839525247,342.8075356767274,365.7117920756728,524.617038039338,243.685147057868,435.8314871408937,142.09088830897483,303.9882636840035,655.4729448465673,53.95925964176771,711.0295686874697,783.0936561998835,669.3793352306217,167.21146318284167,18.74223107210961,999.010433270378,74.23022428339151,457.39393447476334,652.3847833836147,144.47135137227517,817.8471604107989,987.78762518707,900.9676272371826,325.534936547279,702.0804886997371,903.5366269948472,436.2493374249849,159.46373575709143,604.12191304138,933.5618544472176,433.5325376765266,554.33940237014,49.30094921284966,900.8720380873596,630.1706451722044,860.7615281638498,94.10630127466824,406.7865343595494,466.2563719915671,781.5840785488106,399.4373870840216,568.6812633361219,234.75048636003825,537.216110691097,570.2087495443978,205.27350004313664,884.0659805433181,879.6830628608992,128.55093895333587,105.66156459311776,658.81054070816,927.0221832618016,478.854828690508,890.6431934919027,884.9552726298186,959.1021316048348,230.3551295287767,566.0125194131934,220.5723754046012,517.5985397534225,992.399177981404,255.83670646466817,200.9943775980825,688.0612461815732,140.058097410246,133.07701126984637,198.19549541976824,627.2987394737742,348.2550463138266,124.87760170636734,597.9239042972206,545.9880812293558,540.8925266140723,304.27807151474366,989.504962740746,222.57676496820852,202.4135805206525,441.1355796021853,147.63408586486364,789.4767148241846,849.0875895964444,389.9151516882493,83.32312969899084,751.7705827549536,593.8608849414803,998.458453723678,774.3276727540326,656.3239924981613,184.609555612416,486.29721126011634,379.20931276727663,331.2766329292326,399.37612669585326,616.3513091604434,564.6276665735826,591.2183903433549,473.6819805123677,738.0878014479134,185.08219134101824,201.7611800884032,667.8718301492241,34.255179221024946,441.9456476229073,205.80222216208023,130.35617468292398,851.1802451879618,815.2892982499808,224.57905036079745,54.22753966052705,400.02426444346105,532.7554971811481,487.6238151461224,598.7411930624887,373.8485512664829,806.7424529726898,474.9262166276914,310.70910716918587,215.12787977044425,222.3244109633488,81.9586693113496,535.6880568284513,890.269319547627,451.9699306400639,963.8871550753996,849.6117813807781,111.26335816330688,324.0274262787478,683.3425279838,128.44115593588285,633.9386630154769,761.8958962238246,357.74064330856874,927.2093066307176,757.3322119623901,551.1346729207121,998.808667581021,542.1747506117532,977.6777481910436,987.9627785496136,354.2112130108668,845.7027729109914,750.0067815439817,937.9281261287362,197.63224036608247,232.1320502351953,56.83465287603848,483.7053153205754,769.2789854645956,289.605753988036,400.0380917045952,760.4771686117759,562.1743376732285,564.2977573411184,799.4522629590823,307.76607773689244,949.7340757507404,136.0392213201014,211.5060174595315,745.3480938868215,356.6955875293918,700.8949166905451,36.20083829557191,515.9747012968548,611.9917339410086,769.86540299623,401.3025054798219,825.6710688346571,593.5476285919887,174.92165011715375,664.1811312323761,343.6657719287476,858.8778608368511,453.8138279622154,265.5631861099305,533.8256258845715,139.35208295295757,870.7001786562822,30.99871835928424,314.33587920137575,598.8036386689913,556.8630812008415,469.8492764353792,234.34194618795644,965.574643318875,433.6926196663452,931.8122092655904,894.9701272027181,923.7445711447764],\"xaxis\":\"x\",\"yaxis\":\"y\",\"type\":\"histogram\"}],                        {\"template\":{\"data\":{\"histogram2dcontour\":[{\"type\":\"histogram2dcontour\",\"colorbar\":{\"outlinewidth\":0,\"ticks\":\"\"},\"colorscale\":[[0.0,\"#0d0887\"],[0.1111111111111111,\"#46039f\"],[0.2222222222222222,\"#7201a8\"],[0.3333333333333333,\"#9c179e\"],[0.4444444444444444,\"#bd3786\"],[0.5555555555555556,\"#d8576b\"],[0.6666666666666666,\"#ed7953\"],[0.7777777777777778,\"#fb9f3a\"],[0.8888888888888888,\"#fdca26\"],[1.0,\"#f0f921\"]]}],\"choropleth\":[{\"type\":\"choropleth\",\"colorbar\":{\"outlinewidth\":0,\"ticks\":\"\"}}],\"histogram2d\":[{\"type\":\"histogram2d\",\"colorbar\":{\"outlinewidth\":0,\"ticks\":\"\"},\"colorscale\":[[0.0,\"#0d0887\"],[0.1111111111111111,\"#46039f\"],[0.2222222222222222,\"#7201a8\"],[0.3333333333333333,\"#9c179e\"],[0.4444444444444444,\"#bd3786\"],[0.5555555555555556,\"#d8576b\"],[0.6666666666666666,\"#ed7953\"],[0.7777777777777778,\"#fb9f3a\"],[0.8888888888888888,\"#fdca26\"],[1.0,\"#f0f921\"]]}],\"heatmap\":[{\"type\":\"heatmap\",\"colorbar\":{\"outlinewidth\":0,\"ticks\":\"\"},\"colorscale\":[[0.0,\"#0d0887\"],[0.1111111111111111,\"#46039f\"],[0.2222222222222222,\"#7201a8\"],[0.3333333333333333,\"#9c179e\"],[0.4444444444444444,\"#bd3786\"],[0.5555555555555556,\"#d8576b\"],[0.6666666666666666,\"#ed7953\"],[0.7777777777777778,\"#fb9f3a\"],[0.8888888888888888,\"#fdca26\"],[1.0,\"#f0f921\"]]}],\"heatmapgl\":[{\"type\":\"heatmapgl\",\"colorbar\":{\"outlinewidth\":0,\"ticks\":\"\"},\"colorscale\":[[0.0,\"#0d0887\"],[0.1111111111111111,\"#46039f\"],[0.2222222222222222,\"#7201a8\"],[0.3333333333333333,\"#9c179e\"],[0.4444444444444444,\"#bd3786\"],[0.5555555555555556,\"#d8576b\"],[0.6666666666666666,\"#ed7953\"],[0.7777777777777778,\"#fb9f3a\"],[0.8888888888888888,\"#fdca26\"],[1.0,\"#f0f921\"]]}],\"contourcarpet\":[{\"type\":\"contourcarpet\",\"colorbar\":{\"outlinewidth\":0,\"ticks\":\"\"}}],\"contour\":[{\"type\":\"contour\",\"colorbar\":{\"outlinewidth\":0,\"ticks\":\"\"},\"colorscale\":[[0.0,\"#0d0887\"],[0.1111111111111111,\"#46039f\"],[0.2222222222222222,\"#7201a8\"],[0.3333333333333333,\"#9c179e\"],[0.4444444444444444,\"#bd3786\"],[0.5555555555555556,\"#d8576b\"],[0.6666666666666666,\"#ed7953\"],[0.7777777777777778,\"#fb9f3a\"],[0.8888888888888888,\"#fdca26\"],[1.0,\"#f0f921\"]]}],\"surface\":[{\"type\":\"surface\",\"colorbar\":{\"outlinewidth\":0,\"ticks\":\"\"},\"colorscale\":[[0.0,\"#0d0887\"],[0.1111111111111111,\"#46039f\"],[0.2222222222222222,\"#7201a8\"],[0.3333333333333333,\"#9c179e\"],[0.4444444444444444,\"#bd3786\"],[0.5555555555555556,\"#d8576b\"],[0.6666666666666666,\"#ed7953\"],[0.7777777777777778,\"#fb9f3a\"],[0.8888888888888888,\"#fdca26\"],[1.0,\"#f0f921\"]]}],\"mesh3d\":[{\"type\":\"mesh3d\",\"colorbar\":{\"outlinewidth\":0,\"ticks\":\"\"}}],\"scatter\":[{\"fillpattern\":{\"fillmode\":\"overlay\",\"size\":10,\"solidity\":0.2},\"type\":\"scatter\"}],\"parcoords\":[{\"type\":\"parcoords\",\"line\":{\"colorbar\":{\"outlinewidth\":0,\"ticks\":\"\"}}}],\"scatterpolargl\":[{\"type\":\"scatterpolargl\",\"marker\":{\"colorbar\":{\"outlinewidth\":0,\"ticks\":\"\"}}}],\"bar\":[{\"error_x\":{\"color\":\"#2a3f5f\"},\"error_y\":{\"color\":\"#2a3f5f\"},\"marker\":{\"line\":{\"color\":\"#E5ECF6\",\"width\":0.5},\"pattern\":{\"fillmode\":\"overlay\",\"size\":10,\"solidity\":0.2}},\"type\":\"bar\"}],\"scattergeo\":[{\"type\":\"scattergeo\",\"marker\":{\"colorbar\":{\"outlinewidth\":0,\"ticks\":\"\"}}}],\"scatterpolar\":[{\"type\":\"scatterpolar\",\"marker\":{\"colorbar\":{\"outlinewidth\":0,\"ticks\":\"\"}}}],\"histogram\":[{\"marker\":{\"pattern\":{\"fillmode\":\"overlay\",\"size\":10,\"solidity\":0.2}},\"type\":\"histogram\"}],\"scattergl\":[{\"type\":\"scattergl\",\"marker\":{\"colorbar\":{\"outlinewidth\":0,\"ticks\":\"\"}}}],\"scatter3d\":[{\"type\":\"scatter3d\",\"line\":{\"colorbar\":{\"outlinewidth\":0,\"ticks\":\"\"}},\"marker\":{\"colorbar\":{\"outlinewidth\":0,\"ticks\":\"\"}}}],\"scattermapbox\":[{\"type\":\"scattermapbox\",\"marker\":{\"colorbar\":{\"outlinewidth\":0,\"ticks\":\"\"}}}],\"scatterternary\":[{\"type\":\"scatterternary\",\"marker\":{\"colorbar\":{\"outlinewidth\":0,\"ticks\":\"\"}}}],\"scattercarpet\":[{\"type\":\"scattercarpet\",\"marker\":{\"colorbar\":{\"outlinewidth\":0,\"ticks\":\"\"}}}],\"carpet\":[{\"aaxis\":{\"endlinecolor\":\"#2a3f5f\",\"gridcolor\":\"white\",\"linecolor\":\"white\",\"minorgridcolor\":\"white\",\"startlinecolor\":\"#2a3f5f\"},\"baxis\":{\"endlinecolor\":\"#2a3f5f\",\"gridcolor\":\"white\",\"linecolor\":\"white\",\"minorgridcolor\":\"white\",\"startlinecolor\":\"#2a3f5f\"},\"type\":\"carpet\"}],\"table\":[{\"cells\":{\"fill\":{\"color\":\"#EBF0F8\"},\"line\":{\"color\":\"white\"}},\"header\":{\"fill\":{\"color\":\"#C8D4E3\"},\"line\":{\"color\":\"white\"}},\"type\":\"table\"}],\"barpolar\":[{\"marker\":{\"line\":{\"color\":\"#E5ECF6\",\"width\":0.5},\"pattern\":{\"fillmode\":\"overlay\",\"size\":10,\"solidity\":0.2}},\"type\":\"barpolar\"}],\"pie\":[{\"automargin\":true,\"type\":\"pie\"}]},\"layout\":{\"autotypenumbers\":\"strict\",\"colorway\":[\"#636efa\",\"#EF553B\",\"#00cc96\",\"#ab63fa\",\"#FFA15A\",\"#19d3f3\",\"#FF6692\",\"#B6E880\",\"#FF97FF\",\"#FECB52\"],\"font\":{\"color\":\"#2a3f5f\"},\"hovermode\":\"closest\",\"hoverlabel\":{\"align\":\"left\"},\"paper_bgcolor\":\"white\",\"plot_bgcolor\":\"#E5ECF6\",\"polar\":{\"bgcolor\":\"#E5ECF6\",\"angularaxis\":{\"gridcolor\":\"white\",\"linecolor\":\"white\",\"ticks\":\"\"},\"radialaxis\":{\"gridcolor\":\"white\",\"linecolor\":\"white\",\"ticks\":\"\"}},\"ternary\":{\"bgcolor\":\"#E5ECF6\",\"aaxis\":{\"gridcolor\":\"white\",\"linecolor\":\"white\",\"ticks\":\"\"},\"baxis\":{\"gridcolor\":\"white\",\"linecolor\":\"white\",\"ticks\":\"\"},\"caxis\":{\"gridcolor\":\"white\",\"linecolor\":\"white\",\"ticks\":\"\"}},\"coloraxis\":{\"colorbar\":{\"outlinewidth\":0,\"ticks\":\"\"}},\"colorscale\":{\"sequential\":[[0.0,\"#0d0887\"],[0.1111111111111111,\"#46039f\"],[0.2222222222222222,\"#7201a8\"],[0.3333333333333333,\"#9c179e\"],[0.4444444444444444,\"#bd3786\"],[0.5555555555555556,\"#d8576b\"],[0.6666666666666666,\"#ed7953\"],[0.7777777777777778,\"#fb9f3a\"],[0.8888888888888888,\"#fdca26\"],[1.0,\"#f0f921\"]],\"sequentialminus\":[[0.0,\"#0d0887\"],[0.1111111111111111,\"#46039f\"],[0.2222222222222222,\"#7201a8\"],[0.3333333333333333,\"#9c179e\"],[0.4444444444444444,\"#bd3786\"],[0.5555555555555556,\"#d8576b\"],[0.6666666666666666,\"#ed7953\"],[0.7777777777777778,\"#fb9f3a\"],[0.8888888888888888,\"#fdca26\"],[1.0,\"#f0f921\"]],\"diverging\":[[0,\"#8e0152\"],[0.1,\"#c51b7d\"],[0.2,\"#de77ae\"],[0.3,\"#f1b6da\"],[0.4,\"#fde0ef\"],[0.5,\"#f7f7f7\"],[0.6,\"#e6f5d0\"],[0.7,\"#b8e186\"],[0.8,\"#7fbc41\"],[0.9,\"#4d9221\"],[1,\"#276419\"]]},\"xaxis\":{\"gridcolor\":\"white\",\"linecolor\":\"white\",\"ticks\":\"\",\"title\":{\"standoff\":15},\"zerolinecolor\":\"white\",\"automargin\":true,\"zerolinewidth\":2},\"yaxis\":{\"gridcolor\":\"white\",\"linecolor\":\"white\",\"ticks\":\"\",\"title\":{\"standoff\":15},\"zerolinecolor\":\"white\",\"automargin\":true,\"zerolinewidth\":2},\"scene\":{\"xaxis\":{\"backgroundcolor\":\"#E5ECF6\",\"gridcolor\":\"white\",\"linecolor\":\"white\",\"showbackground\":true,\"ticks\":\"\",\"zerolinecolor\":\"white\",\"gridwidth\":2},\"yaxis\":{\"backgroundcolor\":\"#E5ECF6\",\"gridcolor\":\"white\",\"linecolor\":\"white\",\"showbackground\":true,\"ticks\":\"\",\"zerolinecolor\":\"white\",\"gridwidth\":2},\"zaxis\":{\"backgroundcolor\":\"#E5ECF6\",\"gridcolor\":\"white\",\"linecolor\":\"white\",\"showbackground\":true,\"ticks\":\"\",\"zerolinecolor\":\"white\",\"gridwidth\":2}},\"shapedefaults\":{\"line\":{\"color\":\"#2a3f5f\"}},\"annotationdefaults\":{\"arrowcolor\":\"#2a3f5f\",\"arrowhead\":0,\"arrowwidth\":1},\"geo\":{\"bgcolor\":\"white\",\"landcolor\":\"#E5ECF6\",\"subunitcolor\":\"white\",\"showland\":true,\"showlakes\":true,\"lakecolor\":\"white\"},\"title\":{\"x\":0.05},\"mapbox\":{\"style\":\"light\"}}},\"xaxis\":{\"anchor\":\"y\",\"domain\":[0.0,1.0],\"title\":{\"text\":\"Product Price\"},\"showgrid\":false},\"yaxis\":{\"anchor\":\"x\",\"domain\":[0.0,1.0],\"title\":{\"text\":\"Number of products\"},\"showgrid\":true,\"gridcolor\":\"rgba(200,200,200,0.7)\"},\"legend\":{\"tracegroupgap\":0},\"title\":{\"text\":\"Products Price Distribution\",\"x\":0.5},\"barmode\":\"relative\",\"plot_bgcolor\":\"rgba(0,0,0,0)\",\"paper_bgcolor\":\"rgba(240,240,240,1)\"},                        {\"responsive\": true}                    ).then(function(){\n",
              "                            \n",
              "var gd = document.getElementById('7265c45c-1681-401f-8c65-afe7f7197310');\n",
              "var x = new MutationObserver(function (mutations, observer) {{\n",
              "        var display = window.getComputedStyle(gd).display;\n",
              "        if (!display || display === 'none') {{\n",
              "            console.log([gd, 'removed!']);\n",
              "            Plotly.purge(gd);\n",
              "            observer.disconnect();\n",
              "        }}\n",
              "}});\n",
              "\n",
              "// Listen for the removal of the full notebook cells\n",
              "var notebookContainer = gd.closest('#notebook-container');\n",
              "if (notebookContainer) {{\n",
              "    x.observe(notebookContainer, {childList: true});\n",
              "}}\n",
              "\n",
              "// Listen for the clearing of the current output cell\n",
              "var outputEl = gd.closest('.output');\n",
              "if (outputEl) {{\n",
              "    x.observe(outputEl, {childList: true});\n",
              "}}\n",
              "\n",
              "                        })                };                            </script>        </div>\n",
              "</body>\n",
              "</html>"
            ]
          },
          "metadata": {}
        }
      ]
    },
    {
      "cell_type": "code",
      "source": [
        "# Sales by PurchaseDate\n",
        "\n",
        "sales_by_date = data.groupby('PurchaseDate')['TotalPrice'].sum().reset_index()\n",
        "\n",
        "# Plot our Figure\n",
        "\n",
        "fig = px.line(sales_by_date, x='PurchaseDate', y='TotalPrice',\n",
        "              title='Sales over Time',\n",
        "              labels={'TotalPrice': 'Total Sales'},\n",
        "              line_shape='linear',\n",
        "              markers=True,\n",
        "              color_discrete_map={'(?)':'black', 'Lunch':'gold', 'Dinner':'darkblue'})\n",
        "\n",
        "# Update layout\n",
        "\n",
        "fig.update_layout(xaxis_title='Purchase Date',\n",
        "                  yaxis_title='Total Sales',\n",
        "                  title_x=0.5,\n",
        "                  plot_bgcolor='rgba(0,0,0,0)',\n",
        "                  paper_bgcolor='rgba(240,240,240,1)',\n",
        "                  xaxis=dict(showgrid=False),\n",
        "                  yaxis=dict(showgrid=True, gridcolor='rgba(200,200,200,0.7)'))\n",
        "\n",
        "# Print out our figure\n",
        "\n",
        "fig.show()"
      ],
      "metadata": {
        "colab": {
          "base_uri": "https://localhost:8080/",
          "height": 542
        },
        "id": "u85nryBKtPHT",
        "outputId": "d7079971-4113-457a-f32b-766aab5c0f34"
      },
      "execution_count": 1012,
      "outputs": [
        {
          "output_type": "display_data",
          "data": {
            "text/html": [
              "<html>\n",
              "<head><meta charset=\"utf-8\" /></head>\n",
              "<body>\n",
              "    <div>            <script src=\"https://cdnjs.cloudflare.com/ajax/libs/mathjax/2.7.5/MathJax.js?config=TeX-AMS-MML_SVG\"></script><script type=\"text/javascript\">if (window.MathJax && window.MathJax.Hub && window.MathJax.Hub.Config) {window.MathJax.Hub.Config({SVG: {font: \"STIX-Web\"}});}</script>                <script type=\"text/javascript\">window.PlotlyConfig = {MathJaxConfig: 'local'};</script>\n",
              "        <script charset=\"utf-8\" src=\"https://cdn.plot.ly/plotly-2.24.1.min.js\"></script>                <div id=\"a51b02be-f38b-4684-b52e-03d8ac6040b4\" class=\"plotly-graph-div\" style=\"height:525px; width:100%;\"></div>            <script type=\"text/javascript\">                                    window.PLOTLYENV=window.PLOTLYENV || {};                                    if (document.getElementById(\"a51b02be-f38b-4684-b52e-03d8ac6040b4\")) {                    Plotly.newPlot(                        \"a51b02be-f38b-4684-b52e-03d8ac6040b4\",                        [{\"hovertemplate\":\"PurchaseDate=%{x}\\u003cbr\\u003eTotal Sales=%{y}\\u003cextra\\u003e\\u003c\\u002fextra\\u003e\",\"legendgroup\":\"\",\"line\":{\"color\":\"#636efa\",\"dash\":\"solid\",\"shape\":\"linear\"},\"marker\":{\"symbol\":\"circle\"},\"mode\":\"lines+markers\",\"name\":\"\",\"orientation\":\"v\",\"showlegend\":false,\"x\":[\"2024-04-01 00:22:59\",\"2024-04-01 00:36:46\",\"2024-04-01 01:01:16\",\"2024-04-01 02:24:01\",\"2024-04-01 02:31:42\",\"2024-04-01 03:21:06\",\"2024-04-01 04:18:47\",\"2024-04-01 05:48:28\",\"2024-04-01 06:15:26\",\"2024-04-01 07:11:35\",\"2024-04-01 07:42:22\",\"2024-04-01 09:22:55\",\"2024-04-01 09:37:46\",\"2024-04-01 09:56:53\",\"2024-04-01 11:15:10\",\"2024-04-01 11:29:44\",\"2024-04-01 11:33:06\",\"2024-04-01 11:49:04\",\"2024-04-01 12:25:33\",\"2024-04-01 14:14:14\",\"2024-04-01 15:00:48\",\"2024-04-01 16:25:42\",\"2024-04-01 17:17:00\",\"2024-04-01 22:23:00\",\"2024-04-01 22:25:41\",\"2024-04-02 00:06:48\",\"2024-04-02 00:11:36\",\"2024-04-02 00:14:43\",\"2024-04-02 00:24:52\",\"2024-04-02 01:15:05\",\"2024-04-02 01:58:55\",\"2024-04-02 02:02:58\",\"2024-04-02 02:05:23\",\"2024-04-02 03:50:48\",\"2024-04-02 04:41:27\",\"2024-04-02 05:20:57\",\"2024-04-02 06:43:17\",\"2024-04-02 08:07:30\",\"2024-04-02 08:40:16\",\"2024-04-02 12:08:51\",\"2024-04-02 14:22:33\",\"2024-04-02 14:43:24\",\"2024-04-02 14:58:53\",\"2024-04-02 15:18:18\",\"2024-04-02 15:53:57\",\"2024-04-02 16:07:04\",\"2024-04-02 16:08:25\",\"2024-04-02 16:42:29\",\"2024-04-02 17:22:55\",\"2024-04-02 18:10:09\",\"2024-04-02 18:16:13\",\"2024-04-02 18:59:52\",\"2024-04-02 19:21:57\",\"2024-04-02 20:26:52\",\"2024-04-02 20:47:39\",\"2024-04-02 20:54:54\",\"2024-04-02 21:16:24\",\"2024-04-02 22:17:00\",\"2024-04-02 23:25:02\",\"2024-04-02 23:47:46\",\"2024-04-03 00:41:10\",\"2024-04-03 00:50:58\",\"2024-04-03 00:58:30\",\"2024-04-03 02:20:10\",\"2024-04-03 04:08:10\",\"2024-04-03 04:14:07\",\"2024-04-03 04:46:29\",\"2024-04-03 05:13:49\",\"2024-04-03 06:42:31\",\"2024-04-03 08:37:50\",\"2024-04-03 09:56:06\",\"2024-04-03 10:43:21\",\"2024-04-03 10:46:00\",\"2024-04-03 11:18:28\",\"2024-04-03 13:03:05\",\"2024-04-03 16:21:59\",\"2024-04-03 17:01:12\",\"2024-04-03 17:06:37\",\"2024-04-03 17:42:39\",\"2024-04-03 18:00:25\",\"2024-04-03 19:22:53\",\"2024-04-03 20:46:54\",\"2024-04-03 20:51:45\",\"2024-04-03 20:57:23\",\"2024-04-03 21:10:34\",\"2024-04-03 21:34:13\",\"2024-04-03 21:43:36\",\"2024-04-04 00:01:24\",\"2024-04-04 02:31:40\",\"2024-04-04 03:08:53\",\"2024-04-04 05:26:15\",\"2024-04-04 05:29:14\",\"2024-04-04 06:00:23\",\"2024-04-04 06:23:09\",\"2024-04-04 07:07:17\",\"2024-04-04 08:34:30\",\"2024-04-04 09:01:06\",\"2024-04-04 09:09:24\",\"2024-04-04 10:04:00\",\"2024-04-04 10:25:58\",\"2024-04-04 11:05:52\",\"2024-04-04 12:34:02\",\"2024-04-04 13:22:44\",\"2024-04-04 14:36:56\",\"2024-04-04 14:39:35\",\"2024-04-04 15:24:38\",\"2024-04-04 15:49:25\",\"2024-04-04 15:59:38\",\"2024-04-04 16:10:56\",\"2024-04-04 16:37:35\",\"2024-04-04 20:21:21\",\"2024-04-04 21:15:15\",\"2024-04-04 21:39:36\",\"2024-04-04 22:44:51\",\"2024-04-04 22:55:54\",\"2024-04-04 23:06:42\",\"2024-04-04 23:33:56\",\"2024-04-04 23:50:46\",\"2024-04-05 01:27:43\",\"2024-04-05 01:31:30\",\"2024-04-05 04:47:02\",\"2024-04-05 05:48:06\",\"2024-04-05 06:26:19\",\"2024-04-05 06:45:44\",\"2024-04-05 07:37:38\",\"2024-04-05 08:16:21\",\"2024-04-05 08:34:36\",\"2024-04-05 10:05:10\",\"2024-04-05 12:10:20\",\"2024-04-05 12:37:33\",\"2024-04-05 12:48:24\",\"2024-04-05 14:45:36\",\"2024-04-05 16:58:33\",\"2024-04-05 18:27:19\",\"2024-04-05 18:28:30\",\"2024-04-05 19:34:57\",\"2024-04-05 22:27:58\",\"2024-04-05 22:28:19\",\"2024-04-05 22:45:52\",\"2024-04-05 23:09:28\",\"2024-04-06 00:13:55\",\"2024-04-06 00:41:02\",\"2024-04-06 01:08:49\",\"2024-04-06 03:04:22\",\"2024-04-06 03:57:16\",\"2024-04-06 04:31:21\",\"2024-04-06 04:51:17\",\"2024-04-06 05:01:57\",\"2024-04-06 05:45:25\",\"2024-04-06 06:22:04\",\"2024-04-06 06:49:16\",\"2024-04-06 07:36:23\",\"2024-04-06 08:59:56\",\"2024-04-06 10:27:15\",\"2024-04-06 10:37:34\",\"2024-04-06 10:50:48\",\"2024-04-06 11:41:25\",\"2024-04-06 13:04:46\",\"2024-04-06 13:15:19\",\"2024-04-06 14:02:01\",\"2024-04-06 14:35:27\",\"2024-04-06 16:15:33\",\"2024-04-06 16:33:13\",\"2024-04-06 16:39:39\",\"2024-04-06 17:05:11\",\"2024-04-06 17:11:09\",\"2024-04-06 17:55:40\",\"2024-04-06 18:29:48\",\"2024-04-06 19:14:11\",\"2024-04-06 19:25:31\",\"2024-04-06 19:35:53\",\"2024-04-06 21:07:18\",\"2024-04-06 21:49:14\",\"2024-04-06 22:03:36\",\"2024-04-06 22:04:11\",\"2024-04-06 22:16:42\",\"2024-04-06 22:38:36\",\"2024-04-06 22:52:44\",\"2024-04-06 23:22:52\",\"2024-04-06 23:30:12\",\"2024-04-07 00:30:52\",\"2024-04-07 00:39:19\",\"2024-04-07 01:01:47\",\"2024-04-07 01:24:48\",\"2024-04-07 02:07:41\",\"2024-04-07 02:26:20\",\"2024-04-07 03:32:46\",\"2024-04-07 04:16:16\",\"2024-04-07 04:35:07\",\"2024-04-07 05:11:39\",\"2024-04-07 06:12:03\",\"2024-04-07 12:26:09\",\"2024-04-07 15:06:35\",\"2024-04-07 16:54:12\",\"2024-04-07 17:58:13\",\"2024-04-07 18:21:22\",\"2024-04-07 21:19:25\",\"2024-04-07 21:45:27\",\"2024-04-07 22:34:27\",\"2024-04-08 02:11:56\",\"2024-04-08 03:03:53\",\"2024-04-08 03:08:38\",\"2024-04-08 04:22:11\",\"2024-04-08 05:35:59\",\"2024-04-08 05:40:45\",\"2024-04-08 05:59:54\",\"2024-04-08 06:38:47\",\"2024-04-08 06:46:59\",\"2024-04-08 08:01:07\",\"2024-04-08 08:13:42\",\"2024-04-08 09:33:22\",\"2024-04-08 10:11:16\",\"2024-04-08 10:13:52\",\"2024-04-08 10:31:15\",\"2024-04-08 11:21:59\",\"2024-04-08 11:24:02\",\"2024-04-08 11:26:25\",\"2024-04-08 11:34:34\",\"2024-04-08 12:42:46\",\"2024-04-08 12:47:10\",\"2024-04-08 13:30:39\",\"2024-04-08 13:54:20\",\"2024-04-08 13:57:34\",\"2024-04-08 14:14:58\",\"2024-04-08 14:17:14\",\"2024-04-08 15:12:11\",\"2024-04-08 16:09:06\",\"2024-04-08 16:22:33\",\"2024-04-08 16:30:10\",\"2024-04-08 17:05:34\",\"2024-04-08 18:15:05\",\"2024-04-08 18:48:06\",\"2024-04-08 18:53:13\",\"2024-04-08 18:59:55\",\"2024-04-08 19:09:02\",\"2024-04-08 19:40:31\",\"2024-04-08 20:15:06\",\"2024-04-08 21:31:51\",\"2024-04-08 23:03:18\",\"2024-04-08 23:08:49\",\"2024-04-09 00:04:09\",\"2024-04-09 00:39:55\",\"2024-04-09 01:35:31\",\"2024-04-09 01:58:12\",\"2024-04-09 03:14:22\",\"2024-04-09 03:16:49\",\"2024-04-09 04:30:03\",\"2024-04-09 04:45:13\",\"2024-04-09 05:29:19\",\"2024-04-09 06:28:47\",\"2024-04-09 07:25:28\",\"2024-04-09 10:14:00\",\"2024-04-09 11:13:03\",\"2024-04-09 11:30:55\",\"2024-04-09 11:31:55\",\"2024-04-09 13:27:11\",\"2024-04-09 13:40:53\",\"2024-04-09 14:03:47\",\"2024-04-09 14:04:34\",\"2024-04-09 15:02:29\",\"2024-04-09 15:31:14\",\"2024-04-09 16:08:50\",\"2024-04-09 16:30:33\",\"2024-04-09 18:29:11\",\"2024-04-09 19:25:47\",\"2024-04-09 19:29:59\",\"2024-04-09 19:49:09\",\"2024-04-09 19:50:11\",\"2024-04-09 19:58:21\",\"2024-04-09 20:03:53\",\"2024-04-09 20:20:21\",\"2024-04-09 20:43:46\",\"2024-04-09 21:26:34\",\"2024-04-09 21:26:59\",\"2024-04-09 21:36:24\",\"2024-04-09 22:18:17\",\"2024-04-09 23:38:58\",\"2024-04-10 02:10:43\",\"2024-04-10 02:30:03\",\"2024-04-10 02:35:35\",\"2024-04-10 03:00:24\",\"2024-04-10 03:09:17\",\"2024-04-10 05:20:14\",\"2024-04-10 06:01:07\",\"2024-04-10 06:19:15\",\"2024-04-10 06:31:05\",\"2024-04-10 07:21:11\",\"2024-04-10 07:26:13\",\"2024-04-10 07:27:27\",\"2024-04-10 07:38:56\",\"2024-04-10 08:22:12\",\"2024-04-10 09:17:42\",\"2024-04-10 09:58:02\",\"2024-04-10 10:06:21\",\"2024-04-10 10:43:49\",\"2024-04-10 11:32:40\",\"2024-04-10 11:55:07\",\"2024-04-10 13:39:22\",\"2024-04-10 13:59:21\",\"2024-04-10 14:12:00\",\"2024-04-10 14:25:51\",\"2024-04-10 15:08:00\",\"2024-04-10 16:44:27\",\"2024-04-10 18:21:33\",\"2024-04-10 18:25:56\",\"2024-04-10 18:53:48\",\"2024-04-10 19:00:33\",\"2024-04-10 20:18:30\",\"2024-04-10 20:20:16\",\"2024-04-10 20:48:17\",\"2024-04-10 23:07:00\",\"2024-04-10 23:26:36\",\"2024-04-10 23:50:38\",\"2024-04-11 00:14:19\",\"2024-04-11 00:21:27\",\"2024-04-11 00:46:20\",\"2024-04-11 00:48:26\",\"2024-04-11 02:25:57\",\"2024-04-11 02:28:18\",\"2024-04-11 02:50:56\",\"2024-04-11 02:51:59\",\"2024-04-11 03:45:52\",\"2024-04-11 04:32:14\",\"2024-04-11 05:15:23\",\"2024-04-11 06:11:25\",\"2024-04-11 07:50:02\",\"2024-04-11 09:37:52\",\"2024-04-11 10:36:07\",\"2024-04-11 11:34:56\",\"2024-04-11 12:04:17\",\"2024-04-11 12:35:27\",\"2024-04-11 13:46:02\",\"2024-04-11 15:14:38\",\"2024-04-11 15:33:41\",\"2024-04-11 16:23:49\",\"2024-04-11 16:54:48\",\"2024-04-11 19:00:58\",\"2024-04-11 19:26:37\",\"2024-04-11 19:35:28\",\"2024-04-11 19:53:06\",\"2024-04-11 20:14:07\",\"2024-04-11 21:32:13\",\"2024-04-11 21:59:00\",\"2024-04-11 23:08:47\",\"2024-04-11 23:57:38\",\"2024-04-12 00:44:20\",\"2024-04-12 00:57:49\",\"2024-04-12 01:15:25\",\"2024-04-12 01:37:06\",\"2024-04-12 01:38:08\",\"2024-04-12 01:41:46\",\"2024-04-12 01:50:03\",\"2024-04-12 02:18:43\",\"2024-04-12 03:02:54\",\"2024-04-12 03:33:46\",\"2024-04-12 04:03:03\",\"2024-04-12 04:06:49\",\"2024-04-12 05:46:51\",\"2024-04-12 05:59:56\",\"2024-04-12 06:49:42\",\"2024-04-12 08:03:12\",\"2024-04-12 09:35:07\",\"2024-04-12 09:37:02\",\"2024-04-12 10:13:40\",\"2024-04-12 10:24:51\",\"2024-04-12 11:07:30\",\"2024-04-12 11:25:00\",\"2024-04-12 11:27:11\",\"2024-04-12 11:30:53\",\"2024-04-12 15:08:13\",\"2024-04-12 15:29:36\",\"2024-04-12 16:06:30\",\"2024-04-12 17:13:11\",\"2024-04-12 17:57:52\",\"2024-04-12 19:28:37\",\"2024-04-12 19:58:41\",\"2024-04-12 22:29:26\",\"2024-04-12 23:15:02\",\"2024-04-12 23:23:02\",\"2024-04-12 23:38:48\",\"2024-04-13 01:11:29\",\"2024-04-13 01:17:38\",\"2024-04-13 02:49:35\",\"2024-04-13 03:53:41\",\"2024-04-13 05:06:44\",\"2024-04-13 05:21:23\",\"2024-04-13 08:22:11\",\"2024-04-13 08:26:41\",\"2024-04-13 08:37:05\",\"2024-04-13 10:24:33\",\"2024-04-13 10:44:36\",\"2024-04-13 12:33:26\",\"2024-04-13 12:46:40\",\"2024-04-13 13:20:39\",\"2024-04-13 13:54:29\",\"2024-04-13 15:20:26\",\"2024-04-13 15:22:32\",\"2024-04-13 16:22:11\",\"2024-04-13 16:34:23\",\"2024-04-13 18:17:18\",\"2024-04-13 19:17:08\",\"2024-04-13 19:24:55\",\"2024-04-13 19:34:46\",\"2024-04-13 19:43:35\",\"2024-04-13 19:48:52\",\"2024-04-13 19:56:11\",\"2024-04-13 20:00:55\",\"2024-04-13 20:22:41\",\"2024-04-13 20:38:10\",\"2024-04-13 22:27:55\",\"2024-04-13 22:34:15\",\"2024-04-13 22:54:50\",\"2024-04-13 23:55:49\",\"2024-04-14 00:02:51\",\"2024-04-14 00:34:30\",\"2024-04-14 00:35:16\",\"2024-04-14 00:40:53\",\"2024-04-14 01:01:38\",\"2024-04-14 01:30:15\",\"2024-04-14 01:36:55\",\"2024-04-14 02:19:57\",\"2024-04-14 03:49:29\",\"2024-04-14 04:33:43\",\"2024-04-14 06:01:02\",\"2024-04-14 06:19:32\",\"2024-04-14 09:06:22\",\"2024-04-14 09:33:39\",\"2024-04-14 10:34:17\",\"2024-04-14 12:31:08\",\"2024-04-14 13:58:52\",\"2024-04-14 14:05:14\",\"2024-04-14 14:55:59\",\"2024-04-14 16:41:31\",\"2024-04-14 16:43:29\",\"2024-04-14 17:19:56\",\"2024-04-14 17:54:37\",\"2024-04-14 18:03:58\",\"2024-04-14 18:14:36\",\"2024-04-14 19:26:27\",\"2024-04-14 19:37:06\",\"2024-04-14 19:56:08\",\"2024-04-14 19:56:23\",\"2024-04-14 20:53:43\",\"2024-04-14 21:05:46\",\"2024-04-14 21:11:50\",\"2024-04-14 21:15:08\",\"2024-04-14 22:54:11\",\"2024-04-14 23:26:10\",\"2024-04-14 23:52:13\",\"2024-04-15 00:28:40\",\"2024-04-15 01:49:55\",\"2024-04-15 02:59:00\",\"2024-04-15 03:30:09\",\"2024-04-15 05:33:16\",\"2024-04-15 05:43:23\",\"2024-04-15 07:00:35\",\"2024-04-15 07:29:02\",\"2024-04-15 10:39:11\",\"2024-04-15 10:58:31\",\"2024-04-15 11:07:33\",\"2024-04-15 11:25:38\",\"2024-04-15 11:41:37\",\"2024-04-15 11:59:36\",\"2024-04-15 12:11:23\",\"2024-04-15 12:33:25\",\"2024-04-15 13:45:00\",\"2024-04-15 16:56:14\",\"2024-04-15 17:44:59\",\"2024-04-15 21:53:34\",\"2024-04-15 22:19:18\",\"2024-04-15 22:53:28\",\"2024-04-15 22:57:18\",\"2024-04-15 23:43:57\",\"2024-04-16 00:40:09\",\"2024-04-16 01:47:29\",\"2024-04-16 01:58:18\",\"2024-04-16 02:16:04\",\"2024-04-16 02:44:32\",\"2024-04-16 03:54:39\",\"2024-04-16 04:16:20\",\"2024-04-16 04:33:17\",\"2024-04-16 04:43:40\",\"2024-04-16 06:19:24\",\"2024-04-16 06:33:35\",\"2024-04-16 06:50:46\",\"2024-04-16 08:39:58\",\"2024-04-16 08:40:48\",\"2024-04-16 10:09:58\",\"2024-04-16 10:15:30\",\"2024-04-16 11:04:24\",\"2024-04-16 12:24:36\",\"2024-04-16 12:59:35\",\"2024-04-16 13:02:11\",\"2024-04-16 13:21:19\",\"2024-04-16 13:41:38\",\"2024-04-16 14:06:12\",\"2024-04-16 14:31:14\",\"2024-04-16 14:32:58\",\"2024-04-16 14:42:08\",\"2024-04-16 15:16:49\",\"2024-04-16 16:00:33\",\"2024-04-16 16:11:58\",\"2024-04-16 17:10:30\",\"2024-04-16 17:54:28\",\"2024-04-16 17:57:59\",\"2024-04-16 19:25:57\",\"2024-04-16 19:28:34\",\"2024-04-16 20:12:05\",\"2024-04-16 20:20:48\",\"2024-04-16 20:24:41\",\"2024-04-16 22:08:57\",\"2024-04-16 22:51:55\",\"2024-04-16 23:39:29\",\"2024-04-16 23:56:25\",\"2024-04-17 01:08:27\",\"2024-04-17 02:42:52\",\"2024-04-17 06:55:55\",\"2024-04-17 07:43:22\",\"2024-04-17 08:09:59\",\"2024-04-17 08:30:07\",\"2024-04-17 10:06:39\",\"2024-04-17 10:10:21\",\"2024-04-17 10:45:55\",\"2024-04-17 11:13:44\",\"2024-04-17 11:44:52\",\"2024-04-17 11:50:30\",\"2024-04-17 12:20:05\",\"2024-04-17 12:21:22\",\"2024-04-17 12:40:05\",\"2024-04-17 12:53:04\",\"2024-04-17 12:55:44\",\"2024-04-17 13:18:23\",\"2024-04-17 15:21:03\",\"2024-04-17 15:32:21\",\"2024-04-17 15:45:44\",\"2024-04-17 18:52:25\",\"2024-04-17 19:55:19\",\"2024-04-17 20:03:56\",\"2024-04-17 20:22:08\",\"2024-04-17 21:53:00\",\"2024-04-17 22:05:08\",\"2024-04-17 22:26:21\",\"2024-04-17 22:47:49\",\"2024-04-17 23:35:20\",\"2024-04-18 00:34:14\",\"2024-04-18 01:30:43\",\"2024-04-18 03:28:55\",\"2024-04-18 03:33:33\",\"2024-04-18 03:41:12\",\"2024-04-18 05:08:52\",\"2024-04-18 08:32:51\",\"2024-04-18 10:00:14\",\"2024-04-18 10:49:03\",\"2024-04-18 13:00:32\",\"2024-04-18 14:15:42\",\"2024-04-18 15:36:11\",\"2024-04-18 18:22:06\",\"2024-04-18 20:36:56\",\"2024-04-18 22:55:11\",\"2024-04-18 23:35:50\",\"2024-04-19 00:14:42\",\"2024-04-19 01:40:17\",\"2024-04-19 03:24:34\",\"2024-04-19 03:37:58\",\"2024-04-19 04:52:31\",\"2024-04-19 04:52:57\",\"2024-04-19 05:20:20\",\"2024-04-19 05:44:24\",\"2024-04-19 08:52:00\",\"2024-04-19 09:07:01\",\"2024-04-19 09:54:10\",\"2024-04-19 10:07:10\",\"2024-04-19 10:23:15\",\"2024-04-19 11:38:23\",\"2024-04-19 11:43:47\",\"2024-04-19 11:56:35\",\"2024-04-19 13:04:00\",\"2024-04-19 13:15:34\",\"2024-04-19 14:01:40\",\"2024-04-19 14:05:32\",\"2024-04-19 15:13:26\",\"2024-04-19 15:14:18\",\"2024-04-19 15:19:15\",\"2024-04-19 15:38:47\",\"2024-04-19 17:11:02\",\"2024-04-19 17:48:27\",\"2024-04-19 18:39:03\",\"2024-04-19 19:36:16\",\"2024-04-19 19:50:17\",\"2024-04-19 20:00:34\",\"2024-04-19 20:03:54\",\"2024-04-19 20:41:29\",\"2024-04-19 21:19:04\",\"2024-04-19 21:46:50\",\"2024-04-19 21:58:27\",\"2024-04-19 22:29:34\",\"2024-04-19 22:43:15\",\"2024-04-20 01:51:15\",\"2024-04-20 02:47:43\",\"2024-04-20 03:29:49\",\"2024-04-20 03:56:40\",\"2024-04-20 04:21:14\",\"2024-04-20 05:23:14\",\"2024-04-20 05:46:19\",\"2024-04-20 05:54:36\",\"2024-04-20 06:55:28\",\"2024-04-20 08:41:41\",\"2024-04-20 08:47:00\",\"2024-04-20 09:06:17\",\"2024-04-20 11:45:54\",\"2024-04-20 11:47:07\",\"2024-04-20 11:47:46\",\"2024-04-20 12:29:15\",\"2024-04-20 14:30:37\",\"2024-04-20 14:30:48\",\"2024-04-20 14:43:51\",\"2024-04-20 15:00:38\",\"2024-04-20 15:11:32\",\"2024-04-20 16:50:21\",\"2024-04-20 16:55:18\",\"2024-04-20 21:24:39\",\"2024-04-20 21:28:54\",\"2024-04-20 21:35:09\",\"2024-04-20 22:46:14\",\"2024-04-20 23:29:22\",\"2024-04-21 01:37:13\",\"2024-04-21 01:43:12\",\"2024-04-21 01:58:45\",\"2024-04-21 02:31:02\",\"2024-04-21 02:53:14\",\"2024-04-21 03:46:41\",\"2024-04-21 03:58:37\",\"2024-04-21 05:06:12\",\"2024-04-21 05:44:13\",\"2024-04-21 06:23:20\",\"2024-04-21 06:50:55\",\"2024-04-21 07:04:46\",\"2024-04-21 07:06:14\",\"2024-04-21 07:25:08\",\"2024-04-21 07:41:12\",\"2024-04-21 07:53:59\",\"2024-04-21 08:07:20\",\"2024-04-21 08:27:57\",\"2024-04-21 08:42:16\",\"2024-04-21 09:16:04\",\"2024-04-21 10:04:06\",\"2024-04-21 10:15:26\",\"2024-04-21 10:42:27\",\"2024-04-21 10:45:10\",\"2024-04-21 11:41:08\",\"2024-04-21 12:08:06\",\"2024-04-21 12:35:35\",\"2024-04-21 13:11:22\",\"2024-04-21 14:22:56\",\"2024-04-21 15:48:57\",\"2024-04-21 17:30:01\",\"2024-04-21 18:16:46\",\"2024-04-21 18:26:31\",\"2024-04-21 18:33:31\",\"2024-04-21 18:53:00\",\"2024-04-21 19:11:44\",\"2024-04-21 19:40:32\",\"2024-04-21 21:06:19\",\"2024-04-21 21:26:27\",\"2024-04-21 22:44:35\",\"2024-04-22 00:31:24\",\"2024-04-22 03:59:59\",\"2024-04-22 04:19:11\",\"2024-04-22 04:36:55\",\"2024-04-22 04:57:35\",\"2024-04-22 05:29:24\",\"2024-04-22 06:12:06\",\"2024-04-22 08:15:34\",\"2024-04-22 08:26:43\",\"2024-04-22 09:37:34\",\"2024-04-22 09:38:18\",\"2024-04-22 11:04:07\",\"2024-04-22 13:06:07\",\"2024-04-22 13:16:07\",\"2024-04-22 14:21:38\",\"2024-04-22 14:30:48\",\"2024-04-22 15:03:12\",\"2024-04-22 15:04:34\",\"2024-04-22 15:36:52\",\"2024-04-22 15:53:11\",\"2024-04-22 16:04:34\",\"2024-04-22 16:49:31\",\"2024-04-22 17:05:00\",\"2024-04-22 17:24:39\",\"2024-04-22 18:38:56\",\"2024-04-22 19:14:13\",\"2024-04-22 19:33:16\",\"2024-04-22 19:57:51\",\"2024-04-22 20:25:24\",\"2024-04-22 21:06:36\",\"2024-04-22 21:33:43\",\"2024-04-22 21:37:14\",\"2024-04-22 21:38:21\",\"2024-04-22 23:01:20\",\"2024-04-22 23:12:54\",\"2024-04-23 00:35:03\",\"2024-04-23 00:38:47\",\"2024-04-23 01:10:03\",\"2024-04-23 01:44:48\",\"2024-04-23 01:56:45\",\"2024-04-23 02:16:07\",\"2024-04-23 02:23:18\",\"2024-04-23 02:39:36\",\"2024-04-23 03:05:01\",\"2024-04-23 03:13:26\",\"2024-04-23 03:52:48\",\"2024-04-23 04:18:14\",\"2024-04-23 04:36:55\",\"2024-04-23 05:04:44\",\"2024-04-23 05:50:03\",\"2024-04-23 05:54:45\",\"2024-04-23 05:58:40\",\"2024-04-23 06:05:33\",\"2024-04-23 07:20:06\",\"2024-04-23 07:46:58\",\"2024-04-23 09:35:35\",\"2024-04-23 12:15:20\",\"2024-04-23 13:02:34\",\"2024-04-23 13:45:45\",\"2024-04-23 14:18:42\",\"2024-04-23 15:26:57\",\"2024-04-23 15:34:40\",\"2024-04-23 15:38:04\",\"2024-04-23 15:43:04\",\"2024-04-23 17:30:55\",\"2024-04-23 17:48:14\",\"2024-04-23 18:04:25\",\"2024-04-23 18:13:23\",\"2024-04-23 18:17:15\",\"2024-04-23 20:41:55\",\"2024-04-23 20:45:16\",\"2024-04-23 21:24:38\",\"2024-04-23 22:05:02\",\"2024-04-23 23:45:35\",\"2024-04-24 00:06:48\",\"2024-04-24 01:09:28\",\"2024-04-24 02:07:53\",\"2024-04-24 02:36:05\",\"2024-04-24 02:39:39\",\"2024-04-24 03:00:16\",\"2024-04-24 03:32:42\",\"2024-04-24 03:45:33\",\"2024-04-24 03:50:43\",\"2024-04-24 04:11:02\",\"2024-04-24 05:14:12\",\"2024-04-24 05:22:40\",\"2024-04-24 06:16:09\",\"2024-04-24 07:31:10\",\"2024-04-24 07:33:05\",\"2024-04-24 08:20:24\",\"2024-04-24 09:28:22\",\"2024-04-24 10:12:45\",\"2024-04-24 11:20:08\",\"2024-04-24 12:28:08\",\"2024-04-24 12:57:56\",\"2024-04-24 13:09:01\",\"2024-04-24 14:28:20\",\"2024-04-24 14:42:26\",\"2024-04-24 15:01:29\",\"2024-04-24 15:07:43\",\"2024-04-24 17:22:18\",\"2024-04-24 17:26:43\",\"2024-04-24 17:45:59\",\"2024-04-24 18:34:29\",\"2024-04-24 18:55:12\",\"2024-04-24 19:49:52\",\"2024-04-24 20:16:43\",\"2024-04-24 20:59:06\",\"2024-04-24 21:26:46\",\"2024-04-24 22:04:32\",\"2024-04-24 22:04:39\",\"2024-04-24 22:31:12\",\"2024-04-24 22:39:32\",\"2024-04-25 00:06:21\",\"2024-04-25 00:09:23\",\"2024-04-25 01:21:56\",\"2024-04-25 01:25:15\",\"2024-04-25 02:39:12\",\"2024-04-25 02:56:28\",\"2024-04-25 03:14:45\",\"2024-04-25 03:39:03\",\"2024-04-25 04:23:35\",\"2024-04-25 04:51:07\",\"2024-04-25 05:04:40\",\"2024-04-25 05:44:34\",\"2024-04-25 06:16:31\",\"2024-04-25 06:55:16\",\"2024-04-25 06:58:43\",\"2024-04-25 07:17:40\",\"2024-04-25 09:30:41\",\"2024-04-25 09:48:19\",\"2024-04-25 10:42:53\",\"2024-04-25 11:06:24\",\"2024-04-25 11:37:41\",\"2024-04-25 12:03:28\",\"2024-04-25 13:24:32\",\"2024-04-25 14:20:08\",\"2024-04-25 15:48:28\",\"2024-04-25 16:39:46\",\"2024-04-25 17:21:13\",\"2024-04-25 18:16:34\",\"2024-04-25 19:44:56\",\"2024-04-25 21:04:37\",\"2024-04-25 21:06:02\",\"2024-04-25 21:10:06\",\"2024-04-25 21:12:36\",\"2024-04-25 21:37:01\",\"2024-04-25 22:23:18\",\"2024-04-25 23:12:09\",\"2024-04-25 23:47:42\",\"2024-04-26 01:15:59\",\"2024-04-26 01:26:56\",\"2024-04-26 03:13:56\",\"2024-04-26 03:36:13\",\"2024-04-26 04:42:06\",\"2024-04-26 05:00:41\",\"2024-04-26 05:10:14\",\"2024-04-26 06:09:54\",\"2024-04-26 07:07:29\",\"2024-04-26 07:50:30\",\"2024-04-26 09:03:42\",\"2024-04-26 09:27:43\",\"2024-04-26 09:30:56\",\"2024-04-26 10:17:05\",\"2024-04-26 10:58:29\",\"2024-04-26 11:52:06\",\"2024-04-26 11:52:38\",\"2024-04-26 12:06:10\",\"2024-04-26 12:08:29\",\"2024-04-26 12:46:04\",\"2024-04-26 14:35:45\",\"2024-04-26 14:51:04\",\"2024-04-26 15:20:48\",\"2024-04-26 15:33:41\",\"2024-04-26 15:40:05\",\"2024-04-26 15:48:30\",\"2024-04-26 18:46:29\",\"2024-04-26 20:11:36\",\"2024-04-26 20:29:09\",\"2024-04-26 22:19:53\",\"2024-04-26 22:47:29\",\"2024-04-26 23:04:02\",\"2024-04-27 00:46:43\",\"2024-04-27 01:23:21\",\"2024-04-27 01:31:55\",\"2024-04-27 01:33:35\",\"2024-04-27 01:47:53\",\"2024-04-27 02:07:04\",\"2024-04-27 03:13:36\",\"2024-04-27 03:18:20\",\"2024-04-27 04:23:41\",\"2024-04-27 04:40:52\",\"2024-04-27 04:51:32\",\"2024-04-27 05:24:06\",\"2024-04-27 06:07:39\",\"2024-04-27 06:14:10\",\"2024-04-27 06:29:01\",\"2024-04-27 06:46:56\",\"2024-04-27 07:24:13\",\"2024-04-27 08:00:45\",\"2024-04-27 08:00:48\",\"2024-04-27 08:19:48\",\"2024-04-27 09:00:55\",\"2024-04-27 09:45:36\",\"2024-04-27 10:29:12\",\"2024-04-27 10:56:24\",\"2024-04-27 11:05:25\",\"2024-04-27 11:24:37\",\"2024-04-27 11:57:56\",\"2024-04-27 12:46:27\",\"2024-04-27 13:05:03\",\"2024-04-27 13:23:18\",\"2024-04-27 15:14:46\",\"2024-04-27 16:26:41\",\"2024-04-27 16:35:34\",\"2024-04-27 17:25:38\",\"2024-04-27 17:44:43\",\"2024-04-27 18:27:42\",\"2024-04-27 19:42:11\",\"2024-04-27 22:01:17\",\"2024-04-27 23:25:58\",\"2024-04-27 23:41:49\",\"2024-04-27 23:43:10\",\"2024-04-28 00:40:54\",\"2024-04-28 00:47:52\",\"2024-04-28 00:50:10\",\"2024-04-28 01:53:43\",\"2024-04-28 01:57:08\",\"2024-04-28 02:12:02\",\"2024-04-28 04:36:38\",\"2024-04-28 05:07:40\",\"2024-04-28 05:08:00\",\"2024-04-28 07:20:23\",\"2024-04-28 07:52:35\",\"2024-04-28 08:35:18\",\"2024-04-28 11:39:32\",\"2024-04-28 12:34:01\",\"2024-04-28 12:47:08\",\"2024-04-28 14:22:18\",\"2024-04-28 14:48:51\",\"2024-04-28 15:22:57\",\"2024-04-28 15:53:21\",\"2024-04-28 15:57:59\",\"2024-04-28 16:09:38\",\"2024-04-28 16:12:43\",\"2024-04-28 16:34:04\",\"2024-04-28 16:40:18\",\"2024-04-28 16:42:00\",\"2024-04-28 16:45:20\",\"2024-04-28 17:18:36\",\"2024-04-28 17:45:40\",\"2024-04-28 17:47:22\",\"2024-04-28 18:33:39\",\"2024-04-28 20:09:53\",\"2024-04-28 21:24:21\",\"2024-04-28 22:35:09\",\"2024-04-28 22:35:11\",\"2024-04-28 22:52:50\",\"2024-04-29 01:25:02\",\"2024-04-29 02:00:16\",\"2024-04-29 02:19:18\",\"2024-04-29 02:46:43\",\"2024-04-29 02:49:03\",\"2024-04-29 03:19:13\",\"2024-04-29 03:22:15\",\"2024-04-29 04:09:05\",\"2024-04-29 05:08:56\",\"2024-04-29 05:19:47\",\"2024-04-29 05:49:47\",\"2024-04-29 06:49:15\",\"2024-04-29 07:18:32\",\"2024-04-29 07:42:48\",\"2024-04-29 08:17:16\",\"2024-04-29 08:23:09\",\"2024-04-29 09:29:20\",\"2024-04-29 09:50:56\",\"2024-04-29 09:55:18\",\"2024-04-29 10:29:41\",\"2024-04-29 11:10:07\",\"2024-04-29 13:06:24\",\"2024-04-29 13:27:53\",\"2024-04-29 13:43:38\",\"2024-04-29 14:08:13\",\"2024-04-29 15:42:25\",\"2024-04-29 15:59:01\",\"2024-04-29 16:14:00\",\"2024-04-29 16:45:28\",\"2024-04-29 17:29:32\",\"2024-04-29 18:14:26\",\"2024-04-29 19:08:24\",\"2024-04-29 19:16:16\",\"2024-04-29 20:46:38\",\"2024-04-29 20:54:45\",\"2024-04-29 21:26:36\",\"2024-04-29 21:35:10\",\"2024-04-29 21:49:09\",\"2024-04-29 22:21:13\",\"2024-04-29 22:26:47\",\"2024-04-29 22:36:15\",\"2024-04-29 23:03:10\",\"2024-04-29 23:41:16\",\"2024-04-30 00:42:06\",\"2024-04-30 01:54:53\",\"2024-04-30 05:05:17\",\"2024-04-30 05:20:54\",\"2024-04-30 07:56:25\",\"2024-04-30 08:14:59\",\"2024-04-30 09:05:47\",\"2024-04-30 09:18:51\",\"2024-04-30 09:19:40\",\"2024-04-30 09:43:42\",\"2024-04-30 10:36:33\",\"2024-04-30 11:08:20\",\"2024-04-30 11:40:04\",\"2024-04-30 12:00:13\",\"2024-04-30 13:58:38\",\"2024-04-30 14:05:15\",\"2024-04-30 14:57:22\",\"2024-04-30 16:20:32\",\"2024-04-30 17:00:38\",\"2024-04-30 17:28:40\",\"2024-04-30 17:52:56\",\"2024-04-30 18:20:02\",\"2024-04-30 19:19:32\",\"2024-04-30 20:11:30\",\"2024-04-30 20:44:33\",\"2024-04-30 20:44:57\",\"2024-04-30 21:32:05\",\"2024-04-30 21:38:04\",\"2024-04-30 22:06:30\"],\"xaxis\":\"x\",\"y\":[2470.902966621197,1155.7124773090247,376.18241861094486,826.6909256124002,232.7137155460001,1353.8460642590176,298.8940740755177,2526.936505676829,1413.9899278195464,973.9969392382852,943.3488175055112,165.21999059798006,632.6847177641231,504.62767039729073,1016.1581643984,2360.357467012329,2326.0469191114585,639.9259165115084,697.2854366004613,1096.952101519331,983.128248754258,498.9914361154108,3356.5944169782274,281.1412166579225,2422.8043388906854,137.53540131544486,3238.097642515864,1206.7343145820448,436.1192612347748,1785.889427360337,3321.112392238459,807.96390393661,85.40517528434157,1898.2992356953607,1589.8284767998225,204.2992008930069,413.72489861206105,1928.2397592820128,527.7018336182427,1921.153685670935,1671.6535129279914,1716.4577569183757,2584.7799114366253,1337.4702436316009,1292.9873137061554,641.0904638272984,207.73296988024663,903.4639537602778,1259.135435780339,1475.891204629074,501.30450977414273,331.9310881382589,329.3325413759754,1990.5370966358385,1490.2413009810475,303.06318088295984,2764.814812979033,550.9913626316502,2206.548774890111,651.7917687691787,1570.1895007397966,473.10779243658726,4071.356469708432,291.82995724593417,1530.1762926955714,512.9662072289267,2148.0346409108915,589.151933156771,2508.058019398791,1204.9015716342944,845.8473992449981,817.4568481659854,307.8713276048245,507.3738879252287,756.1626471354961,1642.0473399322093,135.64894278749156,540.4905991353231,2697.922952055176,1085.1060433648086,246.42160136857848,1527.022010985856,1410.3868155168302,3009.537538930227,856.8300404201851,1413.8409052389554,555.7815695777078,488.2427851914083,92.36715374107254,2099.8424536625826,220.4730170961648,2393.6908120023504,1215.2598024313354,1707.903178418372,2624.165321666503,1747.2697569096515,3732.6447438420055,991.1252050504904,55.550120170477655,394.6095766032079,847.7785421911863,768.5547212385961,214.46549533760967,1554.4224509896326,313.7715495988065,12.496398596451767,1295.0329416972395,1056.2964818312987,112.5362586029609,1546.1280046503673,3577.1293196542942,972.917284485886,434.4823832670832,2852.4462139930447,485.33159635765935,1870.819147770069,1428.8961539975212,75.14917147379688,356.3078554434814,289.7491364710994,1521.7500858797955,224.745845379606,2821.443997661524,411.25613028824057,165.72067674939413,597.5247978724584,1693.440795295174,2087.0050599769825,2799.858509065223,759.9201687773591,360.3541434199828,887.8877522992144,1524.5069889635458,1861.672996878636,311.35409971805416,685.4173986074811,631.4796794041606,1150.2720302343382,2882.5324350653004,1143.3797823657287,1269.6788582677127,804.0951125288332,177.56888380008203,888.3981781591225,1159.4748186241006,971.3443423424744,770.6801426582745,2300.308161752864,515.4961909349762,653.4829878437754,2173.903498026408,463.04461822465487,1070.9746660282792,1529.4931698833732,500.7430382916541,1708.9317353512574,1741.4217199349027,1954.341324454152,1646.226022557183,1229.2166301274165,471.7477054023494,1352.794728200078,1708.23239860516,1509.7953696795903,2116.4907184770286,578.7047897450184,1265.3816346092465,467.65515879061047,198.037199046358,212.493754861332,3904.282645533917,167.69498035642596,1839.6038193173963,1147.0237487823963,81.15581478090749,234.8128748560627,974.7427627207168,3310.5295422556264,1711.3252819641114,1168.9062078966426,319.8643322421112,871.1923001135178,1247.7163345655094,225.50121894802385,2282.180205971702,1602.6716961373677,2875.08425531532,3593.22598649591,1717.5568658868974,220.52309612361023,3166.103979126505,836.2248562561338,1827.7441928979908,1543.7886282452694,2877.483099930572,754.1615841371548,169.2532303929268,1316.1048875592724,605.067664830186,397.7367755044695,2616.762566852623,1491.1176276168364,326.8262671307766,2214.4644690789764,403.5205447625234,1017.3881076591138,412.2272993504364,261.0497374137933,1366.9127040125627,838.8629886205317,699.5228770806043,1703.9948607740712,2001.5845035099192,1661.4971289513437,13.833947288598814,1789.954416560735,536.6814493700732,1132.6089308139376,441.1615018299951,840.8990396069736,66.08813898724456,383.7980851626828,669.6827231227553,2616.448850224592,248.47816643909047,604.8113644780178,2325.9392496436662,250.9877448826753,1773.2641676455971,487.6626811413284,659.9866328169624,3993.9043629665166,725.0126918446899,1518.8935531228,2563.327994350219,1764.044796980235,859.7508571663263,1718.4793997247243,1277.985303846873,2722.902728284698,734.6956511757144,559.2086732660916,2609.1581718333064,1063.431369511267,1606.5746099820751,219.40054001095652,292.8695551224153,1883.3844957420883,56.481360075732496,2957.8155753913315,1025.489047246204,1907.0638451909604,523.6568135559372,2292.664769107153,246.5519432639403,1200.0825312217105,1426.295513877169,1300.3266286439434,1374.1432592945823,3708.610909272352,1840.83308052494,563.9562218987116,614.978019535778,3678.174064408741,2560.8426130824155,689.3283757116745,2142.6480825986728,2607.013360385508,3182.308371090696,1202.8486213495598,819.3652874852438,1712.764908511324,2364.1023168944507,706.565157595013,715.3338446037347,425.4028372591228,452.0780187669907,920.3776873472024,841.8136817571666,826.6466686368324,1817.3227591472005,330.78512080599165,38178.92529333429,2886.592499252384,929.0848698267176,3096.8180172165034,1784.726343554229,380.6617286825453,409.0292364778049,477.6958569269543,73.49596514507047,3258.066300127478,646.3279089534124,314.36625663819643,1398.5605019782445,1109.992193944195,3454.1667121147107,96.02124007942416,39.92535286487325,1798.5605491642798,917.3174632074328,163.95987355824252,83.71399806166939,48.87831797425383,1300.9522487432175,695.5201039976585,1146.1120827052073,726.5262681949417,735.9059565474743,2450.683512349684,1774.0789938867135,268.1539999125806,1347.0690141442756,911.0125524339882,276.4581380753665,1699.700100794616,3911.9882252496272,1812.3998168383223,1420.5943572205954,826.8560779806398,1773.50084565889,1332.1594772919457,2797.854559142133,3714.799054352152,187.97945916295532,451.6040456225643,1822.05884939462,899.7678548147385,412.6496758944213,2676.6260918605467,753.4102663414048,1230.2244049904075,612.8656366381606,1155.0077939544265,564.9115464459445,1988.501427146728,556.0205940422416,784.5883378014393,383.453727383596,617.4001458675446,322.18984823858176,3440.8723902339225,3375.034591685549,3919.144268598802,1403.2446868418915,3612.580449463926,14.84519740834114,3816.8827314791743,3996.041733081512,1421.2322410365175,700.8919349187285,1326.740808322964,50.94043140674725,224.6931102779019,988.7503355332844,3394.511115161965,1119.908147983003,188.3783823463804,315.5559975496139,186.31750503186208,186.71374504027463,954.5739558106284,2360.9144438813387,404.9386081548725,840.2912224257318,1168.5296115453048,482.3048802495497,2507.477187341556,685.1375582348272,234.5040324861428,797.449058309166,615.2347168659693,907.6703250100604,2046.3400853203584,3501.1521366902207,475.2008284793069,307.0884576472439,1349.920191523144,1678.288159085952,151.0444211679064,2396.9195996414333,706.6372135407064,853.1981636970959,459.1860772260465,20.381486348223486,1971.5660451991944,830.7775380175041,2432.0296172597523,2017.5453371684025,465.6824699631088,2180.5555796703643,29.10205027953329,1900.583527787796,1240.994792395168,896.368516358326,419.5596419123079,1532.2330209709278,862.5339611444721,2626.1626882102646,1900.048298119452,1047.6236499135398,702.357375108986,683.4974025001104,693.9660603046885,2774.9009479236856,1631.2616251669103,880.8489549604437,204.83874426830988,1297.6235891076983,2153.66756347752,653.5541016065868,373.9702258444584,203.7696713745954,1360.969200998551,970.133046934808,680.6511718025541,674.0341733420196,1609.1837345748384,2512.287707458683,292.41128304262696,2269.971955382452,828.7403904206398,2857.8719562882834,438.03253080513286,3229.5226226903687,1567.2876072643107,321.17238344455774,2384.31326423426,2408.7860358856256,463.8740436857217,309.8421099268797,1128.1418922283854,2767.931062769854,856.7740772519678,1848.6953126281185,1660.7111997417362,1866.9163181465483,2861.77835201238,2103.6001881067423,342.21955453992825,1167.4731184898344,847.3370506343194,1451.9275956996387,1815.730280257238,278.0944764027861,825.4836013033073,351.8023306865557,383.3709312679036,2098.872107677491,975.7657696279362,610.7099479103937,429.2275011682632,1657.8113826036538,3347.4834092386595,1936.2669000161088,746.5208982428345,979.3817413868024,736.8123133546611,827.1200136489152,341.82506686254413,530.8867952206655,1517.0288413023047,954.4892008479172,1616.9588695180432,647.1369353568714,124.99865994743271,797.2809857578477,730.4991258384366,800.3253958336054,2936.6629829742865,466.8299144341475,740.0787716654949,2430.840464414565,969.5162836749656,597.3313062516102,942.4763438194552,256.8903575814417,1798.7340099501014,2984.7582383165427,2899.432139071936,98.07175340134177,97.86187510080958,379.8667178277152,714.3754926401499,2373.823513456029,912.616782564012,1754.4945112399118,2623.6793686064275,2583.382787772673,313.8678797347406,1329.0954686025532,593.996669526801,857.7821205069664,1809.6370213573327,1319.3571778101586,272.7198031451192,1355.9908257152276,759.9358322956998,1517.927361990833,1730.8011716126405,201.8401135019428,2643.672157804969,310.44665354372705,1338.4337344054657,120.19779540191328,71.09312205940077,176.39043778971535,874.707630009196,60.181233067686456,257.3623902019083,421.8855355591988,657.3389057344076,200.123961793275,3033.889688007011,533.8979980262176,817.9802467109743,883.9352818845797,297.8296550846061,334.3631707018555,671.7061003994284,725.1651649755813,404.7979663109512,559.026716901679,721.9746222984404,2868.355989034981,3743.239466231369,654.2486238983776,923.0585265619652,3132.9156226244213,983.7613437173292,384.966067860826,2935.732242574657,1848.514938251684,2766.6725313657585,945.4664665869876,106.77459200954064,67.5690244826069,312.6347213132589,2284.3364458682368,1094.8111971960277,1081.361500385486,1312.260150255103,525.0649549609989,687.8994569804652,1192.1269915989635,2969.699185405079,83.8885175631211,2849.2312245483845,3602.5894838961417,2301.831585103604,539.6855771164625,2042.202662141111,118.55642008253476,2332.2931421469,587.0995990201542,2394.665003439653,93.26062107392325,514.6275299515792,1662.883065322482,95.97245349828084,801.5926265359914,125.46948008600448,141.30416512895533,477.5896867847718,2339.194924864463,796.9209651013479,886.0260417564597,901.833853168486,3978.922904254142,1877.7421007930816,1585.0707418460331,1969.048976062163,51.420331370585096,567.3122282226091,2116.542573332972,20.55793668268573,368.8450189089028,2680.9746956106,1234.285799810421,1296.3363014583017,2919.885270851819,1564.345620949935,939.865523438084,2441.6482586277607,843.6579770318009,933.822997712911,356.1460643679181,41.38896857181103,1233.781848279154,1066.368295568832,1566.4300777892272,703.6213390085338,758.504477813924,2597.1955032071387,3868.3343397991534,127.91401389335088,332.7255389028492,1368.4955253855271,267.493651564226,1602.913830541083,507.3662733817304,178.20247232844667,1710.9738245058552,507.1715588212616,509.8161030979884,2624.803365583301,88.78275198021429,2748.536091136797,1302.2874264119196,2833.2447190894045,361.25909934096507,2831.0876755721106,50.89159026169306,3940.947374123409,1947.983759617298,2443.6140595601496,1919.89733693814,1518.196879774298,3159.3943766399925,510.4143464907248,388.02080878147086,1706.7272523585043,474.8539017459292,1671.7417619770954,1171.2376586741475,2813.6941793898004,751.6830081400883,263.85372331181566,514.6675359736676,1325.334744270583,614.4459347774515,2976.672912561753,1845.3893430293551,562.545366356209,2363.0691382610853,966.5146905061388,1603.964029487043,1404.9650091356762,499.9794436115622,988.6558185517584,1911.8897317173387,1357.79734674039,1136.96399985418,1270.0576646019863,3433.361869107687,859.2907917175598,496.842815519258,985.7653161311716,853.3684988684281,2347.9629987254,713.5865672135889,1776.6698985785904,490.49895703374136,2291.688257846212,322.2665263806183,672.9889389624923,1112.903504081071,921.1762849146008,2237.7731257995447,290.2282985263072,698.1119932973743,311.3005070342712,1394.7560084795573,1282.7443110952015,1747.0036246894515,547.2679443916644,2277.0089663459453,961.7050907958992,11198.11075769154,1355.3591462873342,759.3906509068865,1828.391037795748,1245.9891943404125,3942.410189188613,355.1678999049347,2514.35009971768,1172.330273618076,3450.047245107395,662.8379536717297,525.3526234407065,406.3800646107689,1850.976830917749,1354.9395342683858,2244.6334017886056,3181.9835024870044,2569.119920455185,475.02825812027726,3175.8338776617843,1358.8603061482463,2043.699220699105,2777.729640649902,1276.166384366953,1497.585093542902,794.1790786232676,1179.325035793095,418.27789212799786,155.72178039722954,2785.941797841786,1321.7705054317726,368.5126010974876,3658.143194065276,1227.6268379932585,1625.3637009160925,1040.60456648765,14.22546696652384,458.1319656278351,1102.3925603502596,519.3007067250086,1995.321116149379,1619.6441669196606,1312.3507727328283,338.69939876139284,93.59370795191109,1876.234304231854,518.179564095535,776.9484864052542,3232.867414540997,143.95511687404152,215.64236230902733,3437.325563914452,993.8678126590216,312.688755909927,2821.0610307740444,635.1711607457154,1200.1020520658808,499.51500154913583,503.9183510211709,210.6049915814509,354.1880964169993,2389.685225596565,2670.355952420754,940.9584171929567,606.7475291562336,979.8118185314712,1601.1273491796392,72.63791711684897,2834.898113390916,714.0515134898719,3473.439701948712,641.5274782176231,2265.52216934498,2632.659041324372,1039.7732375922128,619.20661757784,1153.8723552275992,263.5805239851914,610.1022869303793,97.43969153919728,2684.0386339012016,1167.8884593120813,1202.05470368591,3318.041505809909,1814.1952439528104,1599.909068084923,2652.6338996848663,1086.937123258145,1617.2723704649438,1504.092217032632,3010.4928436953264,2031.3055763752725,542.0779167651485,853.724691783808,207.8966337983337,1416.6683340077573,810.8248045879843,822.1674153972667,1960.170205349982,2944.8743705097754,1487.9417619425865,1408.1430350142734,569.4817522080549,57.4497945157534,1633.1663329742123,272.66114079006644,2307.5041300954654,1079.7015379358186,1574.9262057101178,175.20085167796157,1541.3827020558558,738.0956126186062,701.2330737486261,589.7833268270927,1630.031020199816,3725.859494223602,449.1348466747438,517.1629616482528,2654.290581962644,2356.846388333028,993.3311976623849,1710.9403680837318,368.12186407232497,3880.029386180725,2139.4231127682165,1904.2795197226376,888.594577273583,221.71146779325417,351.78487761242747,902.5443075457728,570.1732455767977,2396.2301930687177,1591.5851907444007,996.0527555400909,487.5315599232264,242.57465864178693,50.43565190797379,2981.7075885400727,1362.380437772773,156.22806960148705,2199.715992843569,1694.5834437014971,732.5318000359595,589.3607925020699,791.1319839525247,1028.4226070301822,731.4235841513455,524.617038039338,974.740588231472,435.8314871408937,142.09088830897483,911.9647910520106,1966.418834539702,215.83703856707083,2133.088706062409,2349.280968599651,2008.1380056918647,167.21146318284167,56.22669321632883,25797.952243331674,74.23022428339151,457.39393447476334,1957.154350150844,288.9427027445504,817.8471604107989,3951.15050074828,2702.902881711548,976.604809641837,702.0804886997371,1807.0732539896944,872.4986748499698,637.8549430283657,1812.36573912414,2800.6855633416526,433.5325376765266,1108.67880474028,147.90284763854896,900.8720380873596,2520.682580688818,2582.284584491549,188.21260254933648,406.7865343595494,466.2563719915671,2344.7522356464315,1198.312161252065,1706.0437900083657,234.75048636003825,1074.432221382194,1710.6262486331934,615.8205001294099,884.0659805433181,879.6830628608992,385.6528168600077,211.3231291862355,1317.62108141632,3708.088733047206,957.709657381016,2671.929580475708,1769.9105452596373,1918.2042632096693,230.3551295287767,566.0125194131934,441.1447508092024,1552.7956192602676,3969.596711925616,767.5101193940045,803.97751039233,688.0612461815732,280.116194820492,266.15402253969273,594.5864862593048,1881.8962184213224,696.5100926276532,499.5104068254694,1793.7717128916618,545.9880812293558,1622.6775798422168,1217.1122860589746,989.504962740746,222.57676496820852,404.8271610413051,882.2711592043706,590.5363434594545,3157.9068592967383,1698.175179192889,1169.7454550647478,83.32312969899084,2255.311748264861,2375.4435397659213,998.458453723678,2322.983018262098,656.3239924981613,553.8286668372479,486.29721126011634,1137.62793830183,1325.1065317169305,399.37612669585326,2465.4052366417736,1129.2553331471652,591.2183903433549,947.3639610247354,738.0878014479134,555.2465740230547,807.0447203536125,667.8718301492241,137.02071688409978,1325.8369428687215,411.60444432416045,521.4246987316959,2553.5407355638854,2445.8678947499425,673.7371510823923,162.68261898158116,800.0485288869221,532.7554971811481,487.6238151461224,1197.4823861249774,373.8485512664829,1613.4849059453795,949.8524332553828,1242.8364286767437,215.12787977044425,889.2976438533951,327.8346772453984,535.6880568284513,890.269319547627,1807.879722560256,3855.548620301599,3398.4471255231124,445.0534326532276,1296.1097051149911,2733.3701119352,385.3234678076485,1901.8159890464308,3047.5835848952984,1430.962573234275,927.2093066307176,757.3322119623901,551.1346729207121,998.808667581021,1626.5242518352595,977.6777481910436,2963.888335648841,1416.8448520434672,3382.811091643965,3000.0271261759267,1875.8562522574723,395.26448073216494,464.2641004703906,113.66930575207697,967.4106306411508,2307.8369563937867,868.817261964108,800.0761834091904,1520.954337223552,2248.697350692914,1692.8932720233552,799.4522629590823,615.5321554737849,949.7340757507404,544.1568852804056,423.012034919063,2981.392375547286,356.6955875293918,700.8949166905451,72.40167659114383,2063.8988051874194,1223.9834678820173,3079.46161198492,1605.2100219192876,1651.3421376693143,1780.642885775966,349.84330023430755,1328.362262464752,687.3315438574951,1717.7557216737025,453.8138279622154,531.126372219861,2135.302503538286,418.0562488588727,870.7001786562822,30.99871835928424,1257.343516805503,1796.4109160069738,1113.726162401683,469.8492764353792,468.6838923759129],\"yaxis\":\"y\",\"type\":\"scatter\"}],                        {\"template\":{\"data\":{\"histogram2dcontour\":[{\"type\":\"histogram2dcontour\",\"colorbar\":{\"outlinewidth\":0,\"ticks\":\"\"},\"colorscale\":[[0.0,\"#0d0887\"],[0.1111111111111111,\"#46039f\"],[0.2222222222222222,\"#7201a8\"],[0.3333333333333333,\"#9c179e\"],[0.4444444444444444,\"#bd3786\"],[0.5555555555555556,\"#d8576b\"],[0.6666666666666666,\"#ed7953\"],[0.7777777777777778,\"#fb9f3a\"],[0.8888888888888888,\"#fdca26\"],[1.0,\"#f0f921\"]]}],\"choropleth\":[{\"type\":\"choropleth\",\"colorbar\":{\"outlinewidth\":0,\"ticks\":\"\"}}],\"histogram2d\":[{\"type\":\"histogram2d\",\"colorbar\":{\"outlinewidth\":0,\"ticks\":\"\"},\"colorscale\":[[0.0,\"#0d0887\"],[0.1111111111111111,\"#46039f\"],[0.2222222222222222,\"#7201a8\"],[0.3333333333333333,\"#9c179e\"],[0.4444444444444444,\"#bd3786\"],[0.5555555555555556,\"#d8576b\"],[0.6666666666666666,\"#ed7953\"],[0.7777777777777778,\"#fb9f3a\"],[0.8888888888888888,\"#fdca26\"],[1.0,\"#f0f921\"]]}],\"heatmap\":[{\"type\":\"heatmap\",\"colorbar\":{\"outlinewidth\":0,\"ticks\":\"\"},\"colorscale\":[[0.0,\"#0d0887\"],[0.1111111111111111,\"#46039f\"],[0.2222222222222222,\"#7201a8\"],[0.3333333333333333,\"#9c179e\"],[0.4444444444444444,\"#bd3786\"],[0.5555555555555556,\"#d8576b\"],[0.6666666666666666,\"#ed7953\"],[0.7777777777777778,\"#fb9f3a\"],[0.8888888888888888,\"#fdca26\"],[1.0,\"#f0f921\"]]}],\"heatmapgl\":[{\"type\":\"heatmapgl\",\"colorbar\":{\"outlinewidth\":0,\"ticks\":\"\"},\"colorscale\":[[0.0,\"#0d0887\"],[0.1111111111111111,\"#46039f\"],[0.2222222222222222,\"#7201a8\"],[0.3333333333333333,\"#9c179e\"],[0.4444444444444444,\"#bd3786\"],[0.5555555555555556,\"#d8576b\"],[0.6666666666666666,\"#ed7953\"],[0.7777777777777778,\"#fb9f3a\"],[0.8888888888888888,\"#fdca26\"],[1.0,\"#f0f921\"]]}],\"contourcarpet\":[{\"type\":\"contourcarpet\",\"colorbar\":{\"outlinewidth\":0,\"ticks\":\"\"}}],\"contour\":[{\"type\":\"contour\",\"colorbar\":{\"outlinewidth\":0,\"ticks\":\"\"},\"colorscale\":[[0.0,\"#0d0887\"],[0.1111111111111111,\"#46039f\"],[0.2222222222222222,\"#7201a8\"],[0.3333333333333333,\"#9c179e\"],[0.4444444444444444,\"#bd3786\"],[0.5555555555555556,\"#d8576b\"],[0.6666666666666666,\"#ed7953\"],[0.7777777777777778,\"#fb9f3a\"],[0.8888888888888888,\"#fdca26\"],[1.0,\"#f0f921\"]]}],\"surface\":[{\"type\":\"surface\",\"colorbar\":{\"outlinewidth\":0,\"ticks\":\"\"},\"colorscale\":[[0.0,\"#0d0887\"],[0.1111111111111111,\"#46039f\"],[0.2222222222222222,\"#7201a8\"],[0.3333333333333333,\"#9c179e\"],[0.4444444444444444,\"#bd3786\"],[0.5555555555555556,\"#d8576b\"],[0.6666666666666666,\"#ed7953\"],[0.7777777777777778,\"#fb9f3a\"],[0.8888888888888888,\"#fdca26\"],[1.0,\"#f0f921\"]]}],\"mesh3d\":[{\"type\":\"mesh3d\",\"colorbar\":{\"outlinewidth\":0,\"ticks\":\"\"}}],\"scatter\":[{\"fillpattern\":{\"fillmode\":\"overlay\",\"size\":10,\"solidity\":0.2},\"type\":\"scatter\"}],\"parcoords\":[{\"type\":\"parcoords\",\"line\":{\"colorbar\":{\"outlinewidth\":0,\"ticks\":\"\"}}}],\"scatterpolargl\":[{\"type\":\"scatterpolargl\",\"marker\":{\"colorbar\":{\"outlinewidth\":0,\"ticks\":\"\"}}}],\"bar\":[{\"error_x\":{\"color\":\"#2a3f5f\"},\"error_y\":{\"color\":\"#2a3f5f\"},\"marker\":{\"line\":{\"color\":\"#E5ECF6\",\"width\":0.5},\"pattern\":{\"fillmode\":\"overlay\",\"size\":10,\"solidity\":0.2}},\"type\":\"bar\"}],\"scattergeo\":[{\"type\":\"scattergeo\",\"marker\":{\"colorbar\":{\"outlinewidth\":0,\"ticks\":\"\"}}}],\"scatterpolar\":[{\"type\":\"scatterpolar\",\"marker\":{\"colorbar\":{\"outlinewidth\":0,\"ticks\":\"\"}}}],\"histogram\":[{\"marker\":{\"pattern\":{\"fillmode\":\"overlay\",\"size\":10,\"solidity\":0.2}},\"type\":\"histogram\"}],\"scattergl\":[{\"type\":\"scattergl\",\"marker\":{\"colorbar\":{\"outlinewidth\":0,\"ticks\":\"\"}}}],\"scatter3d\":[{\"type\":\"scatter3d\",\"line\":{\"colorbar\":{\"outlinewidth\":0,\"ticks\":\"\"}},\"marker\":{\"colorbar\":{\"outlinewidth\":0,\"ticks\":\"\"}}}],\"scattermapbox\":[{\"type\":\"scattermapbox\",\"marker\":{\"colorbar\":{\"outlinewidth\":0,\"ticks\":\"\"}}}],\"scatterternary\":[{\"type\":\"scatterternary\",\"marker\":{\"colorbar\":{\"outlinewidth\":0,\"ticks\":\"\"}}}],\"scattercarpet\":[{\"type\":\"scattercarpet\",\"marker\":{\"colorbar\":{\"outlinewidth\":0,\"ticks\":\"\"}}}],\"carpet\":[{\"aaxis\":{\"endlinecolor\":\"#2a3f5f\",\"gridcolor\":\"white\",\"linecolor\":\"white\",\"minorgridcolor\":\"white\",\"startlinecolor\":\"#2a3f5f\"},\"baxis\":{\"endlinecolor\":\"#2a3f5f\",\"gridcolor\":\"white\",\"linecolor\":\"white\",\"minorgridcolor\":\"white\",\"startlinecolor\":\"#2a3f5f\"},\"type\":\"carpet\"}],\"table\":[{\"cells\":{\"fill\":{\"color\":\"#EBF0F8\"},\"line\":{\"color\":\"white\"}},\"header\":{\"fill\":{\"color\":\"#C8D4E3\"},\"line\":{\"color\":\"white\"}},\"type\":\"table\"}],\"barpolar\":[{\"marker\":{\"line\":{\"color\":\"#E5ECF6\",\"width\":0.5},\"pattern\":{\"fillmode\":\"overlay\",\"size\":10,\"solidity\":0.2}},\"type\":\"barpolar\"}],\"pie\":[{\"automargin\":true,\"type\":\"pie\"}]},\"layout\":{\"autotypenumbers\":\"strict\",\"colorway\":[\"#636efa\",\"#EF553B\",\"#00cc96\",\"#ab63fa\",\"#FFA15A\",\"#19d3f3\",\"#FF6692\",\"#B6E880\",\"#FF97FF\",\"#FECB52\"],\"font\":{\"color\":\"#2a3f5f\"},\"hovermode\":\"closest\",\"hoverlabel\":{\"align\":\"left\"},\"paper_bgcolor\":\"white\",\"plot_bgcolor\":\"#E5ECF6\",\"polar\":{\"bgcolor\":\"#E5ECF6\",\"angularaxis\":{\"gridcolor\":\"white\",\"linecolor\":\"white\",\"ticks\":\"\"},\"radialaxis\":{\"gridcolor\":\"white\",\"linecolor\":\"white\",\"ticks\":\"\"}},\"ternary\":{\"bgcolor\":\"#E5ECF6\",\"aaxis\":{\"gridcolor\":\"white\",\"linecolor\":\"white\",\"ticks\":\"\"},\"baxis\":{\"gridcolor\":\"white\",\"linecolor\":\"white\",\"ticks\":\"\"},\"caxis\":{\"gridcolor\":\"white\",\"linecolor\":\"white\",\"ticks\":\"\"}},\"coloraxis\":{\"colorbar\":{\"outlinewidth\":0,\"ticks\":\"\"}},\"colorscale\":{\"sequential\":[[0.0,\"#0d0887\"],[0.1111111111111111,\"#46039f\"],[0.2222222222222222,\"#7201a8\"],[0.3333333333333333,\"#9c179e\"],[0.4444444444444444,\"#bd3786\"],[0.5555555555555556,\"#d8576b\"],[0.6666666666666666,\"#ed7953\"],[0.7777777777777778,\"#fb9f3a\"],[0.8888888888888888,\"#fdca26\"],[1.0,\"#f0f921\"]],\"sequentialminus\":[[0.0,\"#0d0887\"],[0.1111111111111111,\"#46039f\"],[0.2222222222222222,\"#7201a8\"],[0.3333333333333333,\"#9c179e\"],[0.4444444444444444,\"#bd3786\"],[0.5555555555555556,\"#d8576b\"],[0.6666666666666666,\"#ed7953\"],[0.7777777777777778,\"#fb9f3a\"],[0.8888888888888888,\"#fdca26\"],[1.0,\"#f0f921\"]],\"diverging\":[[0,\"#8e0152\"],[0.1,\"#c51b7d\"],[0.2,\"#de77ae\"],[0.3,\"#f1b6da\"],[0.4,\"#fde0ef\"],[0.5,\"#f7f7f7\"],[0.6,\"#e6f5d0\"],[0.7,\"#b8e186\"],[0.8,\"#7fbc41\"],[0.9,\"#4d9221\"],[1,\"#276419\"]]},\"xaxis\":{\"gridcolor\":\"white\",\"linecolor\":\"white\",\"ticks\":\"\",\"title\":{\"standoff\":15},\"zerolinecolor\":\"white\",\"automargin\":true,\"zerolinewidth\":2},\"yaxis\":{\"gridcolor\":\"white\",\"linecolor\":\"white\",\"ticks\":\"\",\"title\":{\"standoff\":15},\"zerolinecolor\":\"white\",\"automargin\":true,\"zerolinewidth\":2},\"scene\":{\"xaxis\":{\"backgroundcolor\":\"#E5ECF6\",\"gridcolor\":\"white\",\"linecolor\":\"white\",\"showbackground\":true,\"ticks\":\"\",\"zerolinecolor\":\"white\",\"gridwidth\":2},\"yaxis\":{\"backgroundcolor\":\"#E5ECF6\",\"gridcolor\":\"white\",\"linecolor\":\"white\",\"showbackground\":true,\"ticks\":\"\",\"zerolinecolor\":\"white\",\"gridwidth\":2},\"zaxis\":{\"backgroundcolor\":\"#E5ECF6\",\"gridcolor\":\"white\",\"linecolor\":\"white\",\"showbackground\":true,\"ticks\":\"\",\"zerolinecolor\":\"white\",\"gridwidth\":2}},\"shapedefaults\":{\"line\":{\"color\":\"#2a3f5f\"}},\"annotationdefaults\":{\"arrowcolor\":\"#2a3f5f\",\"arrowhead\":0,\"arrowwidth\":1},\"geo\":{\"bgcolor\":\"white\",\"landcolor\":\"#E5ECF6\",\"subunitcolor\":\"white\",\"showland\":true,\"showlakes\":true,\"lakecolor\":\"white\"},\"title\":{\"x\":0.05},\"mapbox\":{\"style\":\"light\"}}},\"xaxis\":{\"anchor\":\"y\",\"domain\":[0.0,1.0],\"title\":{\"text\":\"Purchase Date\"},\"showgrid\":false},\"yaxis\":{\"anchor\":\"x\",\"domain\":[0.0,1.0],\"title\":{\"text\":\"Total Sales\"},\"showgrid\":true,\"gridcolor\":\"rgba(200,200,200,0.7)\"},\"legend\":{\"tracegroupgap\":0},\"title\":{\"text\":\"Sales over Time\",\"x\":0.5},\"plot_bgcolor\":\"rgba(0,0,0,0)\",\"paper_bgcolor\":\"rgba(240,240,240,1)\"},                        {\"responsive\": true}                    ).then(function(){\n",
              "                            \n",
              "var gd = document.getElementById('a51b02be-f38b-4684-b52e-03d8ac6040b4');\n",
              "var x = new MutationObserver(function (mutations, observer) {{\n",
              "        var display = window.getComputedStyle(gd).display;\n",
              "        if (!display || display === 'none') {{\n",
              "            console.log([gd, 'removed!']);\n",
              "            Plotly.purge(gd);\n",
              "            observer.disconnect();\n",
              "        }}\n",
              "}});\n",
              "\n",
              "// Listen for the removal of the full notebook cells\n",
              "var notebookContainer = gd.closest('#notebook-container');\n",
              "if (notebookContainer) {{\n",
              "    x.observe(notebookContainer, {childList: true});\n",
              "}}\n",
              "\n",
              "// Listen for the clearing of the current output cell\n",
              "var outputEl = gd.closest('.output');\n",
              "if (outputEl) {{\n",
              "    x.observe(outputEl, {childList: true});\n",
              "}}\n",
              "\n",
              "                        })                };                            </script>        </div>\n",
              "</body>\n",
              "</html>"
            ]
          },
          "metadata": {}
        }
      ]
    },
    {
      "cell_type": "code",
      "source": [
        "# Box plot with Plotly\n",
        "\n",
        "fig = px.box(dataset, x='ProductCategory', y='ProductPrice',\n",
        "             title='Box Plot of Product Prices by Category',\n",
        "             labels={'ProductPrice': 'Product Price'},\n",
        "             color='ProductCategory',\n",
        "             color_discrete_sequence=px.colors.qualitative.Plotly)\n",
        "\n",
        "fig.update_layout(xaxis_title='Product Category',\n",
        "                  yaxis_title='Product Price',\n",
        "                  title_x=0.5,\n",
        "                  xaxis=dict(tickangle=-45))\n",
        "\n",
        "fig.show()"
      ],
      "metadata": {
        "colab": {
          "base_uri": "https://localhost:8080/",
          "height": 542
        },
        "id": "NowHE-LAxLZ-",
        "outputId": "2c906de9-d0bc-43e1-b3a5-69b109f2be1d"
      },
      "execution_count": 1013,
      "outputs": [
        {
          "output_type": "display_data",
          "data": {
            "text/html": [
              "<html>\n",
              "<head><meta charset=\"utf-8\" /></head>\n",
              "<body>\n",
              "    <div>            <script src=\"https://cdnjs.cloudflare.com/ajax/libs/mathjax/2.7.5/MathJax.js?config=TeX-AMS-MML_SVG\"></script><script type=\"text/javascript\">if (window.MathJax && window.MathJax.Hub && window.MathJax.Hub.Config) {window.MathJax.Hub.Config({SVG: {font: \"STIX-Web\"}});}</script>                <script type=\"text/javascript\">window.PlotlyConfig = {MathJaxConfig: 'local'};</script>\n",
              "        <script charset=\"utf-8\" src=\"https://cdn.plot.ly/plotly-2.24.1.min.js\"></script>                <div id=\"cc256dc1-3fc4-4943-96ec-66a0185fec39\" class=\"plotly-graph-div\" style=\"height:525px; width:100%;\"></div>            <script type=\"text/javascript\">                                    window.PLOTLYENV=window.PLOTLYENV || {};                                    if (document.getElementById(\"cc256dc1-3fc4-4943-96ec-66a0185fec39\")) {                    Plotly.newPlot(                        \"cc256dc1-3fc4-4943-96ec-66a0185fec39\",                        [{\"alignmentgroup\":\"True\",\"hovertemplate\":\"ProductCategory=%{x}\\u003cbr\\u003eProduct Price=%{y}\\u003cextra\\u003e\\u003c\\u002fextra\\u003e\",\"legendgroup\":\"Clothing\",\"marker\":{\"color\":\"#636EFA\"},\"name\":\"Clothing\",\"notched\":false,\"offsetgroup\":\"Clothing\",\"orientation\":\"v\",\"showlegend\":true,\"x\":[\"Clothing\",\"Clothing\",\"Clothing\",\"Clothing\",\"Clothing\",\"Clothing\",\"Clothing\",\"Clothing\",\"Clothing\",\"Clothing\",\"Clothing\",\"Clothing\",\"Clothing\",\"Clothing\",\"Clothing\",\"Clothing\",\"Clothing\",\"Clothing\",\"Clothing\",\"Clothing\",\"Clothing\",\"Clothing\",\"Clothing\",\"Clothing\",\"Clothing\",\"Clothing\",\"Clothing\",\"Clothing\",\"Clothing\",\"Clothing\",\"Clothing\",\"Clothing\",\"Clothing\",\"Clothing\",\"Clothing\",\"Clothing\",\"Clothing\",\"Clothing\",\"Clothing\",\"Clothing\",\"Clothing\",\"Clothing\",\"Clothing\",\"Clothing\",\"Clothing\",\"Clothing\",\"Clothing\",\"Clothing\",\"Clothing\",\"Clothing\",\"Clothing\",\"Clothing\",\"Clothing\",\"Clothing\",\"Clothing\",\"Clothing\",\"Clothing\",\"Clothing\",\"Clothing\",\"Clothing\",\"Clothing\",\"Clothing\",\"Clothing\",\"Clothing\",\"Clothing\",\"Clothing\",\"Clothing\",\"Clothing\",\"Clothing\",\"Clothing\",\"Clothing\",\"Clothing\",\"Clothing\",\"Clothing\",\"Clothing\",\"Clothing\",\"Clothing\",\"Clothing\",\"Clothing\",\"Clothing\",\"Clothing\",\"Clothing\",\"Clothing\",\"Clothing\",\"Clothing\",\"Clothing\",\"Clothing\",\"Clothing\",\"Clothing\",\"Clothing\",\"Clothing\",\"Clothing\",\"Clothing\",\"Clothing\",\"Clothing\",\"Clothing\",\"Clothing\",\"Clothing\",\"Clothing\",\"Clothing\",\"Clothing\",\"Clothing\",\"Clothing\",\"Clothing\",\"Clothing\",\"Clothing\",\"Clothing\",\"Clothing\",\"Clothing\",\"Clothing\",\"Clothing\",\"Clothing\",\"Clothing\",\"Clothing\",\"Clothing\",\"Clothing\",\"Clothing\",\"Clothing\",\"Clothing\",\"Clothing\",\"Clothing\",\"Clothing\",\"Clothing\",\"Clothing\",\"Clothing\",\"Clothing\",\"Clothing\",\"Clothing\",\"Clothing\",\"Clothing\",\"Clothing\",\"Clothing\",\"Clothing\",\"Clothing\",\"Clothing\",\"Clothing\",\"Clothing\",\"Clothing\",\"Clothing\",\"Clothing\",\"Clothing\",\"Clothing\",\"Clothing\",\"Clothing\",\"Clothing\",\"Clothing\",\"Clothing\",\"Clothing\",\"Clothing\",\"Clothing\",\"Clothing\",\"Clothing\",\"Clothing\",\"Clothing\",\"Clothing\",\"Clothing\",\"Clothing\",\"Clothing\",\"Clothing\",\"Clothing\",\"Clothing\",\"Clothing\",\"Clothing\",\"Clothing\",\"Clothing\",\"Clothing\",\"Clothing\",\"Clothing\",\"Clothing\",\"Clothing\",\"Clothing\",\"Clothing\",\"Clothing\",\"Clothing\",\"Clothing\",\"Clothing\",\"Clothing\",\"Clothing\",\"Clothing\",\"Clothing\",\"Clothing\",\"Clothing\",\"Clothing\",\"Clothing\",\"Clothing\",\"Clothing\",\"Clothing\",\"Clothing\",\"Clothing\",\"Clothing\",\"Clothing\",\"Clothing\",\"Clothing\",\"Clothing\",\"Clothing\",\"Clothing\",\"Clothing\",\"Clothing\",\"Clothing\",\"Clothing\",\"Clothing\",\"Clothing\",\"Clothing\",\"Clothing\",\"Clothing\",\"Clothing\",\"Clothing\",\"Clothing\",\"Clothing\",\"Clothing\",\"Clothing\",\"Clothing\",\"Clothing\",\"Clothing\",\"Clothing\",\"Clothing\",\"Clothing\",\"Clothing\",\"Clothing\",\"Clothing\",\"Clothing\",\"Clothing\",\"Clothing\",\"Clothing\",\"Clothing\",\"Clothing\",\"Clothing\",\"Clothing\",\"Clothing\",\"Clothing\",\"Clothing\",\"Clothing\",\"Clothing\",\"Clothing\",\"Clothing\",\"Clothing\",\"Clothing\",\"Clothing\",\"Clothing\",\"Clothing\",\"Clothing\",\"Clothing\",\"Clothing\",\"Clothing\",\"Clothing\",\"Clothing\",\"Clothing\",\"Clothing\",\"Clothing\",\"Clothing\",\"Clothing\",\"Clothing\",\"Clothing\",\"Clothing\",\"Clothing\",\"Clothing\",\"Clothing\",\"Clothing\",\"Clothing\",\"Clothing\",\"Clothing\",\"Clothing\",\"Clothing\",\"Clothing\",\"Clothing\",\"Clothing\",\"Clothing\",\"Clothing\",\"Clothing\",\"Clothing\",\"Clothing\",\"Clothing\",\"Clothing\",\"Clothing\",\"Clothing\",\"Clothing\",\"Clothing\",\"Clothing\",\"Clothing\",\"Clothing\",\"Clothing\",\"Clothing\",\"Clothing\",\"Clothing\",\"Clothing\",\"Clothing\",\"Clothing\",\"Clothing\",\"Clothing\",\"Clothing\",\"Clothing\",\"Clothing\",\"Clothing\",\"Clothing\",\"Clothing\",\"Clothing\",\"Clothing\",\"Clothing\",\"Clothing\",\"Clothing\",\"Clothing\",\"Clothing\",\"Clothing\",\"Clothing\",\"Clothing\",\"Clothing\",\"Clothing\",\"Clothing\",\"Clothing\",\"Clothing\",\"Clothing\",\"Clothing\",\"Clothing\",\"Clothing\",\"Clothing\",\"Clothing\",\"Clothing\",\"Clothing\",\"Clothing\",\"Clothing\",\"Clothing\",\"Clothing\",\"Clothing\",\"Clothing\",\"Clothing\",\"Clothing\",\"Clothing\",\"Clothing\",\"Clothing\",\"Clothing\",\"Clothing\",\"Clothing\",\"Clothing\",\"Clothing\",\"Clothing\"],\"x0\":\" \",\"xaxis\":\"x\",\"y\":[617.7257416552992,826.6909256124002,353.4974819548866,235.8372043763778,126.15691759932268,498.9914361154108,281.1412166579225,68.76770065772243,145.3730870782583,892.9447136801685,102.14960044650346,646.4936568530777,213.69682127576613,110.64369604608628,663.5123655452794,372.5603252452619,691.2037032447582,137.74784065791255,785.0947503698983,473.10779243658726,999.010433270378,291.82995724593417,196.3839777189237,627.0145048496978,602.4507858171472,281.94913308166605,102.62377586827483,253.68694396261435,821.0236699661046,135.64894278749156,555.7815695777078,220.4730170961648,569.3010594727907,495.5626025252452,384.27736061929807,518.1408169965442,14.84519740834114,431.6776472324132,112.5362586029609,386.5320011625918,486.458642242943,144.8274610890277,242.66579817882968,623.6063825900231,411.25613028824057,933.2861696884078,383.4240100781127,770.6801426582745,653.4829878437754,724.6344993421359,764.7465849416866,569.6439117837525,977.170662227076,529.1226796192572,578.7047897450184,106.246877430666,382.34124959413214,81.15581478090749,324.91425424023896,827.6323855639066,56.37530473700596,958.36141843844,898.3064966239775,572.5189552956325,220.52309612361023,959.1610333101904,169.2532303929268,132.5789251681565,872.2541889508743,403.5205447625234,339.1293692197046,206.1136496752182,261.0497374137933,341.7281760031407,349.7614385403021,667.1948345033064,447.48860414018367,220.5807509149976,383.7980851626828,62.11954160977262,125.49387244133769,243.8313405706642,219.9955442723208,506.29785104093327,854.4426647834063,882.0223984901177,286.5836190554421,734.6956511757144,559.2086732660916,18.827120025244167,953.5319225954802,523.6568135559372,61.63798581598508,713.1477569385845,687.0716296472913,927.1527273180876,919.5435161021852,640.2106532706039,689.3283757116745,795.577092772674,400.9495404498533,113.01950469174768,454.33068978680006,999.010433270378,721.6481248130958,929.0848698267176,774.2045043041259,78.59156415954911,699.2802509891222,899.2802745821399,81.97993677912126,48.87831797425383,650.4761243716088,382.0373609017357,911.0125524339882,906.1999084191611,355.14858930514885,699.4636397855334,455.5147123486549,669.1565229651367,307.556101247602,564.9115464459445,556.0205940422416,383.453727383596,999.010433270378,467.7482289472972,903.1451123659816,14.84519740834114,954.2206828697936,999.010433270378,350.4459674593642,663.3704041614819,315.5559975496139,954.5739558106284,685.1375582348272,153.54422882362195,839.144079542976,672.5151123894675,465.6824699631088,620.497396197584,224.0921290895815,173.4915150761721,186.9851129222292,453.6564003328504,340.32558590127707,224.6780577806732,837.429235819561,828.7403904206398,952.623985429428,438.03253080513286,522.4292024214369,794.7710880780867,376.0472974094618,856.7740772519678,933.4581590732744,484.0667250040272,530.8867952206655,477.2446004239587,647.1369353568714,124.99865994743271,265.76032858594925,365.2495629192183,734.1657457435716,246.69292388849829,298.6656531258051,966.4773796906454,24.51793835033544,655.9198421516069,861.1275959242245,78.46696993368515,332.2738671506383,272.7198031451192,758.9636809954166,103.48221784790904,874.707630009196,30.090616533843228,257.3623902019083,421.8855355591988,441.96764094228985,956.1186630116604,273.7027992990069,656.1300751275515,742.4247963512697,269.84278855823123,46.630310536961616,801.5926265359914,477.5896867847718,199.23024127533697,492.2622440155408,368.8450189089028,411.42859993680696,782.1728104749675,234.966380859521,843.6579770318009,356.1460643679181,783.2150388946136,967.0835849497884,684.2477626927636,267.493651564226,169.12209112724346,855.4869122529276,253.5857794106308,656.2008413958254,44.39137599010714,916.1786970455988,50.89159026169306,610.9035148900374,789.8485941599981,510.4143464907248,703.4235448474501,751.6830081400883,615.129781009785,249.9897218057811,988.6558185517584,637.2965772391129,452.59911558013,429.6453958587799,248.42140775962892,163.49965234458045,370.96783469369046,307.0587616382003,745.9243752665149,698.1119932973743,464.91866949318575,582.3345415631505,961.7050907958992,999.010433270378,622.9945971702062,177.58394995246735,293.082568404519,451.6465114227953,793.9584694154461,679.4301530741232,139.42596404266595,928.647265947262,330.44262635794314,184.2563005487438,914.535798516319,613.8134189966293,520.3022832438251,458.1319656278351,259.6503533625043,112.89979958713094,808.2168536352492,71.88078743634244,705.2652576935111,251.95917551058545,326.6039395104904,641.5274782176231,877.5530137747905,671.0096584753004,543.4685616290725,752.6232109238316,69.29887793277791,708.3341670038786,274.0558051324222,704.0715175071367,136.33057039503322,175.20085167796157,770.6913510279279,884.7635273208813,785.6154627776758,855.4701840418659,221.71146779325417,351.78487761242747,142.54331139419943,798.7433976895726,454.12681259092426,733.2386642811897,342.8075356767274,365.7117920756728,783.0936561998835,669.3793352306217,167.21146318284167,74.23022428339151,457.39393447476334,817.8471604107989,325.534936547279,903.5366269948472,933.5618544472176,433.5325376765266,781.5840785488106,234.75048636003825,205.27350004313664,879.6830628608992,478.854828690508,890.6431934919027,884.9552726298186,230.3551295287767,220.5723754046012,133.07701126984637,441.1355796021853,789.4767148241846,389.9151516882493,751.7705827549536,379.20931276727663,564.6276665735826,473.6819805123677,738.0878014479134,201.7611800884032,441.9456476229073,130.35617468292398,224.57905036079745,54.22753966052705,310.70910716918587,81.9586693113496,451.9699306400639,111.26335816330688,324.0274262787478,128.44115593588285,633.9386630154769,761.8958962238246,977.6777481910436,987.9627785496136,354.2112130108668,483.7053153205754,289.605753988036,400.0380917045952,760.4771686117759,562.1743376732285,799.4522629590823,949.7340757507404,136.0392213201014,745.3480938868215,356.6955875293918,36.20083829557191,515.9747012968548,611.9917339410086,401.3025054798219,533.8256258845715,870.7001786562822,314.33587920137575,234.34194618795644,965.574643318875,433.6926196663452],\"y0\":\" \",\"yaxis\":\"y\",\"type\":\"box\"},{\"alignmentgroup\":\"True\",\"hovertemplate\":\"ProductCategory=%{x}\\u003cbr\\u003eProduct Price=%{y}\\u003cextra\\u003e\\u003c\\u002fextra\\u003e\",\"legendgroup\":\"Accessories\",\"marker\":{\"color\":\"#EF553B\"},\"name\":\"Accessories\",\"notched\":false,\"offsetgroup\":\"Accessories\",\"orientation\":\"v\",\"showlegend\":true,\"x\":[\"Accessories\",\"Accessories\",\"Accessories\",\"Accessories\",\"Accessories\",\"Accessories\",\"Accessories\",\"Accessories\",\"Accessories\",\"Accessories\",\"Accessories\",\"Accessories\",\"Accessories\",\"Accessories\",\"Accessories\",\"Accessories\",\"Accessories\",\"Accessories\",\"Accessories\",\"Accessories\",\"Accessories\",\"Accessories\",\"Accessories\",\"Accessories\",\"Accessories\",\"Accessories\",\"Accessories\",\"Accessories\",\"Accessories\",\"Accessories\",\"Accessories\",\"Accessories\",\"Accessories\",\"Accessories\",\"Accessories\",\"Accessories\",\"Accessories\",\"Accessories\",\"Accessories\",\"Accessories\",\"Accessories\",\"Accessories\",\"Accessories\",\"Accessories\",\"Accessories\",\"Accessories\",\"Accessories\",\"Accessories\",\"Accessories\",\"Accessories\",\"Accessories\",\"Accessories\",\"Accessories\",\"Accessories\",\"Accessories\",\"Accessories\",\"Accessories\",\"Accessories\",\"Accessories\",\"Accessories\",\"Accessories\",\"Accessories\",\"Accessories\",\"Accessories\",\"Accessories\",\"Accessories\",\"Accessories\",\"Accessories\",\"Accessories\",\"Accessories\",\"Accessories\",\"Accessories\",\"Accessories\",\"Accessories\",\"Accessories\",\"Accessories\",\"Accessories\",\"Accessories\",\"Accessories\",\"Accessories\",\"Accessories\",\"Accessories\",\"Accessories\",\"Accessories\",\"Accessories\",\"Accessories\",\"Accessories\",\"Accessories\",\"Accessories\",\"Accessories\",\"Accessories\",\"Accessories\",\"Accessories\",\"Accessories\",\"Accessories\",\"Accessories\",\"Accessories\",\"Accessories\",\"Accessories\",\"Accessories\",\"Accessories\",\"Accessories\",\"Accessories\",\"Accessories\",\"Accessories\",\"Accessories\",\"Accessories\",\"Accessories\",\"Accessories\",\"Accessories\",\"Accessories\",\"Accessories\",\"Accessories\",\"Accessories\",\"Accessories\",\"Accessories\",\"Accessories\",\"Accessories\",\"Accessories\",\"Accessories\",\"Accessories\",\"Accessories\",\"Accessories\",\"Accessories\",\"Accessories\",\"Accessories\",\"Accessories\",\"Accessories\",\"Accessories\",\"Accessories\",\"Accessories\",\"Accessories\",\"Accessories\",\"Accessories\",\"Accessories\",\"Accessories\",\"Accessories\",\"Accessories\",\"Accessories\",\"Accessories\",\"Accessories\",\"Accessories\",\"Accessories\",\"Accessories\",\"Accessories\",\"Accessories\",\"Accessories\",\"Accessories\",\"Accessories\",\"Accessories\",\"Accessories\",\"Accessories\",\"Accessories\",\"Accessories\",\"Accessories\",\"Accessories\",\"Accessories\",\"Accessories\",\"Accessories\",\"Accessories\",\"Accessories\",\"Accessories\",\"Accessories\",\"Accessories\",\"Accessories\",\"Accessories\",\"Accessories\",\"Accessories\",\"Accessories\",\"Accessories\",\"Accessories\",\"Accessories\",\"Accessories\",\"Accessories\",\"Accessories\",\"Accessories\",\"Accessories\",\"Accessories\",\"Accessories\",\"Accessories\",\"Accessories\",\"Accessories\",\"Accessories\",\"Accessories\",\"Accessories\",\"Accessories\",\"Accessories\",\"Accessories\",\"Accessories\",\"Accessories\",\"Accessories\",\"Accessories\",\"Accessories\",\"Accessories\",\"Accessories\",\"Accessories\",\"Accessories\",\"Accessories\",\"Accessories\",\"Accessories\",\"Accessories\",\"Accessories\",\"Accessories\",\"Accessories\",\"Accessories\",\"Accessories\",\"Accessories\",\"Accessories\",\"Accessories\",\"Accessories\",\"Accessories\",\"Accessories\",\"Accessories\",\"Accessories\",\"Accessories\",\"Accessories\",\"Accessories\",\"Accessories\",\"Accessories\",\"Accessories\",\"Accessories\",\"Accessories\",\"Accessories\",\"Accessories\",\"Accessories\",\"Accessories\",\"Accessories\",\"Accessories\",\"Accessories\",\"Accessories\",\"Accessories\",\"Accessories\",\"Accessories\",\"Accessories\",\"Accessories\",\"Accessories\",\"Accessories\",\"Accessories\",\"Accessories\",\"Accessories\",\"Accessories\",\"Accessories\",\"Accessories\",\"Accessories\",\"Accessories\",\"Accessories\",\"Accessories\",\"Accessories\",\"Accessories\",\"Accessories\",\"Accessories\",\"Accessories\",\"Accessories\",\"Accessories\",\"Accessories\",\"Accessories\",\"Accessories\",\"Accessories\",\"Accessories\",\"Accessories\",\"Accessories\",\"Accessories\",\"Accessories\",\"Accessories\",\"Accessories\",\"Accessories\",\"Accessories\",\"Accessories\",\"Accessories\",\"Accessories\",\"Accessories\",\"Accessories\",\"Accessories\",\"Accessories\",\"Accessories\",\"Accessories\",\"Accessories\",\"Accessories\",\"Accessories\",\"Accessories\",\"Accessories\",\"Accessories\",\"Accessories\",\"Accessories\",\"Accessories\",\"Accessories\",\"Accessories\",\"Accessories\",\"Accessories\",\"Accessories\",\"Accessories\",\"Accessories\",\"Accessories\",\"Accessories\",\"Accessories\",\"Accessories\",\"Accessories\",\"Accessories\",\"Accessories\",\"Accessories\",\"Accessories\",\"Accessories\",\"Accessories\",\"Accessories\",\"Accessories\",\"Accessories\",\"Accessories\",\"Accessories\",\"Accessories\",\"Accessories\",\"Accessories\",\"Accessories\",\"Accessories\",\"Accessories\",\"Accessories\",\"Accessories\",\"Accessories\",\"Accessories\",\"Accessories\",\"Accessories\",\"Accessories\",\"Accessories\",\"Accessories\"],\"x0\":\" \",\"xaxis\":\"x\",\"y\":[577.8562386545124,116.35685777300009,676.9230321295088,99.63135802517256,973.9969392382852,165.21999059798006,581.5117297778646,639.9259165115084,174.3213591501153,365.6507005064437,839.1486042445569,809.5244106289659,830.2780980596148,175.9006112060809,960.5768428354676,334.3675609079002,451.7319768801389,419.7118119267798,491.963734876358,329.3325413759754,735.5162582967037,217.2639229230596,170.98873574297556,716.0115469702972,817.4568481659854,756.1626471354961,123.21080068428924,509.00733699528536,428.41502021009256,706.9204526194777,699.9474845541941,598.4227030005876,656.0413304166258,582.4232523032172,933.1611859605014,55.550120170477655,282.5928473970621,156.88577479940324,528.1482409156494,894.2823299135736,507.2500286265986,224.745845379606,379.9600843886796,887.8877522992144,762.2534944817729,155.67704985902708,157.86991985104015,960.8441450217668,571.6898911828644,268.03170417627774,88.78444190004102,222.09954453978065,971.3443423424744,171.83206364499208,463.04461822465487,267.7436665070698,435.3554299837257,471.7477054023494,338.1986820500195,569.4107995350533,503.2651232265301,919.8019096586984,292.22655197416066,871.1923001135178,415.9054448551698,760.7267353239007,418.1124281280669,771.8943141226347,838.8629886205317,851.9974303870356,14.84519740834114,536.6814493700732,377.5363102713125,16.52203474681114,669.6827231227553,654.1122125561479,775.3130832145554,886.6320838227986,725.0126918446899,572.8264665749082,638.9926519234365,680.7256820711744,869.7193906111021,531.7156847556334,803.2873049910376,219.40054001095652,941.6922478710442,573.1661922767884,563.9562218987116,714.216027532891,273.12176249508127,353.2825787975065,826.6466686368324,892.3631717771145,409.0292364778049,477.6958569269543,36.74798257253524,863.5416780286777,48.01062003971209,347.7600519988292,612.670878087421,336.7672535360689,826.8560779806398,886.750422829445,928.6997635880376,451.6040456225643,449.8839274073693,412.6496758944213,612.8656366381606,994.250713573364,988.7503355332844,94.1891911731902,786.9714812937796,404.9386081548725,840.2912224257318,482.3048802495497,475.2008284793069,75.5222105839532,235.5457378469021,853.1981636970959,459.1860772260465,207.694384504376,608.0074043149381,766.1165104854639,475.0120745298629,261.90591247838495,924.9669826412286,815.6308125834552,51.20968606707747,717.8891878258399,653.5541016065868,292.41128304262696,602.1965089714064,154.92105496343984,922.6436875899516,715.444588003095,282.44568354477315,453.9325700643095,139.04723820139304,825.4836013033073,175.90116534327785,95.8427328169759,524.7180269193727,975.7657696279362,746.1895595791357,97.86187510080958,379.8667178277152,714.3754926401499,304.205594188004,857.7821205069664,904.8185106786664,677.9954128576138,865.4005858063202,881.2240526016564,334.6084336013664,120.19779540191328,164.3347264336019,266.9489990131088,817.9802467109743,99.27655169486869,334.3631707018555,223.9020334664761,725.1651649755813,134.93265543698374,935.8098665578424,461.52926328098266,384.966067860826,462.12873456292095,67.5690244826069,156.31736065662946,360.4538334618287,525.0649549609989,343.9497284902326,596.0634957994819,949.7437415161282,900.6473709740354,510.55066553527774,583.073285536725,31.99081783276028,31.36737002150112,35.32604128223883,443.0130208782298,994.7307260635356,25.710165685292548,20.55793668268573,610.4120646569402,308.4454620697885,266.592073892208,703.6213390085338,127.91401389335088,166.3627694514246,509.8161030979884,434.0958088039732,944.4149063631348,973.991879808649,379.5492199435745,237.4269508729646,417.93544049427385,131.92686165590783,514.6675359736676,441.7782480901944,744.1682281404383,562.545366356209,787.6897127536951,378.9879999513933,423.3525548673288,985.7653161311716,284.456166289476,586.9907496813499,713.5865672135889,888.3349492892952,311.3005070342712,427.58143703173386,182.4226481305548,677.6795731436671,759.3906509068865,985.6025472971533,795.4958756217511,475.02825812027726,681.2330735663684,925.9098802166344,393.10834526436486,406.3409252290231,14.84519740834114,551.1962801751298,498.8302790373447,656.1753863664142,31.197902650637023,129.54489102388376,388.4742432026271,143.95511687404152,312.688755909927,400.0340173552936,499.51500154913583,70.20166386048362,177.09404820849966,597.4213063991414,800.5636745898196,72.63791711684897,566.380542336245,519.8866187961064,309.60330878892,384.6241184091997,65.89513099629785,97.43969153919728,389.2961531040271,799.9545340424617,808.6361852324719,135.51947919128713,853.724691783808,810.8248045879843,569.4817522080549,544.3887776580708,769.1680433651551,269.92538448395464,787.4631028550589,738.0956126186062,233.7443579162087,196.5944422756976,407.507755049954,449.1348466747438,517.1629616482528,368.12186407232497,888.594577273583,162.5105199744088,196.45359750069,524.617038039338,655.4729448465673,53.95925964176771,652.3847833836147,604.12191304138,554.33940237014,900.8720380873596,630.1706451722044,94.10630127466824,466.2563719915671,399.4373870840216,568.6812633361219,537.216110691097,570.2087495443978,128.55093895333587,658.81054070816,566.0125194131934,517.5985397534225,255.83670646466817,627.2987394737742,348.2550463138266,597.9239042972206,545.9880812293558,540.8925266140723,989.504962740746,147.63408586486364,849.0875895964444,593.8608849414803,998.458453723678,774.3276727540326,185.08219134101824,667.8718301492241,34.255179221024946,815.2892982499808,532.7554971811481,474.9262166276914,222.3244109633488,535.6880568284513,890.269319547627,963.8871550753996,849.6117813807781,683.3425279838,357.74064330856874,757.3322119623901,750.0067815439817,197.63224036608247,232.1320502351953,769.2789854645956,564.2977573411184,700.8949166905451,769.86540299623,825.6710688346571,664.1811312323761,343.6657719287476,858.8778608368511,265.5631861099305,931.8122092655904],\"y0\":\" \",\"yaxis\":\"y\",\"type\":\"box\"},{\"alignmentgroup\":\"True\",\"hovertemplate\":\"ProductCategory=%{x}\\u003cbr\\u003eProduct Price=%{y}\\u003cextra\\u003e\\u003c\\u002fextra\\u003e\",\"legendgroup\":\"Electronics\",\"marker\":{\"color\":\"#00CC96\"},\"name\":\"Electronics\",\"notched\":false,\"offsetgroup\":\"Electronics\",\"orientation\":\"v\",\"showlegend\":true,\"x\":[\"Electronics\",\"Electronics\",\"Electronics\",\"Electronics\",\"Electronics\",\"Electronics\",\"Electronics\",\"Electronics\",\"Electronics\",\"Electronics\",\"Electronics\",\"Electronics\",\"Electronics\",\"Electronics\",\"Electronics\",\"Electronics\",\"Electronics\",\"Electronics\",\"Electronics\",\"Electronics\",\"Electronics\",\"Electronics\",\"Electronics\",\"Electronics\",\"Electronics\",\"Electronics\",\"Electronics\",\"Electronics\",\"Electronics\",\"Electronics\",\"Electronics\",\"Electronics\",\"Electronics\",\"Electronics\",\"Electronics\",\"Electronics\",\"Electronics\",\"Electronics\",\"Electronics\",\"Electronics\",\"Electronics\",\"Electronics\",\"Electronics\",\"Electronics\",\"Electronics\",\"Electronics\",\"Electronics\",\"Electronics\",\"Electronics\",\"Electronics\",\"Electronics\",\"Electronics\",\"Electronics\",\"Electronics\",\"Electronics\",\"Electronics\",\"Electronics\",\"Electronics\",\"Electronics\",\"Electronics\",\"Electronics\",\"Electronics\",\"Electronics\",\"Electronics\",\"Electronics\",\"Electronics\",\"Electronics\",\"Electronics\",\"Electronics\",\"Electronics\",\"Electronics\",\"Electronics\",\"Electronics\",\"Electronics\",\"Electronics\",\"Electronics\",\"Electronics\",\"Electronics\",\"Electronics\",\"Electronics\",\"Electronics\",\"Electronics\",\"Electronics\",\"Electronics\",\"Electronics\",\"Electronics\",\"Electronics\",\"Electronics\",\"Electronics\",\"Electronics\",\"Electronics\",\"Electronics\",\"Electronics\",\"Electronics\",\"Electronics\",\"Electronics\",\"Electronics\",\"Electronics\",\"Electronics\",\"Electronics\",\"Electronics\",\"Electronics\",\"Electronics\",\"Electronics\",\"Electronics\",\"Electronics\",\"Electronics\",\"Electronics\",\"Electronics\",\"Electronics\",\"Electronics\",\"Electronics\",\"Electronics\",\"Electronics\",\"Electronics\",\"Electronics\",\"Electronics\",\"Electronics\",\"Electronics\",\"Electronics\",\"Electronics\",\"Electronics\",\"Electronics\",\"Electronics\",\"Electronics\",\"Electronics\",\"Electronics\",\"Electronics\",\"Electronics\",\"Electronics\",\"Electronics\",\"Electronics\",\"Electronics\",\"Electronics\",\"Electronics\",\"Electronics\",\"Electronics\",\"Electronics\",\"Electronics\",\"Electronics\",\"Electronics\",\"Electronics\",\"Electronics\",\"Electronics\",\"Electronics\",\"Electronics\",\"Electronics\",\"Electronics\",\"Electronics\",\"Electronics\",\"Electronics\",\"Electronics\",\"Electronics\",\"Electronics\",\"Electronics\",\"Electronics\",\"Electronics\",\"Electronics\",\"Electronics\",\"Electronics\",\"Electronics\",\"Electronics\",\"Electronics\",\"Electronics\",\"Electronics\",\"Electronics\",\"Electronics\",\"Electronics\",\"Electronics\",\"Electronics\",\"Electronics\",\"Electronics\",\"Electronics\",\"Electronics\",\"Electronics\",\"Electronics\",\"Electronics\",\"Electronics\",\"Electronics\",\"Electronics\",\"Electronics\",\"Electronics\",\"Electronics\",\"Electronics\",\"Electronics\",\"Electronics\",\"Electronics\",\"Electronics\",\"Electronics\",\"Electronics\",\"Electronics\",\"Electronics\",\"Electronics\",\"Electronics\",\"Electronics\",\"Electronics\",\"Electronics\",\"Electronics\",\"Electronics\",\"Electronics\",\"Electronics\",\"Electronics\",\"Electronics\",\"Electronics\",\"Electronics\",\"Electronics\",\"Electronics\",\"Electronics\",\"Electronics\",\"Electronics\",\"Electronics\",\"Electronics\",\"Electronics\",\"Electronics\",\"Electronics\",\"Electronics\",\"Electronics\",\"Electronics\",\"Electronics\",\"Electronics\",\"Electronics\",\"Electronics\",\"Electronics\",\"Electronics\",\"Electronics\",\"Electronics\",\"Electronics\",\"Electronics\",\"Electronics\",\"Electronics\",\"Electronics\",\"Electronics\",\"Electronics\",\"Electronics\",\"Electronics\",\"Electronics\",\"Electronics\",\"Electronics\",\"Electronics\",\"Electronics\",\"Electronics\",\"Electronics\",\"Electronics\",\"Electronics\",\"Electronics\",\"Electronics\",\"Electronics\",\"Electronics\",\"Electronics\",\"Electronics\",\"Electronics\",\"Electronics\",\"Electronics\",\"Electronics\",\"Electronics\",\"Electronics\",\"Electronics\",\"Electronics\",\"Electronics\",\"Electronics\",\"Electronics\",\"Electronics\",\"Electronics\",\"Electronics\",\"Electronics\",\"Electronics\",\"Electronics\",\"Electronics\",\"Electronics\",\"Electronics\",\"Electronics\",\"Electronics\",\"Electronics\",\"Electronics\",\"Electronics\",\"Electronics\",\"Electronics\",\"Electronics\",\"Electronics\",\"Electronics\",\"Electronics\",\"Electronics\",\"Electronics\",\"Electronics\",\"Electronics\",\"Electronics\",\"Electronics\",\"Electronics\",\"Electronics\",\"Electronics\",\"Electronics\",\"Electronics\",\"Electronics\",\"Electronics\",\"Electronics\",\"Electronics\",\"Electronics\",\"Electronics\",\"Electronics\",\"Electronics\",\"Electronics\",\"Electronics\",\"Electronics\",\"Electronics\",\"Electronics\",\"Electronics\",\"Electronics\",\"Electronics\",\"Electronics\",\"Electronics\",\"Electronics\",\"Electronics\",\"Electronics\",\"Electronics\",\"Electronics\",\"Electronics\",\"Electronics\",\"Electronics\",\"Electronics\",\"Electronics\",\"Electronics\",\"Electronics\",\"Electronics\",\"Electronics\",\"Electronics\",\"Electronics\",\"Electronics\",\"Electronics\",\"Electronics\",\"Electronics\",\"Electronics\",\"Electronics\",\"Electronics\",\"Electronics\",\"Electronics\",\"Electronics\",\"Electronics\",\"Electronics\",\"Electronics\",\"Electronics\",\"Electronics\",\"Electronics\"],\"x0\":\" \",\"xaxis\":\"x\",\"y\":[376.18241861094486,842.312168558943,632.6847177641231,508.0790821992,786.785822337443,983.128248754258,605.7010847226713,603.3671572910224,807.96390393661,85.40517528434157,632.7664118984538,529.9428255999408,137.90829953735368,964.1198796410068,557.2178376426638,572.1525856394586,861.5933038122084,51.93324247006166,250.65225488707136,101.02106029431994,765.0881463477857,540.4905991353231,899.3076506850588,361.70201445493615,705.1934077584151,752.3843847325568,244.12139259570407,23.091788435268136,607.6299012156677,394.6095766032079,71.48849844586992,950.8154046643482,476.2987179991737,75.14917147379688,118.76928514782712,96.58304549036646,940.4813325538412,165.72067674939413,298.7623989362292,846.720397647587,695.6683533256609,360.3541434199828,620.557665626212,685.4173986074811,423.22628608923753,579.7374093120503,766.7693872509547,250.37151914582705,548.742007519061,614.6083150637082,316.3454086523116,233.82757939530524,198.037199046358,976.0706613834792,167.69498035642596,58.70321871401568,855.6626409820557,319.8643322421112,534.2238987124558,791.5259947816262,913.8720964489954,754.1615841371548,658.0524437796362,302.533832415093,745.5588138084182,163.4131335653883,738.1548230263254,553.8323763171146,840.8990396069736,302.4056822390089,998.4760907416292,146.43477756120765,985.9385251304438,341.8296824154013,400.0275104072368,650.1633143219717,920.41654026247,614.978019535778,651.753340096377,428.191227127831,591.0255792236127,715.3338446037347,425.4028372591228,306.7925624490674,280.6045605857222,330.78512080599165,380.6617286825453,814.5165750318695,161.5819772383531,554.9960969720975,39.92535286487325,458.6587316037164,27.904666020556466,181.63156704873543,735.9059565474743,887.0394969433568,67.03849997814515,92.15271269178884,566.566700264872,977.9970563124068,333.0398693229864,62.659819720985126,376.7051331707024,288.7519484886066,392.2941689007196,617.4001458675446,322.18984823858176,860.2180975584806,843.7586479213873,710.6161205182588,14.84519740834114,74.8977034259673,848.6277787904912,559.9540739915013,62.10583501062069,186.71374504027463,584.2648057726524,835.825729113852,117.2520162430714,797.449058309166,615.2347168659693,302.5567750033535,511.5850213300896,875.2880341725552,337.480047880786,599.2298999103583,20.381486348223486,657.1886817330649,726.8518598901214,29.10205027953329,633.527842595932,104.88991047807696,862.5339611444721,875.3875627367548,175.5893437772465,227.8324675000368,440.42447748022187,432.54119636923286,203.7696713745954,323.3776823116027,804.5918672874192,756.6573184608172,807.3806556725922,160.58619172227887,231.93702184286084,924.3476563140592,553.5703999139121,701.2000627022474,171.10977726996413,583.7365592449172,362.9818989249097,305.35497395519684,429.2275011682632,552.603794201218,836.8708523096649,746.5208982428345,979.3817413868024,736.8123133546611,827.1200136489152,170.91253343127207,505.6762804341016,404.2397173795108,800.3253958336054,466.8299144341475,810.280154804855,323.1720945583219,942.4763438194552,128.44517879072086,899.3670049750507,791.2745044853431,877.2472556199559,148.49916738170026,659.6785889050793,759.9358322956998,67.28003783398091,71.09312205940077,176.39043778971535,200.123961793275,758.4724220017528,559.026716901679,721.9746222984404,327.1243119491888,783.2289056561053,491.8806718586646,978.5774141915524,922.2241771219196,472.73323329349375,53.38729600477033,761.4454819560789,83.8885175631211,767.2771950345345,118.55642008253476,293.5497995100771,798.2216678132177,171.54250998385973,415.7207663306205,779.7316416214876,901.833853168486,938.8710503965408,792.5353709230166,567.3122282226091,705.5141911109906,893.6582318702,432.1121004861006,973.2950902839395,933.822997712911,41.38896857181103,379.252238906962,865.7318344023796,534.304610180361,178.20247232844667,361.25909934096507,943.6958918573702,985.2368435308524,639.9657789793799,388.02080878147086,853.3636261792522,390.4125528913825,204.81531159248385,483.2573452530695,801.9820147435215,702.4825045678381,858.3404672769218,572.922064461553,161.13326319030915,224.3296463208308,290.2282985263072,759.0029887819818,914.195518897874,838.1166999058934,862.5118112768488,220.94598455724324,525.3526234407065,406.3800646107689,462.7442077294373,561.1583504471514,856.373306818395,638.0831921834765,374.3962733857255,198.5447696558169,77.86089019861477,539.8813889732202,625.4114347439513,859.3313909786131,993.8678126590216,317.5855803728577,667.5889881051885,940.9584171929567,606.7475291562336,708.7245283477289,178.51287837246798,868.359925487178,203.3674289767931,400.6849012286367,829.5103764524772,453.54881098820255,884.2112998949553,501.3640723442107,507.8263940938181,653.390068449994,981.6247901699252,371.98544048564656,14.84519740834114,931.4648735559008,331.11039922079493,970.0073465451812,713.1410375894055,952.1397598613188,300.84810251525755,530.5283969148003,332.01758518003027,242.57465864178693,50.43565190797379,993.9025295133576,156.22806960148705,564.8611479004991,244.17726667865315,791.1319839525247,243.685147057868,435.8314871408937,142.09088830897483,303.9882636840035,711.0295686874697,18.74223107210961,999.010433270378,144.47135137227517,987.78762518707,900.9676272371826,702.0804886997371,436.2493374249849,159.46373575709143,49.30094921284966,860.7615281638498,406.7865343595494,884.0659805433181,105.66156459311776,927.0221832618016,959.1021316048348,992.399177981404,200.9943775980825,688.0612461815732,140.058097410246,198.19549541976824,124.87760170636734,304.27807151474366,222.57676496820852,202.4135805206525,83.32312969899084,656.3239924981613,184.609555612416,486.29721126011634,331.2766329292326,399.37612669585326,616.3513091604434,591.2183903433549,205.80222216208023,851.1802451879618,400.02426444346105,487.6238151461224,598.7411930624887,373.8485512664829,806.7424529726898,215.12787977044425,927.2093066307176,551.1346729207121,998.808667581021,542.1747506117532,845.7027729109914,937.9281261287362,56.83465287603848,307.76607773689244,211.5060174595315,593.5476285919887,174.92165011715375,453.8138279622154,139.35208295295757,30.99871835928424,598.8036386689913,556.8630812008415,469.8492764353792,894.9701272027181,923.7445711447764],\"y0\":\" \",\"yaxis\":\"y\",\"type\":\"box\"}],                        {\"template\":{\"data\":{\"histogram2dcontour\":[{\"type\":\"histogram2dcontour\",\"colorbar\":{\"outlinewidth\":0,\"ticks\":\"\"},\"colorscale\":[[0.0,\"#0d0887\"],[0.1111111111111111,\"#46039f\"],[0.2222222222222222,\"#7201a8\"],[0.3333333333333333,\"#9c179e\"],[0.4444444444444444,\"#bd3786\"],[0.5555555555555556,\"#d8576b\"],[0.6666666666666666,\"#ed7953\"],[0.7777777777777778,\"#fb9f3a\"],[0.8888888888888888,\"#fdca26\"],[1.0,\"#f0f921\"]]}],\"choropleth\":[{\"type\":\"choropleth\",\"colorbar\":{\"outlinewidth\":0,\"ticks\":\"\"}}],\"histogram2d\":[{\"type\":\"histogram2d\",\"colorbar\":{\"outlinewidth\":0,\"ticks\":\"\"},\"colorscale\":[[0.0,\"#0d0887\"],[0.1111111111111111,\"#46039f\"],[0.2222222222222222,\"#7201a8\"],[0.3333333333333333,\"#9c179e\"],[0.4444444444444444,\"#bd3786\"],[0.5555555555555556,\"#d8576b\"],[0.6666666666666666,\"#ed7953\"],[0.7777777777777778,\"#fb9f3a\"],[0.8888888888888888,\"#fdca26\"],[1.0,\"#f0f921\"]]}],\"heatmap\":[{\"type\":\"heatmap\",\"colorbar\":{\"outlinewidth\":0,\"ticks\":\"\"},\"colorscale\":[[0.0,\"#0d0887\"],[0.1111111111111111,\"#46039f\"],[0.2222222222222222,\"#7201a8\"],[0.3333333333333333,\"#9c179e\"],[0.4444444444444444,\"#bd3786\"],[0.5555555555555556,\"#d8576b\"],[0.6666666666666666,\"#ed7953\"],[0.7777777777777778,\"#fb9f3a\"],[0.8888888888888888,\"#fdca26\"],[1.0,\"#f0f921\"]]}],\"heatmapgl\":[{\"type\":\"heatmapgl\",\"colorbar\":{\"outlinewidth\":0,\"ticks\":\"\"},\"colorscale\":[[0.0,\"#0d0887\"],[0.1111111111111111,\"#46039f\"],[0.2222222222222222,\"#7201a8\"],[0.3333333333333333,\"#9c179e\"],[0.4444444444444444,\"#bd3786\"],[0.5555555555555556,\"#d8576b\"],[0.6666666666666666,\"#ed7953\"],[0.7777777777777778,\"#fb9f3a\"],[0.8888888888888888,\"#fdca26\"],[1.0,\"#f0f921\"]]}],\"contourcarpet\":[{\"type\":\"contourcarpet\",\"colorbar\":{\"outlinewidth\":0,\"ticks\":\"\"}}],\"contour\":[{\"type\":\"contour\",\"colorbar\":{\"outlinewidth\":0,\"ticks\":\"\"},\"colorscale\":[[0.0,\"#0d0887\"],[0.1111111111111111,\"#46039f\"],[0.2222222222222222,\"#7201a8\"],[0.3333333333333333,\"#9c179e\"],[0.4444444444444444,\"#bd3786\"],[0.5555555555555556,\"#d8576b\"],[0.6666666666666666,\"#ed7953\"],[0.7777777777777778,\"#fb9f3a\"],[0.8888888888888888,\"#fdca26\"],[1.0,\"#f0f921\"]]}],\"surface\":[{\"type\":\"surface\",\"colorbar\":{\"outlinewidth\":0,\"ticks\":\"\"},\"colorscale\":[[0.0,\"#0d0887\"],[0.1111111111111111,\"#46039f\"],[0.2222222222222222,\"#7201a8\"],[0.3333333333333333,\"#9c179e\"],[0.4444444444444444,\"#bd3786\"],[0.5555555555555556,\"#d8576b\"],[0.6666666666666666,\"#ed7953\"],[0.7777777777777778,\"#fb9f3a\"],[0.8888888888888888,\"#fdca26\"],[1.0,\"#f0f921\"]]}],\"mesh3d\":[{\"type\":\"mesh3d\",\"colorbar\":{\"outlinewidth\":0,\"ticks\":\"\"}}],\"scatter\":[{\"fillpattern\":{\"fillmode\":\"overlay\",\"size\":10,\"solidity\":0.2},\"type\":\"scatter\"}],\"parcoords\":[{\"type\":\"parcoords\",\"line\":{\"colorbar\":{\"outlinewidth\":0,\"ticks\":\"\"}}}],\"scatterpolargl\":[{\"type\":\"scatterpolargl\",\"marker\":{\"colorbar\":{\"outlinewidth\":0,\"ticks\":\"\"}}}],\"bar\":[{\"error_x\":{\"color\":\"#2a3f5f\"},\"error_y\":{\"color\":\"#2a3f5f\"},\"marker\":{\"line\":{\"color\":\"#E5ECF6\",\"width\":0.5},\"pattern\":{\"fillmode\":\"overlay\",\"size\":10,\"solidity\":0.2}},\"type\":\"bar\"}],\"scattergeo\":[{\"type\":\"scattergeo\",\"marker\":{\"colorbar\":{\"outlinewidth\":0,\"ticks\":\"\"}}}],\"scatterpolar\":[{\"type\":\"scatterpolar\",\"marker\":{\"colorbar\":{\"outlinewidth\":0,\"ticks\":\"\"}}}],\"histogram\":[{\"marker\":{\"pattern\":{\"fillmode\":\"overlay\",\"size\":10,\"solidity\":0.2}},\"type\":\"histogram\"}],\"scattergl\":[{\"type\":\"scattergl\",\"marker\":{\"colorbar\":{\"outlinewidth\":0,\"ticks\":\"\"}}}],\"scatter3d\":[{\"type\":\"scatter3d\",\"line\":{\"colorbar\":{\"outlinewidth\":0,\"ticks\":\"\"}},\"marker\":{\"colorbar\":{\"outlinewidth\":0,\"ticks\":\"\"}}}],\"scattermapbox\":[{\"type\":\"scattermapbox\",\"marker\":{\"colorbar\":{\"outlinewidth\":0,\"ticks\":\"\"}}}],\"scatterternary\":[{\"type\":\"scatterternary\",\"marker\":{\"colorbar\":{\"outlinewidth\":0,\"ticks\":\"\"}}}],\"scattercarpet\":[{\"type\":\"scattercarpet\",\"marker\":{\"colorbar\":{\"outlinewidth\":0,\"ticks\":\"\"}}}],\"carpet\":[{\"aaxis\":{\"endlinecolor\":\"#2a3f5f\",\"gridcolor\":\"white\",\"linecolor\":\"white\",\"minorgridcolor\":\"white\",\"startlinecolor\":\"#2a3f5f\"},\"baxis\":{\"endlinecolor\":\"#2a3f5f\",\"gridcolor\":\"white\",\"linecolor\":\"white\",\"minorgridcolor\":\"white\",\"startlinecolor\":\"#2a3f5f\"},\"type\":\"carpet\"}],\"table\":[{\"cells\":{\"fill\":{\"color\":\"#EBF0F8\"},\"line\":{\"color\":\"white\"}},\"header\":{\"fill\":{\"color\":\"#C8D4E3\"},\"line\":{\"color\":\"white\"}},\"type\":\"table\"}],\"barpolar\":[{\"marker\":{\"line\":{\"color\":\"#E5ECF6\",\"width\":0.5},\"pattern\":{\"fillmode\":\"overlay\",\"size\":10,\"solidity\":0.2}},\"type\":\"barpolar\"}],\"pie\":[{\"automargin\":true,\"type\":\"pie\"}]},\"layout\":{\"autotypenumbers\":\"strict\",\"colorway\":[\"#636efa\",\"#EF553B\",\"#00cc96\",\"#ab63fa\",\"#FFA15A\",\"#19d3f3\",\"#FF6692\",\"#B6E880\",\"#FF97FF\",\"#FECB52\"],\"font\":{\"color\":\"#2a3f5f\"},\"hovermode\":\"closest\",\"hoverlabel\":{\"align\":\"left\"},\"paper_bgcolor\":\"white\",\"plot_bgcolor\":\"#E5ECF6\",\"polar\":{\"bgcolor\":\"#E5ECF6\",\"angularaxis\":{\"gridcolor\":\"white\",\"linecolor\":\"white\",\"ticks\":\"\"},\"radialaxis\":{\"gridcolor\":\"white\",\"linecolor\":\"white\",\"ticks\":\"\"}},\"ternary\":{\"bgcolor\":\"#E5ECF6\",\"aaxis\":{\"gridcolor\":\"white\",\"linecolor\":\"white\",\"ticks\":\"\"},\"baxis\":{\"gridcolor\":\"white\",\"linecolor\":\"white\",\"ticks\":\"\"},\"caxis\":{\"gridcolor\":\"white\",\"linecolor\":\"white\",\"ticks\":\"\"}},\"coloraxis\":{\"colorbar\":{\"outlinewidth\":0,\"ticks\":\"\"}},\"colorscale\":{\"sequential\":[[0.0,\"#0d0887\"],[0.1111111111111111,\"#46039f\"],[0.2222222222222222,\"#7201a8\"],[0.3333333333333333,\"#9c179e\"],[0.4444444444444444,\"#bd3786\"],[0.5555555555555556,\"#d8576b\"],[0.6666666666666666,\"#ed7953\"],[0.7777777777777778,\"#fb9f3a\"],[0.8888888888888888,\"#fdca26\"],[1.0,\"#f0f921\"]],\"sequentialminus\":[[0.0,\"#0d0887\"],[0.1111111111111111,\"#46039f\"],[0.2222222222222222,\"#7201a8\"],[0.3333333333333333,\"#9c179e\"],[0.4444444444444444,\"#bd3786\"],[0.5555555555555556,\"#d8576b\"],[0.6666666666666666,\"#ed7953\"],[0.7777777777777778,\"#fb9f3a\"],[0.8888888888888888,\"#fdca26\"],[1.0,\"#f0f921\"]],\"diverging\":[[0,\"#8e0152\"],[0.1,\"#c51b7d\"],[0.2,\"#de77ae\"],[0.3,\"#f1b6da\"],[0.4,\"#fde0ef\"],[0.5,\"#f7f7f7\"],[0.6,\"#e6f5d0\"],[0.7,\"#b8e186\"],[0.8,\"#7fbc41\"],[0.9,\"#4d9221\"],[1,\"#276419\"]]},\"xaxis\":{\"gridcolor\":\"white\",\"linecolor\":\"white\",\"ticks\":\"\",\"title\":{\"standoff\":15},\"zerolinecolor\":\"white\",\"automargin\":true,\"zerolinewidth\":2},\"yaxis\":{\"gridcolor\":\"white\",\"linecolor\":\"white\",\"ticks\":\"\",\"title\":{\"standoff\":15},\"zerolinecolor\":\"white\",\"automargin\":true,\"zerolinewidth\":2},\"scene\":{\"xaxis\":{\"backgroundcolor\":\"#E5ECF6\",\"gridcolor\":\"white\",\"linecolor\":\"white\",\"showbackground\":true,\"ticks\":\"\",\"zerolinecolor\":\"white\",\"gridwidth\":2},\"yaxis\":{\"backgroundcolor\":\"#E5ECF6\",\"gridcolor\":\"white\",\"linecolor\":\"white\",\"showbackground\":true,\"ticks\":\"\",\"zerolinecolor\":\"white\",\"gridwidth\":2},\"zaxis\":{\"backgroundcolor\":\"#E5ECF6\",\"gridcolor\":\"white\",\"linecolor\":\"white\",\"showbackground\":true,\"ticks\":\"\",\"zerolinecolor\":\"white\",\"gridwidth\":2}},\"shapedefaults\":{\"line\":{\"color\":\"#2a3f5f\"}},\"annotationdefaults\":{\"arrowcolor\":\"#2a3f5f\",\"arrowhead\":0,\"arrowwidth\":1},\"geo\":{\"bgcolor\":\"white\",\"landcolor\":\"#E5ECF6\",\"subunitcolor\":\"white\",\"showland\":true,\"showlakes\":true,\"lakecolor\":\"white\"},\"title\":{\"x\":0.05},\"mapbox\":{\"style\":\"light\"}}},\"xaxis\":{\"anchor\":\"y\",\"domain\":[0.0,1.0],\"title\":{\"text\":\"Product Category\"},\"categoryorder\":\"array\",\"categoryarray\":[\"Clothing\",\"Accessories\",\"Electronics\"],\"tickangle\":-45},\"yaxis\":{\"anchor\":\"x\",\"domain\":[0.0,1.0],\"title\":{\"text\":\"Product Price\"}},\"legend\":{\"title\":{\"text\":\"ProductCategory\"},\"tracegroupgap\":0},\"title\":{\"text\":\"Box Plot of Product Prices by Category\",\"x\":0.5},\"boxmode\":\"overlay\"},                        {\"responsive\": true}                    ).then(function(){\n",
              "                            \n",
              "var gd = document.getElementById('cc256dc1-3fc4-4943-96ec-66a0185fec39');\n",
              "var x = new MutationObserver(function (mutations, observer) {{\n",
              "        var display = window.getComputedStyle(gd).display;\n",
              "        if (!display || display === 'none') {{\n",
              "            console.log([gd, 'removed!']);\n",
              "            Plotly.purge(gd);\n",
              "            observer.disconnect();\n",
              "        }}\n",
              "}});\n",
              "\n",
              "// Listen for the removal of the full notebook cells\n",
              "var notebookContainer = gd.closest('#notebook-container');\n",
              "if (notebookContainer) {{\n",
              "    x.observe(notebookContainer, {childList: true});\n",
              "}}\n",
              "\n",
              "// Listen for the clearing of the current output cell\n",
              "var outputEl = gd.closest('.output');\n",
              "if (outputEl) {{\n",
              "    x.observe(outputEl, {childList: true});\n",
              "}}\n",
              "\n",
              "                        })                };                            </script>        </div>\n",
              "</body>\n",
              "</html>"
            ]
          },
          "metadata": {}
        }
      ]
    },
    {
      "cell_type": "code",
      "source": [
        "# Check WeekDays when customer are more likely to purchase a product\n",
        "\n",
        "# Extract day and hour from PurchaseDate\n",
        "\n",
        "dataset['DayOfWeek'] = dataset['PurchaseDate'].dt.day_name()\n",
        "dataset['Hour'] = dataset['PurchaseDate'].dt.hour\n",
        "\n",
        "# Sales by day and hour\n",
        "\n",
        "heatmap_data = dataset.groupby(['DayOfWeek', 'Hour'])['TotalPrice'].sum().reset_index()\n",
        "\n",
        "# Plot our figure\n",
        "\n",
        "fig = px.imshow(\n",
        "    heatmap_data.pivot(index='DayOfWeek', columns='Hour', values='TotalPrice'),\n",
        "    title='Heatmap of Total Sales by Day and Hour',\n",
        "    labels=dict(x=\"Hour of Day\", y=\"Day of Week\", color=\"Total Sales\"),\n",
        "    color_continuous_scale='Cividis'\n",
        ")\n",
        "\n",
        "fig.update_layout(xaxis_title='Hour of Day',\n",
        "                  yaxis_title='Day of Week',\n",
        "                  title_x=0.5)\n",
        "#Print it out\n",
        "\n",
        "fig.show()"
      ],
      "metadata": {
        "colab": {
          "base_uri": "https://localhost:8080/",
          "height": 542
        },
        "id": "-T759pFuxaAm",
        "outputId": "134b23eb-66ac-43b4-8d42-42981d8d387b"
      },
      "execution_count": 1014,
      "outputs": [
        {
          "output_type": "display_data",
          "data": {
            "text/html": [
              "<html>\n",
              "<head><meta charset=\"utf-8\" /></head>\n",
              "<body>\n",
              "    <div>            <script src=\"https://cdnjs.cloudflare.com/ajax/libs/mathjax/2.7.5/MathJax.js?config=TeX-AMS-MML_SVG\"></script><script type=\"text/javascript\">if (window.MathJax && window.MathJax.Hub && window.MathJax.Hub.Config) {window.MathJax.Hub.Config({SVG: {font: \"STIX-Web\"}});}</script>                <script type=\"text/javascript\">window.PlotlyConfig = {MathJaxConfig: 'local'};</script>\n",
              "        <script charset=\"utf-8\" src=\"https://cdn.plot.ly/plotly-2.24.1.min.js\"></script>                <div id=\"c6a15a5e-295f-42e9-a75f-e92430d5541b\" class=\"plotly-graph-div\" style=\"height:525px; width:100%;\"></div>            <script type=\"text/javascript\">                                    window.PLOTLYENV=window.PLOTLYENV || {};                                    if (document.getElementById(\"c6a15a5e-295f-42e9-a75f-e92430d5541b\")) {                    Plotly.newPlot(                        \"c6a15a5e-295f-42e9-a75f-e92430d5541b\",                        [{\"coloraxis\":\"coloraxis\",\"name\":\"0\",\"x\":[0,1,2,3,4,5,6,7,8,9,10,11,12,13,14,15,16,17,18,19,20,21,22,23],\"y\":[\"Friday\",\"Monday\",\"Saturday\",\"Sunday\",\"Thursday\",\"Tuesday\",\"Wednesday\"],\"z\":[[-0.8887872085792816,-0.36626605854453365,-2.1304491017211356,-6.244985908305708,3.022623344592898,-4.72157717383852,0.0031432570468848953,0.4428454082306382,0.6030359166268082,0.7408999849908433,-4.227608668419691,-2.2262817122068435,3.1325965483107208,0.3359897426108931,-0.0789474250623245,2.2698022027459546,-0.031727123860210094,0.47133735165857404,0.035005974301625775,-1.410097960873864,-0.5543631312189892,2.882032651451939,-4.545240348458218,0.7201250429724713],[0.6495908031413747,-2.238991758218078,-3.601154676439292,2.6165755191537796,-0.08876422464251166,1.6449516168380791,-0.26037669412352993,3.126362839283872,1.820289234899357,-1.7516247478366531,3.072038687837861,-1.2503750857723763,-1.3493434735077086,-4.892849786517022,-1.5076854050325996,3.6922129354506636,1.8946560773183414,4.2272437672265895,4.059607503008213,3.9047053643286547,-2.9996098874162542,0.3379682982481875,1.5768401867338748,2.4763290057275893],[1.2595611389327657,-2.429418876434795,-1.2255515439627518,-1.606193085434529,-1.6643760024147094,-2.1252765485627103,-0.37796431911893846,1.0737287420902166,3.2874573728030962,-0.2236421583994619,-0.7921747282955333,4.682196599844623,-3.9273701862252293,-0.0795420635089521,3.4233711058822283,-0.2946766880023368,3.67608080634399,-0.5014113815506949,0.7328349680888371,-0.7394406838696864,-1.2771285166603907,-1.838249437126197,-0.7472866301373766,-1.603333317044798],[-3.4614045604226575,1.5741577296094338,2.4683089086734773,2.1559532307066838,1.9646046807557687,0.956879145820251,3.431342609641052,2.075636060658873,0.27486654427417745,1.1713232119216537,-0.012774450153652972,0.480554803917996,0.6363093328142535,-1.522977956132971,-0.5206229774382811,0.3955389354277036,-1.71965068561555,1.1024588295302293,2.966912549475562,-1.6502875606169478,1.6023191072072234,-1.6952708876621512,-3.358303854008952,-0.007103608461170086],[0.8846876706619315,0.5132639896074123,2.1965619721410437,1.0714795913525905,3.793896776831837,3.344146730597833,1.3262256982393388,1.2701841083049588,0.028589470326012223,1.0758497803840412,-5.005239798812048,-1.8215750104781434,1.8185613365417297,0.4981215210729112,-1.1795280996818367,-2.0996039714376096,-2.2865539151141654,-2.134456558167442,-0.37178661674985714,-2.026818452187705,0.019215764624773368,1.6794770973613098,1.004140525415318,-0.6149055070212679],[-0.15626394246247965,1.1447215269632514,-4.077005460211855,3.234233436030046,-4.950847653538314,-3.58541762304527,-1.2453812202845662,1.8511259890185723,-0.295815665028483,-1.2722807328110592,4.877042958731959,-0.82589218547238,0.1687057022342081,1.331738698678302,2.5878105079395985,0.060450615733083524,-2.62440214684794,-0.32082829189218,-1.0251484646641946,-0.06987727682608916,-5.43402663544693,2.4450974150791875,0.15181386412068987,1.573588450153826],[1.2743673663279442,0.39268717818472143,-1.1612937533906442,-3.7890663542456267,2.0935654844131717,1.7842285451561413,5.60034015422241,-1.7507533348201538,-1.9741086874078997,1.0279998107628523,-3.389854368930774,4.540647358802191,2.4053475566384406,-3.5760740289159276,-0.9881122806211443,0.6434964632021918,-1.31684262084053,1.0884332130978145,-3.118859368476691,-3.753674018564851,1.3195688541579194,-1.540015747834249,-0.11937957172761249,-0.6023892304535606]],\"type\":\"heatmap\",\"xaxis\":\"x\",\"yaxis\":\"y\",\"hovertemplate\":\"Hour of Day: %{x}\\u003cbr\\u003eDay of Week: %{y}\\u003cbr\\u003eTotal Sales: %{z}\\u003cextra\\u003e\\u003c\\u002fextra\\u003e\"}],                        {\"template\":{\"data\":{\"histogram2dcontour\":[{\"type\":\"histogram2dcontour\",\"colorbar\":{\"outlinewidth\":0,\"ticks\":\"\"},\"colorscale\":[[0.0,\"#0d0887\"],[0.1111111111111111,\"#46039f\"],[0.2222222222222222,\"#7201a8\"],[0.3333333333333333,\"#9c179e\"],[0.4444444444444444,\"#bd3786\"],[0.5555555555555556,\"#d8576b\"],[0.6666666666666666,\"#ed7953\"],[0.7777777777777778,\"#fb9f3a\"],[0.8888888888888888,\"#fdca26\"],[1.0,\"#f0f921\"]]}],\"choropleth\":[{\"type\":\"choropleth\",\"colorbar\":{\"outlinewidth\":0,\"ticks\":\"\"}}],\"histogram2d\":[{\"type\":\"histogram2d\",\"colorbar\":{\"outlinewidth\":0,\"ticks\":\"\"},\"colorscale\":[[0.0,\"#0d0887\"],[0.1111111111111111,\"#46039f\"],[0.2222222222222222,\"#7201a8\"],[0.3333333333333333,\"#9c179e\"],[0.4444444444444444,\"#bd3786\"],[0.5555555555555556,\"#d8576b\"],[0.6666666666666666,\"#ed7953\"],[0.7777777777777778,\"#fb9f3a\"],[0.8888888888888888,\"#fdca26\"],[1.0,\"#f0f921\"]]}],\"heatmap\":[{\"type\":\"heatmap\",\"colorbar\":{\"outlinewidth\":0,\"ticks\":\"\"},\"colorscale\":[[0.0,\"#0d0887\"],[0.1111111111111111,\"#46039f\"],[0.2222222222222222,\"#7201a8\"],[0.3333333333333333,\"#9c179e\"],[0.4444444444444444,\"#bd3786\"],[0.5555555555555556,\"#d8576b\"],[0.6666666666666666,\"#ed7953\"],[0.7777777777777778,\"#fb9f3a\"],[0.8888888888888888,\"#fdca26\"],[1.0,\"#f0f921\"]]}],\"heatmapgl\":[{\"type\":\"heatmapgl\",\"colorbar\":{\"outlinewidth\":0,\"ticks\":\"\"},\"colorscale\":[[0.0,\"#0d0887\"],[0.1111111111111111,\"#46039f\"],[0.2222222222222222,\"#7201a8\"],[0.3333333333333333,\"#9c179e\"],[0.4444444444444444,\"#bd3786\"],[0.5555555555555556,\"#d8576b\"],[0.6666666666666666,\"#ed7953\"],[0.7777777777777778,\"#fb9f3a\"],[0.8888888888888888,\"#fdca26\"],[1.0,\"#f0f921\"]]}],\"contourcarpet\":[{\"type\":\"contourcarpet\",\"colorbar\":{\"outlinewidth\":0,\"ticks\":\"\"}}],\"contour\":[{\"type\":\"contour\",\"colorbar\":{\"outlinewidth\":0,\"ticks\":\"\"},\"colorscale\":[[0.0,\"#0d0887\"],[0.1111111111111111,\"#46039f\"],[0.2222222222222222,\"#7201a8\"],[0.3333333333333333,\"#9c179e\"],[0.4444444444444444,\"#bd3786\"],[0.5555555555555556,\"#d8576b\"],[0.6666666666666666,\"#ed7953\"],[0.7777777777777778,\"#fb9f3a\"],[0.8888888888888888,\"#fdca26\"],[1.0,\"#f0f921\"]]}],\"surface\":[{\"type\":\"surface\",\"colorbar\":{\"outlinewidth\":0,\"ticks\":\"\"},\"colorscale\":[[0.0,\"#0d0887\"],[0.1111111111111111,\"#46039f\"],[0.2222222222222222,\"#7201a8\"],[0.3333333333333333,\"#9c179e\"],[0.4444444444444444,\"#bd3786\"],[0.5555555555555556,\"#d8576b\"],[0.6666666666666666,\"#ed7953\"],[0.7777777777777778,\"#fb9f3a\"],[0.8888888888888888,\"#fdca26\"],[1.0,\"#f0f921\"]]}],\"mesh3d\":[{\"type\":\"mesh3d\",\"colorbar\":{\"outlinewidth\":0,\"ticks\":\"\"}}],\"scatter\":[{\"fillpattern\":{\"fillmode\":\"overlay\",\"size\":10,\"solidity\":0.2},\"type\":\"scatter\"}],\"parcoords\":[{\"type\":\"parcoords\",\"line\":{\"colorbar\":{\"outlinewidth\":0,\"ticks\":\"\"}}}],\"scatterpolargl\":[{\"type\":\"scatterpolargl\",\"marker\":{\"colorbar\":{\"outlinewidth\":0,\"ticks\":\"\"}}}],\"bar\":[{\"error_x\":{\"color\":\"#2a3f5f\"},\"error_y\":{\"color\":\"#2a3f5f\"},\"marker\":{\"line\":{\"color\":\"#E5ECF6\",\"width\":0.5},\"pattern\":{\"fillmode\":\"overlay\",\"size\":10,\"solidity\":0.2}},\"type\":\"bar\"}],\"scattergeo\":[{\"type\":\"scattergeo\",\"marker\":{\"colorbar\":{\"outlinewidth\":0,\"ticks\":\"\"}}}],\"scatterpolar\":[{\"type\":\"scatterpolar\",\"marker\":{\"colorbar\":{\"outlinewidth\":0,\"ticks\":\"\"}}}],\"histogram\":[{\"marker\":{\"pattern\":{\"fillmode\":\"overlay\",\"size\":10,\"solidity\":0.2}},\"type\":\"histogram\"}],\"scattergl\":[{\"type\":\"scattergl\",\"marker\":{\"colorbar\":{\"outlinewidth\":0,\"ticks\":\"\"}}}],\"scatter3d\":[{\"type\":\"scatter3d\",\"line\":{\"colorbar\":{\"outlinewidth\":0,\"ticks\":\"\"}},\"marker\":{\"colorbar\":{\"outlinewidth\":0,\"ticks\":\"\"}}}],\"scattermapbox\":[{\"type\":\"scattermapbox\",\"marker\":{\"colorbar\":{\"outlinewidth\":0,\"ticks\":\"\"}}}],\"scatterternary\":[{\"type\":\"scatterternary\",\"marker\":{\"colorbar\":{\"outlinewidth\":0,\"ticks\":\"\"}}}],\"scattercarpet\":[{\"type\":\"scattercarpet\",\"marker\":{\"colorbar\":{\"outlinewidth\":0,\"ticks\":\"\"}}}],\"carpet\":[{\"aaxis\":{\"endlinecolor\":\"#2a3f5f\",\"gridcolor\":\"white\",\"linecolor\":\"white\",\"minorgridcolor\":\"white\",\"startlinecolor\":\"#2a3f5f\"},\"baxis\":{\"endlinecolor\":\"#2a3f5f\",\"gridcolor\":\"white\",\"linecolor\":\"white\",\"minorgridcolor\":\"white\",\"startlinecolor\":\"#2a3f5f\"},\"type\":\"carpet\"}],\"table\":[{\"cells\":{\"fill\":{\"color\":\"#EBF0F8\"},\"line\":{\"color\":\"white\"}},\"header\":{\"fill\":{\"color\":\"#C8D4E3\"},\"line\":{\"color\":\"white\"}},\"type\":\"table\"}],\"barpolar\":[{\"marker\":{\"line\":{\"color\":\"#E5ECF6\",\"width\":0.5},\"pattern\":{\"fillmode\":\"overlay\",\"size\":10,\"solidity\":0.2}},\"type\":\"barpolar\"}],\"pie\":[{\"automargin\":true,\"type\":\"pie\"}]},\"layout\":{\"autotypenumbers\":\"strict\",\"colorway\":[\"#636efa\",\"#EF553B\",\"#00cc96\",\"#ab63fa\",\"#FFA15A\",\"#19d3f3\",\"#FF6692\",\"#B6E880\",\"#FF97FF\",\"#FECB52\"],\"font\":{\"color\":\"#2a3f5f\"},\"hovermode\":\"closest\",\"hoverlabel\":{\"align\":\"left\"},\"paper_bgcolor\":\"white\",\"plot_bgcolor\":\"#E5ECF6\",\"polar\":{\"bgcolor\":\"#E5ECF6\",\"angularaxis\":{\"gridcolor\":\"white\",\"linecolor\":\"white\",\"ticks\":\"\"},\"radialaxis\":{\"gridcolor\":\"white\",\"linecolor\":\"white\",\"ticks\":\"\"}},\"ternary\":{\"bgcolor\":\"#E5ECF6\",\"aaxis\":{\"gridcolor\":\"white\",\"linecolor\":\"white\",\"ticks\":\"\"},\"baxis\":{\"gridcolor\":\"white\",\"linecolor\":\"white\",\"ticks\":\"\"},\"caxis\":{\"gridcolor\":\"white\",\"linecolor\":\"white\",\"ticks\":\"\"}},\"coloraxis\":{\"colorbar\":{\"outlinewidth\":0,\"ticks\":\"\"}},\"colorscale\":{\"sequential\":[[0.0,\"#0d0887\"],[0.1111111111111111,\"#46039f\"],[0.2222222222222222,\"#7201a8\"],[0.3333333333333333,\"#9c179e\"],[0.4444444444444444,\"#bd3786\"],[0.5555555555555556,\"#d8576b\"],[0.6666666666666666,\"#ed7953\"],[0.7777777777777778,\"#fb9f3a\"],[0.8888888888888888,\"#fdca26\"],[1.0,\"#f0f921\"]],\"sequentialminus\":[[0.0,\"#0d0887\"],[0.1111111111111111,\"#46039f\"],[0.2222222222222222,\"#7201a8\"],[0.3333333333333333,\"#9c179e\"],[0.4444444444444444,\"#bd3786\"],[0.5555555555555556,\"#d8576b\"],[0.6666666666666666,\"#ed7953\"],[0.7777777777777778,\"#fb9f3a\"],[0.8888888888888888,\"#fdca26\"],[1.0,\"#f0f921\"]],\"diverging\":[[0,\"#8e0152\"],[0.1,\"#c51b7d\"],[0.2,\"#de77ae\"],[0.3,\"#f1b6da\"],[0.4,\"#fde0ef\"],[0.5,\"#f7f7f7\"],[0.6,\"#e6f5d0\"],[0.7,\"#b8e186\"],[0.8,\"#7fbc41\"],[0.9,\"#4d9221\"],[1,\"#276419\"]]},\"xaxis\":{\"gridcolor\":\"white\",\"linecolor\":\"white\",\"ticks\":\"\",\"title\":{\"standoff\":15},\"zerolinecolor\":\"white\",\"automargin\":true,\"zerolinewidth\":2},\"yaxis\":{\"gridcolor\":\"white\",\"linecolor\":\"white\",\"ticks\":\"\",\"title\":{\"standoff\":15},\"zerolinecolor\":\"white\",\"automargin\":true,\"zerolinewidth\":2},\"scene\":{\"xaxis\":{\"backgroundcolor\":\"#E5ECF6\",\"gridcolor\":\"white\",\"linecolor\":\"white\",\"showbackground\":true,\"ticks\":\"\",\"zerolinecolor\":\"white\",\"gridwidth\":2},\"yaxis\":{\"backgroundcolor\":\"#E5ECF6\",\"gridcolor\":\"white\",\"linecolor\":\"white\",\"showbackground\":true,\"ticks\":\"\",\"zerolinecolor\":\"white\",\"gridwidth\":2},\"zaxis\":{\"backgroundcolor\":\"#E5ECF6\",\"gridcolor\":\"white\",\"linecolor\":\"white\",\"showbackground\":true,\"ticks\":\"\",\"zerolinecolor\":\"white\",\"gridwidth\":2}},\"shapedefaults\":{\"line\":{\"color\":\"#2a3f5f\"}},\"annotationdefaults\":{\"arrowcolor\":\"#2a3f5f\",\"arrowhead\":0,\"arrowwidth\":1},\"geo\":{\"bgcolor\":\"white\",\"landcolor\":\"#E5ECF6\",\"subunitcolor\":\"white\",\"showland\":true,\"showlakes\":true,\"lakecolor\":\"white\"},\"title\":{\"x\":0.05},\"mapbox\":{\"style\":\"light\"}}},\"xaxis\":{\"anchor\":\"y\",\"domain\":[0.0,1.0],\"scaleanchor\":\"y\",\"constrain\":\"domain\",\"title\":{\"text\":\"Hour of Day\"}},\"yaxis\":{\"anchor\":\"x\",\"domain\":[0.0,1.0],\"autorange\":\"reversed\",\"constrain\":\"domain\",\"title\":{\"text\":\"Day of Week\"}},\"coloraxis\":{\"colorbar\":{\"title\":{\"text\":\"Total Sales\"}},\"colorscale\":[[0.0,\"#00224e\"],[0.1111111111111111,\"#123570\"],[0.2222222222222222,\"#3b496c\"],[0.3333333333333333,\"#575d6d\"],[0.4444444444444444,\"#707173\"],[0.5555555555555556,\"#8a8678\"],[0.6666666666666666,\"#a59c74\"],[0.7777777777777778,\"#c3b369\"],[0.8888888888888888,\"#e1cc55\"],[1.0,\"#fee838\"]]},\"title\":{\"text\":\"Heatmap of Total Sales by Day and Hour\",\"x\":0.5}},                        {\"responsive\": true}                    ).then(function(){\n",
              "                            \n",
              "var gd = document.getElementById('c6a15a5e-295f-42e9-a75f-e92430d5541b');\n",
              "var x = new MutationObserver(function (mutations, observer) {{\n",
              "        var display = window.getComputedStyle(gd).display;\n",
              "        if (!display || display === 'none') {{\n",
              "            console.log([gd, 'removed!']);\n",
              "            Plotly.purge(gd);\n",
              "            observer.disconnect();\n",
              "        }}\n",
              "}});\n",
              "\n",
              "// Listen for the removal of the full notebook cells\n",
              "var notebookContainer = gd.closest('#notebook-container');\n",
              "if (notebookContainer) {{\n",
              "    x.observe(notebookContainer, {childList: true});\n",
              "}}\n",
              "\n",
              "// Listen for the clearing of the current output cell\n",
              "var outputEl = gd.closest('.output');\n",
              "if (outputEl) {{\n",
              "    x.observe(outputEl, {childList: true});\n",
              "}}\n",
              "\n",
              "                        })                };                            </script>        </div>\n",
              "</body>\n",
              "</html>"
            ]
          },
          "metadata": {}
        }
      ]
    },
    {
      "cell_type": "markdown",
      "source": [
        "#Build Machine Learning Model"
      ],
      "metadata": {
        "id": "xlpYEvanwVeo"
      }
    },
    {
      "cell_type": "code",
      "source": [
        "# Define features and target variable\n",
        "\n",
        "X = dataset[['ProductPrice', 'Quantity']]\n",
        "y = dataset['TotalPrice']"
      ],
      "metadata": {
        "id": "MpvmIvfcwIzB"
      },
      "execution_count": 1015,
      "outputs": []
    },
    {
      "cell_type": "code",
      "source": [
        "# Split our dataset into training and testing sets\n",
        "\n",
        "X_train, X_test, y_train, y_test = train_test_split(X, y, test_size=0.2, random_state=42)"
      ],
      "metadata": {
        "id": "JlnFvukt0WAE"
      },
      "execution_count": 1016,
      "outputs": []
    },
    {
      "cell_type": "code",
      "source": [
        "# Initialize the Huber Regressor model which is robust to handle outliers\n",
        "\n",
        "huber_model = HuberRegressor()\n",
        "\n",
        "# Fit the model on our training data\n",
        "\n",
        "huber_model.fit(X_train, y_train)\n",
        "\n",
        "# Predict on our test data\n",
        "\n",
        "y_pred = huber_model.predict(X_test)\n"
      ],
      "metadata": {
        "id": "4h2C5MgL0Zr1"
      },
      "execution_count": 1017,
      "outputs": []
    },
    {
      "cell_type": "markdown",
      "source": [
        "#Evaluating the Machine Learning Model"
      ],
      "metadata": {
        "id": "NDyN7btY05pK"
      }
    },
    {
      "cell_type": "code",
      "source": [
        "# Calculate Mean Squared Error (MSE)\n",
        "\n",
        "_mse = mean_squared_error(y_test, y_pred)\n",
        "\n",
        "# Calculate R-squared\n",
        "\n",
        "_r2 = r2_score(y_test, y_pred)\n",
        "\n",
        "# Calculate MAE\n",
        "\n",
        "_mae = mean_absolute_error(y_test, y_pred)\n",
        "\n",
        "# Calculate RMSE\n",
        "\n",
        "_rmse = np.sqrt(mean_squared_error(y_test, y_pred))\n",
        "\n",
        "\n",
        "print('---------------------------------------------------------------')\n",
        "print(f\"Mean Squared Error (MSE): {_mse:.2f}\")\n",
        "print('---------------------------------------------------------------')\n",
        "print(f\"R-squared: {_r2:.2f}\")\n",
        "print('---------------------------------------------------------------')\n",
        "print(f\"Mean Absolute Error (MAE): {_mae:.2f}\")\n",
        "print('---------------------------------------------------------------')\n",
        "print(f\"Root Mean Squared Error (RMSE): {_rmse:.2f}\")\n",
        "print('---------------------------------------------------------------')\n"
      ],
      "metadata": {
        "colab": {
          "base_uri": "https://localhost:8080/"
        },
        "id": "RFIewpA11DNL",
        "outputId": "beb3c3b7-e643-4bd8-c3a4-3debdfff51f4"
      },
      "execution_count": 1021,
      "outputs": [
        {
          "output_type": "stream",
          "name": "stdout",
          "text": [
            "---------------------------------------------------------------\n",
            "Mean Squared Error (MSE): 0.06\n",
            "---------------------------------------------------------------\n",
            "R-squared: 0.93\n",
            "---------------------------------------------------------------\n",
            "Mean Absolute Error (MAE): 0.18\n",
            "---------------------------------------------------------------\n",
            "Root Mean Squared Error (RMSE): 0.25\n",
            "---------------------------------------------------------------\n"
          ]
        }
      ]
    },
    {
      "cell_type": "code",
      "source": [
        "# Differnce between Actual and predicted values\n",
        "\n",
        "plt.figure(figsize=(10, 6))\n",
        "plt.scatter(y_test, y_pred_huber, color='blue', label='Predicted vs Actual')\n",
        "plt.plot([y.min(), y.max()], [y.min(), y.max()], color='red', linestyle='--', label='Perfect Fit')\n",
        "plt.xlabel('Actual Total Price')\n",
        "plt.ylabel('Predicted Total Price')\n",
        "plt.title('Actual vs Predicted Total Price')\n",
        "plt.legend()\n",
        "plt.grid(True)\n",
        "plt.show()"
      ],
      "metadata": {
        "colab": {
          "base_uri": "https://localhost:8080/",
          "height": 564
        },
        "id": "_000TVkI1ukv",
        "outputId": "a59bfc24-f621-4ac1-a9be-8f3ec0e77297"
      },
      "execution_count": 1019,
      "outputs": [
        {
          "output_type": "display_data",
          "data": {
            "text/plain": [
              "<Figure size 1000x600 with 1 Axes>"
            ],
            "image/png": "[encoded data removed]"
          },
          "metadata": {}
        }
      ]
    }
  ]
}